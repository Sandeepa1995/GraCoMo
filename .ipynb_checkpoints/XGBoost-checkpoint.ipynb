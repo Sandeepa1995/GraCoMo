{
 "cells": [
  {
   "cell_type": "code",
   "execution_count": 1,
   "id": "9299b7d5-ee95-4233-90cf-1eab5e098303",
   "metadata": {},
   "outputs": [],
   "source": [
    "# import torch"
   ]
  },
  {
   "cell_type": "code",
   "execution_count": null,
   "id": "48373749-0595-43df-94c3-dd28f9a472f7",
   "metadata": {},
   "outputs": [],
   "source": [
    "# real_path = \"/home/damitha/PycharmProjects/GraCoMo/real_data/\"\n",
    "# dataset = \"cora_full\"\n",
    "# n = 19793 \n",
    "\n",
    "# src_nodes = torch.load(real_path + dataset + \"_src_nodes.pt\")\n",
    "# dst_nodes = torch.load(real_path + dataset + \"_dst_nodes.pt\")"
   ]
  },
  {
   "cell_type": "code",
   "execution_count": 2,
   "id": "eca9a4a8-addd-42f3-a5db-cf08819b0592",
   "metadata": {},
   "outputs": [
    {
     "data": {
      "text/plain": [
       "array([[3., 3., 3.],\n",
       "       [3., 3., 3.]])"
      ]
     },
     "execution_count": 2,
     "metadata": {},
     "output_type": "execute_result"
    }
   ],
   "source": [
    "import numpy as np\n",
    "3*np.ones((2,3))"
   ]
  },
  {
   "cell_type": "code",
   "execution_count": 1,
   "id": "342fa7fb-e855-4772-ad3f-02b07e52550e",
   "metadata": {},
   "outputs": [],
   "source": [
    "import pandas as pd\n",
    "import numpy as np\n",
    "import subprocess\n",
    "import os"
   ]
  },
  {
   "cell_type": "code",
   "execution_count": 2,
   "id": "bdcb2ff3-e00e-4c23-9ba6-7b6bcfe14cbf",
   "metadata": {},
   "outputs": [],
   "source": [
    "min_nodes = 1000\n",
    "max_nodes = 100000\n",
    "\n",
    "min_mul_edge = 10\n",
    "max_mul_edge = 1000\n",
    "\n",
    "graphs_at_config = [\n",
    "    [\"0.45\", \"0.22\", \"0.22\"],\n",
    "    [\"0.7\", \"0.1\", \"0.1\"],\n",
    "    [\"0.25\", \"0.25\", \"0.25\"],\n",
    "    [\"0.40\", \"0.40\", \"0.1\"],\n",
    "    [\"0.3\", \"0.3\", \"0.3\"]\n",
    "]\n",
    "\n",
    "base_csv_path = r'/home/damitha/PycharmProjects/GraCoMo/csv_data/data_'\n",
    "base_file_path = r'/home/damitha/PycharmProjects/GraCoMo/data_save2/out'\n",
    "base_mtx_path = r'/home/damitha/PycharmProjects/GraCoMo/data_save_mtx/out_'"
   ]
  },
  {
   "cell_type": "code",
   "execution_count": 3,
   "id": "7edc02fa-e6f4-48bb-8816-fb9255269399",
   "metadata": {},
   "outputs": [],
   "source": [
    "# for x in graphs_at_config:\n",
    "#     nodes = min_nodes\n",
    "#     while nodes <= max_nodes:\n",
    "#         mul = min_mul_edge\n",
    "#         while mul <= max_mul_edge:\n",
    "#             edges = nodes * mul\n",
    "#             s0 = str(nodes) + '_' + str(edges) + '_' + x[0] + '_' + x[1] + '_' + x[2]\n",
    "#             s1 = s0 + '.el' \n",
    "#             s = base_file_path + s1\n",
    "#             exi = os.path.exists(s)\n",
    "            \n",
    "#             if (exi):\n",
    "#                 f = open(base_mtx_path + s0 + '.mtx', \"w\")\n",
    "#                 print('Writing to', base_mtx_path + s0 + '.mtx', \"w\")\n",
    "#                 f.write('%%MatrixMarket matrix coordinate real general\\n')\n",
    "#                 f.write(str(nodes) + ' ' + str(nodes) + ' ' + str(edges) + ' ' + '\\n')\n",
    "#                 with open(s, mode='r') as file:\n",
    "#                     for ln in file:\n",
    "#                         ln0 = list(map(int, ln.split()))\n",
    "#                         f.write(str(ln0[0] + 1) + ' ' + str(ln0[1] + 1) + '\\n')\n",
    "#                 f.close()\n",
    "# #             break\n",
    "#             mul *= 10\n",
    "# #         break    \n",
    "#         nodes*=10\n",
    "# #     break"
   ]
  },
  {
   "cell_type": "code",
   "execution_count": 4,
   "id": "1deed13d-43b5-4aaa-99f6-5ffb4877e0c4",
   "metadata": {},
   "outputs": [],
   "source": [
    "approx_path = r'/home/damitha/CLionProjects/SparseAcc/sw_lib/cmake-build-release/tests/approx_test'"
   ]
  },
  {
   "cell_type": "code",
   "execution_count": 5,
   "id": "da40c57c-e6d6-4a3d-ae34-643fc3d41845",
   "metadata": {},
   "outputs": [
    {
     "name": "stdout",
     "output_type": "stream",
     "text": [
      "[0.0, 191.0, 14.9612, 6.64698, 0.99437, 3.37874, 0.45, 0.22, 0.22] \t\t\t 1000_10000_0.45_0.22_0.22\n",
      "[0.0, 1747.0, 147.492, 6.18982, 0.925981, 5.11359, 0.45, 0.22, 0.22] \t\t\t 1000_100000_0.45_0.22_0.22\n",
      "[0.0, 322.0, 21.0083, 8.41121, 0.987556, 3.52353, 0.45, 0.22, 0.22] \t\t\t 10000_100000_0.45_0.22_0.22\n",
      "[0.0, 3695.0, 209.879, 7.87838, 0.924997, 5.64639, 0.45, 0.22, 0.22] \t\t\t 10000_1000000_0.45_0.22_0.22\n",
      "[0.0, 36326.0, 2090.54, 7.82755, 0.91903, 7.29188, 0.45, 0.22, 0.22] \t\t\t 10000_10000000_0.45_0.22_0.22\n",
      "[0.0, 1122.0, 34.8321, 10.0059, 0.9706, 3.7827, 0.45, 0.22, 0.22] \t\t\t 100000_1000000_0.45_0.22_0.22\n",
      "[0.0, 11104.0, 343.701, 9.5272, 0.924168, 5.90676, 0.45, 0.22, 0.22] \t\t\t 100000_10000000_0.45_0.22_0.22\n",
      "[0.0, 110422.0, 3450.0, 9.47538, 0.91914, 7.72697, 0.45, 0.22, 0.22] \t\t\t 100000_100000000_0.45_0.22_0.22\n",
      "[0.0, 1031.0, 48.1785, 5.51511, 0.825046, 2.71938, 0.7, 0.1, 0.1] \t\t\t 1000_10000_0.7_0.1_0.1\n",
      "[0.0, 10633.0, 499.303, 4.97221, 0.743829, 4.28042, 0.7, 0.1, 0.1] \t\t\t 1000_100000_0.7_0.1_0.1\n",
      "[0.0, 4294.0, 88.1576, 6.93166, 0.813843, 2.68276, 0.7, 0.1, 0.1] \t\t\t 10000_100000_0.7_0.1_0.1\n",
      "[0.0, 43275.0, 883.03, 6.38832, 0.75005, 4.54988, 0.7, 0.1, 0.1] \t\t\t 10000_1000000_0.7_0.1_0.1\n",
      "[0.0, 441892.0, 9311.41, 6.24561, 0.733294, 6.16153, 0.7, 0.1, 0.1] \t\t\t 10000_10000000_0.7_0.1_0.1\n",
      "[0.0, 22954.0, 206.774, 8.14096, 0.789698, 2.83268, 0.7, 0.1, 0.1] \t\t\t 100000_1000000_0.7_0.1_0.1\n",
      "[0.0, 230310.0, 2074.33, 7.71044, 0.747936, 4.78705, 0.7, 0.1, 0.1] \t\t\t 100000_10000000_0.7_0.1_0.1\n",
      "[0.0, 2326988.0, 21405.7, 7.6007, 0.737292, 6.38384, 0.7, 0.1, 0.1] \t\t\t 100000_100000000_0.7_0.1_0.1\n",
      "[0.0, 32.0, 3.5867, 7.16816, 1.07234, 2.56488, 0.25, 0.25, 0.25] \t\t\t 1000_10000_0.25_0.25_0.25\n",
      "[0.0, 222.0, 19.5197, 6.70495, 1.00304, 3.74005, 0.25, 0.25, 0.25] \t\t\t 1000_100000_0.25_0.25_0.25\n",
      "[0.0, 27.0, 4.28595, 9.17543, 1.07728, 2.8476, 0.25, 0.25, 0.25] \t\t\t 10000_100000_0.25_0.25_0.25\n",
      "[0.0, 163.0, 30.909, 8.5402, 1.0027, 4.3348, 0.25, 0.25, 0.25] \t\t\t 10000_1000000_0.25_0.25_0.25\n",
      "[0.0, 1345.0, 295.625, 8.47603, 0.995167, 5.48293, 0.25, 0.25, 0.25] \t\t\t 10000_10000000_0.25_0.25_0.25\n",
      "[0.0, 30.0, 4.76129, 11.1367, 1.08029, 2.88411, 0.25, 0.25, 0.25] \t\t\t 100000_1000000_0.25_0.25_0.25\n",
      "[0.0, 201.0, 36.7572, 10.3394, 1.00295, 4.30755, 0.25, 0.25, 0.25] \t\t\t 100000_10000000_0.25_0.25_0.25\n",
      "[0.0, 1672.0, 354.137, 10.2598, 0.995234, 5.4523, 0.25, 0.25, 0.25] \t\t\t 100000_100000000_0.25_0.25_0.25\n",
      "[0.0, 29.0, 3.65684, 7.16702, 1.07217, 2.62256, 0.4, 0.4, 0.1] \t\t\t 1000_10000_0.40_0.40_0.1\n",
      "[0.0, 239.0, 18.8288, 6.70593, 1.00319, 3.79093, 0.4, 0.4, 0.1] \t\t\t 1000_100000_0.40_0.40_0.1\n",
      "[0.0, 26.0, 4.13746, 9.1824, 1.0781, 2.77884, 0.4, 0.4, 0.1] \t\t\t 10000_100000_0.40_0.40_0.1\n",
      "[0.0, 161.0, 27.9687, 8.5498, 1.00383, 4.45366, 0.4, 0.4, 0.1] \t\t\t 10000_1000000_0.40_0.40_0.1\n",
      "[0.0, 1378.0, 262.063, 8.4863, 0.996372, 6.22716, 0.4, 0.4, 0.1] \t\t\t 10000_10000000_0.40_0.40_0.1\n",
      "[0.0, 32.0, 4.52418, 11.1427, 1.08088, 2.81061, 0.4, 0.4, 0.1] \t\t\t 100000_1000000_0.40_0.40_0.1\n",
      "[0.0, 211.0, 32.7818, 10.3517, 1.00414, 4.50941, 0.4, 0.4, 0.1] \t\t\t 100000_10000000_0.40_0.40_0.1\n",
      "[0.0, 1674.0, 321.69, 10.2697, 0.996192, 6.04479, 0.4, 0.4, 0.1] \t\t\t 100000_100000000_0.40_0.40_0.1\n",
      "[0.0, 62.0, 8.28263, 6.95067, 1.0398, 3.23908, 0.3, 0.3, 0.3] \t\t\t 1000_10000_0.3_0.3_0.3\n",
      "[0.0, 612.0, 74.9714, 6.51984, 0.975351, 5.07621, 0.3, 0.3, 0.3] \t\t\t 1000_100000_0.3_0.3_0.3\n",
      "[0.0, 92.0, 10.3311, 8.85421, 1.03957, 3.43223, 0.3, 0.3, 0.3] \t\t\t 10000_100000_0.3_0.3_0.3\n",
      "[0.0, 896.0, 98.0493, 8.30414, 0.974986, 5.59068, 0.3, 0.3, 0.3] \t\t\t 10000_1000000_0.3_0.3_0.3\n",
      "[0.0, 8798.0, 988.721, 8.24385, 0.967907, 7.33988, 0.3, 0.3, 0.3] \t\t\t 10000_10000000_0.3_0.3_0.3\n",
      "[0.0, 223.0, 14.2503, 10.6068, 1.02889, 3.64127, 0.3, 0.3, 0.3] \t\t\t 100000_1000000_0.3_0.3_0.3\n",
      "[0.0, 1897.0, 135.22, 10.0499, 0.974874, 5.79209, 0.3, 0.3, 0.3] \t\t\t 100000_10000000_0.3_0.3_0.3\n",
      "[0.0, 19425.0, 1384.22, 9.97991, 0.968082, 7.59847, 0.3, 0.3, 0.3] \t\t\t 100000_100000000_0.3_0.3_0.3\n"
     ]
    }
   ],
   "source": [
    "map_feats = {}\n",
    "\n",
    "for x in graphs_at_config:\n",
    "    nodes = min_nodes\n",
    "    while nodes <= max_nodes:\n",
    "        mul = min_mul_edge\n",
    "        while mul <= max_mul_edge:\n",
    "            edges = nodes * mul\n",
    "            s0 = str(nodes) + '_' + str(edges) + '_' + x[0] + '_' + x[1] + '_' + x[2]\n",
    "            s1 = s0 + '.mtx' \n",
    "            s = base_mtx_path + s1\n",
    "            exi = os.path.exists(s)\n",
    "            \n",
    "            if (exi):\n",
    "                cmd = [approx_path, s]\n",
    "                res4 = subprocess.Popen(cmd, stdout=subprocess.PIPE)\n",
    "                lline = '';\n",
    "                for line in iter(res4.stdout.readline, b''):\n",
    "                    lline = line.rstrip().decode('utf-8')\n",
    "#                 print(line)\n",
    "                print(list(map(float, lline.split() + [x[0], x[1], x[2]])), '\\t\\t\\t', s0)\n",
    "                map_feats[s0] = list(map(float, lline.split() + [x[0], x[1], x[2]]))\n",
    "#             break\n",
    "            mul *= 10\n",
    "#         break    \n",
    "        nodes*=10\n",
    "#     break"
   ]
  },
  {
   "cell_type": "code",
   "execution_count": 6,
   "id": "065dc445-b048-4519-8447-5c9796097a03",
   "metadata": {},
   "outputs": [
    {
     "name": "stdout",
     "output_type": "stream",
     "text": [
      "/home/damitha/PycharmProjects/GraCoMo/csv_data/data_1000_10000_0.45_0.22_0.22\n",
      "/home/damitha/PycharmProjects/GraCoMo/csv_data/data_1000_100000_0.45_0.22_0.22\n",
      "/home/damitha/PycharmProjects/GraCoMo/csv_data/data_1000_1000000_0.45_0.22_0.22\n",
      "/home/damitha/PycharmProjects/GraCoMo/csv_data/data_10000_100000_0.45_0.22_0.22\n",
      "/home/damitha/PycharmProjects/GraCoMo/csv_data/data_10000_1000000_0.45_0.22_0.22\n",
      "/home/damitha/PycharmProjects/GraCoMo/csv_data/data_10000_10000000_0.45_0.22_0.22\n",
      "/home/damitha/PycharmProjects/GraCoMo/csv_data/data_100000_1000000_0.45_0.22_0.22\n",
      "/home/damitha/PycharmProjects/GraCoMo/csv_data/data_100000_10000000_0.45_0.22_0.22\n",
      "/home/damitha/PycharmProjects/GraCoMo/csv_data/data_100000_100000000_0.45_0.22_0.22\n",
      "/home/damitha/PycharmProjects/GraCoMo/csv_data/data_1000_10000_0.7_0.1_0.1\n",
      "/home/damitha/PycharmProjects/GraCoMo/csv_data/data_1000_100000_0.7_0.1_0.1\n",
      "/home/damitha/PycharmProjects/GraCoMo/csv_data/data_1000_1000000_0.7_0.1_0.1\n",
      "/home/damitha/PycharmProjects/GraCoMo/csv_data/data_10000_100000_0.7_0.1_0.1\n",
      "/home/damitha/PycharmProjects/GraCoMo/csv_data/data_10000_1000000_0.7_0.1_0.1\n",
      "/home/damitha/PycharmProjects/GraCoMo/csv_data/data_10000_10000000_0.7_0.1_0.1\n",
      "/home/damitha/PycharmProjects/GraCoMo/csv_data/data_100000_1000000_0.7_0.1_0.1\n",
      "/home/damitha/PycharmProjects/GraCoMo/csv_data/data_100000_10000000_0.7_0.1_0.1\n",
      "/home/damitha/PycharmProjects/GraCoMo/csv_data/data_100000_100000000_0.7_0.1_0.1\n",
      "/home/damitha/PycharmProjects/GraCoMo/csv_data/data_1000_10000_0.25_0.25_0.25\n",
      "/home/damitha/PycharmProjects/GraCoMo/csv_data/data_1000_100000_0.25_0.25_0.25\n",
      "/home/damitha/PycharmProjects/GraCoMo/csv_data/data_1000_1000000_0.25_0.25_0.25\n",
      "/home/damitha/PycharmProjects/GraCoMo/csv_data/data_10000_100000_0.25_0.25_0.25\n",
      "/home/damitha/PycharmProjects/GraCoMo/csv_data/data_10000_1000000_0.25_0.25_0.25\n",
      "/home/damitha/PycharmProjects/GraCoMo/csv_data/data_10000_10000000_0.25_0.25_0.25\n",
      "/home/damitha/PycharmProjects/GraCoMo/csv_data/data_100000_1000000_0.25_0.25_0.25\n",
      "/home/damitha/PycharmProjects/GraCoMo/csv_data/data_100000_10000000_0.25_0.25_0.25\n",
      "/home/damitha/PycharmProjects/GraCoMo/csv_data/data_100000_100000000_0.25_0.25_0.25\n",
      "/home/damitha/PycharmProjects/GraCoMo/csv_data/data_1000_10000_0.40_0.40_0.1\n",
      "/home/damitha/PycharmProjects/GraCoMo/csv_data/data_1000_100000_0.40_0.40_0.1\n",
      "/home/damitha/PycharmProjects/GraCoMo/csv_data/data_1000_1000000_0.40_0.40_0.1\n",
      "/home/damitha/PycharmProjects/GraCoMo/csv_data/data_10000_100000_0.40_0.40_0.1\n",
      "/home/damitha/PycharmProjects/GraCoMo/csv_data/data_10000_1000000_0.40_0.40_0.1\n",
      "/home/damitha/PycharmProjects/GraCoMo/csv_data/data_10000_10000000_0.40_0.40_0.1\n",
      "/home/damitha/PycharmProjects/GraCoMo/csv_data/data_100000_1000000_0.40_0.40_0.1\n",
      "/home/damitha/PycharmProjects/GraCoMo/csv_data/data_100000_10000000_0.40_0.40_0.1\n",
      "/home/damitha/PycharmProjects/GraCoMo/csv_data/data_100000_100000000_0.40_0.40_0.1\n",
      "/home/damitha/PycharmProjects/GraCoMo/csv_data/data_1000_10000_0.3_0.3_0.3\n",
      "/home/damitha/PycharmProjects/GraCoMo/csv_data/data_1000_100000_0.3_0.3_0.3\n",
      "/home/damitha/PycharmProjects/GraCoMo/csv_data/data_1000_1000000_0.3_0.3_0.3\n",
      "/home/damitha/PycharmProjects/GraCoMo/csv_data/data_10000_100000_0.3_0.3_0.3\n",
      "/home/damitha/PycharmProjects/GraCoMo/csv_data/data_10000_1000000_0.3_0.3_0.3\n",
      "/home/damitha/PycharmProjects/GraCoMo/csv_data/data_10000_10000000_0.3_0.3_0.3\n",
      "/home/damitha/PycharmProjects/GraCoMo/csv_data/data_100000_1000000_0.3_0.3_0.3\n",
      "/home/damitha/PycharmProjects/GraCoMo/csv_data/data_100000_10000000_0.3_0.3_0.3\n",
      "/home/damitha/PycharmProjects/GraCoMo/csv_data/data_100000_100000000_0.3_0.3_0.3\n"
     ]
    }
   ],
   "source": [
    "all_csvs = pd.DataFrame()\n",
    "\n",
    "for x in graphs_at_config:\n",
    "    nodes = min_nodes\n",
    "    while nodes <= max_nodes:\n",
    "        mul = min_mul_edge\n",
    "        while mul <= max_mul_edge:\n",
    "            edges = nodes * mul\n",
    "            s0 = str(nodes) + '_' + str(edges) + '_' + x[0] + '_' + x[1] + '_' + x[2]\n",
    "            s = base_csv_path + s0\n",
    "            print(s)\n",
    "            exi = os.path.exists(s)\n",
    "            \n",
    "            if (exi):\n",
    "                df = pd.read_csv(s)\n",
    "                df['min_deg'] = map_feats[s0][0]\n",
    "                df['max_deg'] = map_feats[s0][1]\n",
    "                df['std_deg'] = map_feats[s0][2]\n",
    "                df['e_entr'] = map_feats[s0][3]\n",
    "                df['norm_e_entr'] = map_feats[s0][4]\n",
    "                df['d_entr'] = map_feats[s0][5]\n",
    "                df['a'] = map_feats[s0][6]\n",
    "                df['b'] = map_feats[s0][7]\n",
    "                df['c'] = map_feats[s0][8]\n",
    "                all_csvs = all_csvs.append(df)\n",
    "#             break\n",
    "            mul *= 10\n",
    "#         break    \n",
    "        nodes*=10\n",
    "#     break"
   ]
  },
  {
   "cell_type": "code",
   "execution_count": 54,
   "id": "d4ec7cf9-d662-45c0-bd31-1c639faf8be3",
   "metadata": {},
   "outputs": [],
   "source": [
    "all_csvs1 = all_csvs"
   ]
  },
  {
   "cell_type": "code",
   "execution_count": 55,
   "id": "cb67f9dd-6d77-4b49-8725-43395d98045a",
   "metadata": {},
   "outputs": [
    {
     "name": "stdout",
     "output_type": "stream",
     "text": [
      "      1_direction  2_parallel  2_grain  3_densevert  3_vertset  3_direction  \\\n",
      "0               0           0        0            0          1            4   \n",
      "1               0           1        8            1          1            4   \n",
      "2               1           3        1            1          1            4   \n",
      "3               1           3        1            1          1            5   \n",
      "4               1           3        1            1          2            0   \n",
      "...           ...         ...      ...          ...        ...          ...   \n",
      "1483            1           3        1            1          0            5   \n",
      "1484            1           3        1            1          1            0   \n",
      "1485            1           3        1            1          1            1   \n",
      "1486            1           3        1            1          1            2   \n",
      "1487            1           3        1            1          1            3   \n",
      "\n",
      "       nodes      edges        rt                          name  min_deg  \\\n",
      "0       1000      10000  0.000032     1000_10000_0.45_0.22_0.22      0.0   \n",
      "1       1000      10000  0.000030     1000_10000_0.45_0.22_0.22      0.0   \n",
      "2       1000      10000  0.000038     1000_10000_0.45_0.22_0.22      0.0   \n",
      "3       1000      10000  0.000036     1000_10000_0.45_0.22_0.22      0.0   \n",
      "4       1000      10000  0.000035     1000_10000_0.45_0.22_0.22      0.0   \n",
      "...      ...        ...       ...                           ...      ...   \n",
      "1483  100000  100000000  0.054490  100000_100000000_0.3_0.3_0.3      0.0   \n",
      "1484  100000  100000000  0.050904  100000_100000000_0.3_0.3_0.3      0.0   \n",
      "1485  100000  100000000  0.055318  100000_100000000_0.3_0.3_0.3      0.0   \n",
      "1486  100000  100000000  0.050127  100000_100000000_0.3_0.3_0.3      0.0   \n",
      "1487  100000  100000000  0.049767  100000_100000000_0.3_0.3_0.3      0.0   \n",
      "\n",
      "      max_deg    std_deg   e_entr  norm_e_entr   d_entr     a     b     c  \n",
      "0       191.0    14.9612  6.64698     0.994370  3.37874  0.45  0.22  0.22  \n",
      "1       191.0    14.9612  6.64698     0.994370  3.37874  0.45  0.22  0.22  \n",
      "2       191.0    14.9612  6.64698     0.994370  3.37874  0.45  0.22  0.22  \n",
      "3       191.0    14.9612  6.64698     0.994370  3.37874  0.45  0.22  0.22  \n",
      "4       191.0    14.9612  6.64698     0.994370  3.37874  0.45  0.22  0.22  \n",
      "...       ...        ...      ...          ...      ...   ...   ...   ...  \n",
      "1483  19425.0  1384.2200  9.97991     0.968082  7.59847  0.30  0.30  0.30  \n",
      "1484  19425.0  1384.2200  9.97991     0.968082  7.59847  0.30  0.30  0.30  \n",
      "1485  19425.0  1384.2200  9.97991     0.968082  7.59847  0.30  0.30  0.30  \n",
      "1486  19425.0  1384.2200  9.97991     0.968082  7.59847  0.30  0.30  0.30  \n",
      "1487  19425.0  1384.2200  9.97991     0.968082  7.59847  0.30  0.30  0.30  \n",
      "\n",
      "[59520 rows x 19 columns]\n"
     ]
    }
   ],
   "source": [
    "print(all_csvs1)"
   ]
  },
  {
   "cell_type": "code",
   "execution_count": 56,
   "id": "a0c2a37a-3d4c-4093-9860-96e426888e6a",
   "metadata": {},
   "outputs": [],
   "source": [
    "all_csvs1 = all_csvs1.drop(columns=['name'])\n",
    "\n",
    "all_csvs1 = all_csvs1.drop(columns=['a'])\n",
    "all_csvs1 = all_csvs1.drop(columns=['b'])\n",
    "all_csvs1 = all_csvs1.drop(columns=['c'])\n",
    "# all_csvs1 = all_csvs1.drop(columns=['min'])\n",
    "# all_csvs1 = all_csvs1.drop(columns=['max'])\n",
    "# all_csvs1 = all_csvs1.drop(columns=['std'])\n",
    "# all_csvs1 = all_csvs1.drop(columns=['e_entr'])\n",
    "all_csvs1 = all_csvs1.drop(columns=['norm_e_entr'])\n",
    "# all_csvs1 = all_csvs1.drop(columns=['d_entr'])\n",
    "# all_csvs1 = all_csvs1.drop(columns=['nodes'])\n",
    "# all_csvs1 = all_csvs1.drop(columns=['edges'])"
   ]
  },
  {
   "cell_type": "code",
   "execution_count": 57,
   "id": "0f51db44-1087-4e64-a812-4dab11e9c153",
   "metadata": {},
   "outputs": [],
   "source": [
    "df1 = all_csvs1.pop('rt')*1000\n",
    "df2 = np.log10(df1)\n",
    "all_csvs1['rt'] = df1\n",
    "all_csvs1['lrt'] = df2"
   ]
  },
  {
   "cell_type": "code",
   "execution_count": 58,
   "id": "fa3ff3cf-5e3b-4370-95e0-269bf2392033",
   "metadata": {},
   "outputs": [
    {
     "data": {
      "text/plain": [
       "0        0.0317\n",
       "1        0.0297\n",
       "2        0.0381\n",
       "3        0.0359\n",
       "4        0.0353\n",
       "         ...   \n",
       "1483    54.4903\n",
       "1484    50.9036\n",
       "1485    55.3179\n",
       "1486    50.1270\n",
       "1487    49.7669\n",
       "Name: rt, Length: 59520, dtype: float64"
      ]
     },
     "execution_count": 58,
     "metadata": {},
     "output_type": "execute_result"
    }
   ],
   "source": [
    "df1"
   ]
  },
  {
   "cell_type": "code",
   "execution_count": 59,
   "id": "eb0d93eb-a42e-48d4-b2e0-3297c74c73f0",
   "metadata": {},
   "outputs": [
    {
     "name": "stdout",
     "output_type": "stream",
     "text": [
      "      1_direction  2_parallel  2_grain  3_densevert  3_vertset  3_direction  \\\n",
      "0               0           0        0            0          1            4   \n",
      "1               0           1        8            1          1            4   \n",
      "2               1           3        1            1          1            4   \n",
      "3               1           3        1            1          1            5   \n",
      "4               1           3        1            1          2            0   \n",
      "...           ...         ...      ...          ...        ...          ...   \n",
      "1483            1           3        1            1          0            5   \n",
      "1484            1           3        1            1          1            0   \n",
      "1485            1           3        1            1          1            1   \n",
      "1486            1           3        1            1          1            2   \n",
      "1487            1           3        1            1          1            3   \n",
      "\n",
      "       nodes      edges  min_deg  max_deg    std_deg   e_entr   d_entr  \\\n",
      "0       1000      10000      0.0    191.0    14.9612  6.64698  3.37874   \n",
      "1       1000      10000      0.0    191.0    14.9612  6.64698  3.37874   \n",
      "2       1000      10000      0.0    191.0    14.9612  6.64698  3.37874   \n",
      "3       1000      10000      0.0    191.0    14.9612  6.64698  3.37874   \n",
      "4       1000      10000      0.0    191.0    14.9612  6.64698  3.37874   \n",
      "...      ...        ...      ...      ...        ...      ...      ...   \n",
      "1483  100000  100000000      0.0  19425.0  1384.2200  9.97991  7.59847   \n",
      "1484  100000  100000000      0.0  19425.0  1384.2200  9.97991  7.59847   \n",
      "1485  100000  100000000      0.0  19425.0  1384.2200  9.97991  7.59847   \n",
      "1486  100000  100000000      0.0  19425.0  1384.2200  9.97991  7.59847   \n",
      "1487  100000  100000000      0.0  19425.0  1384.2200  9.97991  7.59847   \n",
      "\n",
      "           rt       lrt  \n",
      "0      0.0317 -1.498941  \n",
      "1      0.0297 -1.527244  \n",
      "2      0.0381 -1.419075  \n",
      "3      0.0359 -1.444906  \n",
      "4      0.0353 -1.452225  \n",
      "...       ...       ...  \n",
      "1483  54.4903  1.736319  \n",
      "1484  50.9036  1.706748  \n",
      "1485  55.3179  1.742866  \n",
      "1486  50.1270  1.700072  \n",
      "1487  49.7669  1.696941  \n",
      "\n",
      "[59520 rows x 15 columns]\n"
     ]
    }
   ],
   "source": [
    "print(all_csvs1)"
   ]
  },
  {
   "cell_type": "code",
   "execution_count": 60,
   "id": "89b5fb20-019f-4342-95bb-21e1f6f12677",
   "metadata": {},
   "outputs": [
    {
     "name": "stdout",
     "output_type": "stream",
     "text": [
      "<class 'pandas.core.frame.DataFrame'>\n",
      "Int64Index: 59520 entries, 0 to 1487\n",
      "Data columns (total 15 columns):\n",
      " #   Column       Non-Null Count  Dtype  \n",
      "---  ------       --------------  -----  \n",
      " 0   1_direction  59520 non-null  int64  \n",
      " 1   2_parallel   59520 non-null  int64  \n",
      " 2   2_grain      59520 non-null  int64  \n",
      " 3   3_densevert  59520 non-null  int64  \n",
      " 4   3_vertset    59520 non-null  int64  \n",
      " 5   3_direction  59520 non-null  int64  \n",
      " 6   nodes        59520 non-null  int64  \n",
      " 7   edges        59520 non-null  int64  \n",
      " 8   min_deg      59520 non-null  float64\n",
      " 9   max_deg      59520 non-null  float64\n",
      " 10  std_deg      59520 non-null  float64\n",
      " 11  e_entr       59520 non-null  float64\n",
      " 12  d_entr       59520 non-null  float64\n",
      " 13  rt           59520 non-null  float64\n",
      " 14  lrt          59520 non-null  float64\n",
      "dtypes: float64(7), int64(8)\n",
      "memory usage: 7.3 MB\n"
     ]
    }
   ],
   "source": [
    "all_csvs1.info()"
   ]
  },
  {
   "cell_type": "code",
   "execution_count": 61,
   "id": "1495b229-a4c8-4852-b3d2-1cc146595f2a",
   "metadata": {},
   "outputs": [
    {
     "data": {
      "text/html": [
       "<div>\n",
       "<style scoped>\n",
       "    .dataframe tbody tr th:only-of-type {\n",
       "        vertical-align: middle;\n",
       "    }\n",
       "\n",
       "    .dataframe tbody tr th {\n",
       "        vertical-align: top;\n",
       "    }\n",
       "\n",
       "    .dataframe thead th {\n",
       "        text-align: right;\n",
       "    }\n",
       "</style>\n",
       "<table border=\"1\" class=\"dataframe\">\n",
       "  <thead>\n",
       "    <tr style=\"text-align: right;\">\n",
       "      <th></th>\n",
       "      <th>1_direction</th>\n",
       "      <th>2_parallel</th>\n",
       "      <th>2_grain</th>\n",
       "      <th>3_densevert</th>\n",
       "      <th>3_vertset</th>\n",
       "      <th>3_direction</th>\n",
       "      <th>nodes</th>\n",
       "      <th>edges</th>\n",
       "      <th>min_deg</th>\n",
       "      <th>max_deg</th>\n",
       "      <th>std_deg</th>\n",
       "      <th>e_entr</th>\n",
       "      <th>d_entr</th>\n",
       "      <th>rt</th>\n",
       "      <th>lrt</th>\n",
       "    </tr>\n",
       "  </thead>\n",
       "  <tbody>\n",
       "    <tr>\n",
       "      <th>count</th>\n",
       "      <td>59520.000000</td>\n",
       "      <td>59520.000000</td>\n",
       "      <td>59520.000000</td>\n",
       "      <td>59520.000000</td>\n",
       "      <td>59520.000000</td>\n",
       "      <td>59520.000000</td>\n",
       "      <td>59520.000000</td>\n",
       "      <td>5.952000e+04</td>\n",
       "      <td>59520.0</td>\n",
       "      <td>5.952000e+04</td>\n",
       "      <td>59520.000000</td>\n",
       "      <td>59520.000000</td>\n",
       "      <td>59520.000000</td>\n",
       "      <td>59520.000000</td>\n",
       "      <td>59520.000000</td>\n",
       "    </tr>\n",
       "    <tr>\n",
       "      <th>mean</th>\n",
       "      <td>1.354839</td>\n",
       "      <td>1.875000</td>\n",
       "      <td>64.687500</td>\n",
       "      <td>0.548387</td>\n",
       "      <td>1.000000</td>\n",
       "      <td>3.354839</td>\n",
       "      <td>41500.000000</td>\n",
       "      <td>1.527625e+07</td>\n",
       "      <td>0.0</td>\n",
       "      <td>8.214382e+04</td>\n",
       "      <td>1124.214376</td>\n",
       "      <td>8.315824</td>\n",
       "      <td>4.583255</td>\n",
       "      <td>11.557103</td>\n",
       "      <td>0.017727</td>\n",
       "    </tr>\n",
       "    <tr>\n",
       "      <th>std</th>\n",
       "      <td>1.064036</td>\n",
       "      <td>0.927033</td>\n",
       "      <td>94.508544</td>\n",
       "      <td>0.497657</td>\n",
       "      <td>0.816503</td>\n",
       "      <td>1.380717</td>\n",
       "      <td>45448.154013</td>\n",
       "      <td>3.227857e+07</td>\n",
       "      <td>0.0</td>\n",
       "      <td>3.677644e+05</td>\n",
       "      <td>3603.892586</td>\n",
       "      <td>1.588477</td>\n",
       "      <td>1.509664</td>\n",
       "      <td>30.817125</td>\n",
       "      <td>1.087262</td>\n",
       "    </tr>\n",
       "    <tr>\n",
       "      <th>min</th>\n",
       "      <td>0.000000</td>\n",
       "      <td>0.000000</td>\n",
       "      <td>0.000000</td>\n",
       "      <td>0.000000</td>\n",
       "      <td>0.000000</td>\n",
       "      <td>0.000000</td>\n",
       "      <td>1000.000000</td>\n",
       "      <td>1.000000e+04</td>\n",
       "      <td>0.0</td>\n",
       "      <td>2.600000e+01</td>\n",
       "      <td>3.586700</td>\n",
       "      <td>4.972210</td>\n",
       "      <td>2.564880</td>\n",
       "      <td>0.006900</td>\n",
       "      <td>-2.161151</td>\n",
       "    </tr>\n",
       "    <tr>\n",
       "      <th>25%</th>\n",
       "      <td>0.000000</td>\n",
       "      <td>1.000000</td>\n",
       "      <td>6.250000</td>\n",
       "      <td>0.000000</td>\n",
       "      <td>0.000000</td>\n",
       "      <td>2.000000</td>\n",
       "      <td>7750.000000</td>\n",
       "      <td>1.000000e+05</td>\n",
       "      <td>0.0</td>\n",
       "      <td>1.840000e+02</td>\n",
       "      <td>17.861900</td>\n",
       "      <td>6.945918</td>\n",
       "      <td>3.343825</td>\n",
       "      <td>0.150300</td>\n",
       "      <td>-0.823041</td>\n",
       "    </tr>\n",
       "    <tr>\n",
       "      <th>50%</th>\n",
       "      <td>1.000000</td>\n",
       "      <td>2.000000</td>\n",
       "      <td>16.000000</td>\n",
       "      <td>1.000000</td>\n",
       "      <td>1.000000</td>\n",
       "      <td>4.000000</td>\n",
       "      <td>10000.000000</td>\n",
       "      <td>1.000000e+06</td>\n",
       "      <td>0.0</td>\n",
       "      <td>1.076500e+03</td>\n",
       "      <td>81.564500</td>\n",
       "      <td>8.357675</td>\n",
       "      <td>4.394230</td>\n",
       "      <td>1.072150</td>\n",
       "      <td>0.030256</td>\n",
       "    </tr>\n",
       "    <tr>\n",
       "      <th>75%</th>\n",
       "      <td>2.000000</td>\n",
       "      <td>3.000000</td>\n",
       "      <td>64.000000</td>\n",
       "      <td>1.000000</td>\n",
       "      <td>2.000000</td>\n",
       "      <td>5.000000</td>\n",
       "      <td>100000.000000</td>\n",
       "      <td>1.000000e+07</td>\n",
       "      <td>0.0</td>\n",
       "      <td>9.256750e+03</td>\n",
       "      <td>346.310000</td>\n",
       "      <td>9.640377</td>\n",
       "      <td>5.682815</td>\n",
       "      <td>6.441225</td>\n",
       "      <td>0.808968</td>\n",
       "    </tr>\n",
       "    <tr>\n",
       "      <th>max</th>\n",
       "      <td>3.000000</td>\n",
       "      <td>3.000000</td>\n",
       "      <td>256.000000</td>\n",
       "      <td>1.000000</td>\n",
       "      <td>2.000000</td>\n",
       "      <td>5.000000</td>\n",
       "      <td>100000.000000</td>\n",
       "      <td>1.000000e+08</td>\n",
       "      <td>0.0</td>\n",
       "      <td>2.326988e+06</td>\n",
       "      <td>21405.700000</td>\n",
       "      <td>11.142700</td>\n",
       "      <td>7.726970</td>\n",
       "      <td>390.756700</td>\n",
       "      <td>2.591906</td>\n",
       "    </tr>\n",
       "  </tbody>\n",
       "</table>\n",
       "</div>"
      ],
      "text/plain": [
       "        1_direction    2_parallel       2_grain   3_densevert     3_vertset  \\\n",
       "count  59520.000000  59520.000000  59520.000000  59520.000000  59520.000000   \n",
       "mean       1.354839      1.875000     64.687500      0.548387      1.000000   \n",
       "std        1.064036      0.927033     94.508544      0.497657      0.816503   \n",
       "min        0.000000      0.000000      0.000000      0.000000      0.000000   \n",
       "25%        0.000000      1.000000      6.250000      0.000000      0.000000   \n",
       "50%        1.000000      2.000000     16.000000      1.000000      1.000000   \n",
       "75%        2.000000      3.000000     64.000000      1.000000      2.000000   \n",
       "max        3.000000      3.000000    256.000000      1.000000      2.000000   \n",
       "\n",
       "        3_direction          nodes         edges  min_deg       max_deg  \\\n",
       "count  59520.000000   59520.000000  5.952000e+04  59520.0  5.952000e+04   \n",
       "mean       3.354839   41500.000000  1.527625e+07      0.0  8.214382e+04   \n",
       "std        1.380717   45448.154013  3.227857e+07      0.0  3.677644e+05   \n",
       "min        0.000000    1000.000000  1.000000e+04      0.0  2.600000e+01   \n",
       "25%        2.000000    7750.000000  1.000000e+05      0.0  1.840000e+02   \n",
       "50%        4.000000   10000.000000  1.000000e+06      0.0  1.076500e+03   \n",
       "75%        5.000000  100000.000000  1.000000e+07      0.0  9.256750e+03   \n",
       "max        5.000000  100000.000000  1.000000e+08      0.0  2.326988e+06   \n",
       "\n",
       "            std_deg        e_entr        d_entr            rt           lrt  \n",
       "count  59520.000000  59520.000000  59520.000000  59520.000000  59520.000000  \n",
       "mean    1124.214376      8.315824      4.583255     11.557103      0.017727  \n",
       "std     3603.892586      1.588477      1.509664     30.817125      1.087262  \n",
       "min        3.586700      4.972210      2.564880      0.006900     -2.161151  \n",
       "25%       17.861900      6.945918      3.343825      0.150300     -0.823041  \n",
       "50%       81.564500      8.357675      4.394230      1.072150      0.030256  \n",
       "75%      346.310000      9.640377      5.682815      6.441225      0.808968  \n",
       "max    21405.700000     11.142700      7.726970    390.756700      2.591906  "
      ]
     },
     "execution_count": 61,
     "metadata": {},
     "output_type": "execute_result"
    }
   ],
   "source": [
    "all_csvs1.describe()"
   ]
  },
  {
   "cell_type": "code",
   "execution_count": 23,
   "id": "320c3fbb-046c-40e5-ad47-b2b483771b7b",
   "metadata": {},
   "outputs": [],
   "source": [
    "import xgboost as xgb\n",
    "import numpy as np\n",
    "from sklearn.metrics import mean_squared_error\n",
    "from sklearn.model_selection import cross_val_score\n",
    "from sklearn.model_selection import RepeatedKFold"
   ]
  },
  {
   "cell_type": "code",
   "execution_count": 24,
   "id": "5a83b203-788c-4afc-a469-8cfcc7b7e170",
   "metadata": {},
   "outputs": [],
   "source": [
    "# model = XGBRegressor(n_estimators=1000, max_depth=7, eta=0.1, subsample=0.7, colsample_bytree=0.8)\n",
    "# model = XGBRegressor()"
   ]
  },
  {
   "cell_type": "code",
   "execution_count": 72,
   "id": "f47f85c2-c0c0-4b57-bbf0-04e9e3e0dee2",
   "metadata": {},
   "outputs": [],
   "source": [
    "data = all_csvs1\n",
    "X, y = data.iloc[:, :-2], data.iloc[:, -2]"
   ]
  },
  {
   "cell_type": "code",
   "execution_count": 103,
   "id": "e6a24aab-acfc-439c-a465-62837ec70237",
   "metadata": {},
   "outputs": [],
   "source": [
    "# data = all_csvs1\n",
    "# X, y = data.iloc[:, :-2], data.iloc[:, -1]"
   ]
  },
  {
   "cell_type": "code",
   "execution_count": 104,
   "id": "69a95542-b992-4c63-b830-5d7bade8cd8c",
   "metadata": {},
   "outputs": [
    {
     "data": {
      "text/html": [
       "<div>\n",
       "<style scoped>\n",
       "    .dataframe tbody tr th:only-of-type {\n",
       "        vertical-align: middle;\n",
       "    }\n",
       "\n",
       "    .dataframe tbody tr th {\n",
       "        vertical-align: top;\n",
       "    }\n",
       "\n",
       "    .dataframe thead th {\n",
       "        text-align: right;\n",
       "    }\n",
       "</style>\n",
       "<table border=\"1\" class=\"dataframe\">\n",
       "  <thead>\n",
       "    <tr style=\"text-align: right;\">\n",
       "      <th></th>\n",
       "      <th>1_direction</th>\n",
       "      <th>2_parallel</th>\n",
       "      <th>2_grain</th>\n",
       "      <th>3_densevert</th>\n",
       "      <th>3_vertset</th>\n",
       "      <th>3_direction</th>\n",
       "      <th>nodes</th>\n",
       "      <th>edges</th>\n",
       "      <th>min_deg</th>\n",
       "      <th>max_deg</th>\n",
       "      <th>std_deg</th>\n",
       "      <th>e_entr</th>\n",
       "      <th>d_entr</th>\n",
       "    </tr>\n",
       "  </thead>\n",
       "  <tbody>\n",
       "    <tr>\n",
       "      <th>0</th>\n",
       "      <td>0</td>\n",
       "      <td>0</td>\n",
       "      <td>0</td>\n",
       "      <td>0</td>\n",
       "      <td>1</td>\n",
       "      <td>4</td>\n",
       "      <td>1000</td>\n",
       "      <td>10000</td>\n",
       "      <td>0.0</td>\n",
       "      <td>191.0</td>\n",
       "      <td>14.9612</td>\n",
       "      <td>6.64698</td>\n",
       "      <td>3.37874</td>\n",
       "    </tr>\n",
       "    <tr>\n",
       "      <th>1</th>\n",
       "      <td>0</td>\n",
       "      <td>1</td>\n",
       "      <td>8</td>\n",
       "      <td>1</td>\n",
       "      <td>1</td>\n",
       "      <td>4</td>\n",
       "      <td>1000</td>\n",
       "      <td>10000</td>\n",
       "      <td>0.0</td>\n",
       "      <td>191.0</td>\n",
       "      <td>14.9612</td>\n",
       "      <td>6.64698</td>\n",
       "      <td>3.37874</td>\n",
       "    </tr>\n",
       "    <tr>\n",
       "      <th>2</th>\n",
       "      <td>1</td>\n",
       "      <td>3</td>\n",
       "      <td>1</td>\n",
       "      <td>1</td>\n",
       "      <td>1</td>\n",
       "      <td>4</td>\n",
       "      <td>1000</td>\n",
       "      <td>10000</td>\n",
       "      <td>0.0</td>\n",
       "      <td>191.0</td>\n",
       "      <td>14.9612</td>\n",
       "      <td>6.64698</td>\n",
       "      <td>3.37874</td>\n",
       "    </tr>\n",
       "    <tr>\n",
       "      <th>3</th>\n",
       "      <td>1</td>\n",
       "      <td>3</td>\n",
       "      <td>1</td>\n",
       "      <td>1</td>\n",
       "      <td>1</td>\n",
       "      <td>5</td>\n",
       "      <td>1000</td>\n",
       "      <td>10000</td>\n",
       "      <td>0.0</td>\n",
       "      <td>191.0</td>\n",
       "      <td>14.9612</td>\n",
       "      <td>6.64698</td>\n",
       "      <td>3.37874</td>\n",
       "    </tr>\n",
       "    <tr>\n",
       "      <th>4</th>\n",
       "      <td>1</td>\n",
       "      <td>3</td>\n",
       "      <td>1</td>\n",
       "      <td>1</td>\n",
       "      <td>2</td>\n",
       "      <td>0</td>\n",
       "      <td>1000</td>\n",
       "      <td>10000</td>\n",
       "      <td>0.0</td>\n",
       "      <td>191.0</td>\n",
       "      <td>14.9612</td>\n",
       "      <td>6.64698</td>\n",
       "      <td>3.37874</td>\n",
       "    </tr>\n",
       "    <tr>\n",
       "      <th>...</th>\n",
       "      <td>...</td>\n",
       "      <td>...</td>\n",
       "      <td>...</td>\n",
       "      <td>...</td>\n",
       "      <td>...</td>\n",
       "      <td>...</td>\n",
       "      <td>...</td>\n",
       "      <td>...</td>\n",
       "      <td>...</td>\n",
       "      <td>...</td>\n",
       "      <td>...</td>\n",
       "      <td>...</td>\n",
       "      <td>...</td>\n",
       "    </tr>\n",
       "    <tr>\n",
       "      <th>1483</th>\n",
       "      <td>1</td>\n",
       "      <td>3</td>\n",
       "      <td>1</td>\n",
       "      <td>1</td>\n",
       "      <td>0</td>\n",
       "      <td>5</td>\n",
       "      <td>100000</td>\n",
       "      <td>100000000</td>\n",
       "      <td>0.0</td>\n",
       "      <td>19425.0</td>\n",
       "      <td>1384.2200</td>\n",
       "      <td>9.97991</td>\n",
       "      <td>7.59847</td>\n",
       "    </tr>\n",
       "    <tr>\n",
       "      <th>1484</th>\n",
       "      <td>1</td>\n",
       "      <td>3</td>\n",
       "      <td>1</td>\n",
       "      <td>1</td>\n",
       "      <td>1</td>\n",
       "      <td>0</td>\n",
       "      <td>100000</td>\n",
       "      <td>100000000</td>\n",
       "      <td>0.0</td>\n",
       "      <td>19425.0</td>\n",
       "      <td>1384.2200</td>\n",
       "      <td>9.97991</td>\n",
       "      <td>7.59847</td>\n",
       "    </tr>\n",
       "    <tr>\n",
       "      <th>1485</th>\n",
       "      <td>1</td>\n",
       "      <td>3</td>\n",
       "      <td>1</td>\n",
       "      <td>1</td>\n",
       "      <td>1</td>\n",
       "      <td>1</td>\n",
       "      <td>100000</td>\n",
       "      <td>100000000</td>\n",
       "      <td>0.0</td>\n",
       "      <td>19425.0</td>\n",
       "      <td>1384.2200</td>\n",
       "      <td>9.97991</td>\n",
       "      <td>7.59847</td>\n",
       "    </tr>\n",
       "    <tr>\n",
       "      <th>1486</th>\n",
       "      <td>1</td>\n",
       "      <td>3</td>\n",
       "      <td>1</td>\n",
       "      <td>1</td>\n",
       "      <td>1</td>\n",
       "      <td>2</td>\n",
       "      <td>100000</td>\n",
       "      <td>100000000</td>\n",
       "      <td>0.0</td>\n",
       "      <td>19425.0</td>\n",
       "      <td>1384.2200</td>\n",
       "      <td>9.97991</td>\n",
       "      <td>7.59847</td>\n",
       "    </tr>\n",
       "    <tr>\n",
       "      <th>1487</th>\n",
       "      <td>1</td>\n",
       "      <td>3</td>\n",
       "      <td>1</td>\n",
       "      <td>1</td>\n",
       "      <td>1</td>\n",
       "      <td>3</td>\n",
       "      <td>100000</td>\n",
       "      <td>100000000</td>\n",
       "      <td>0.0</td>\n",
       "      <td>19425.0</td>\n",
       "      <td>1384.2200</td>\n",
       "      <td>9.97991</td>\n",
       "      <td>7.59847</td>\n",
       "    </tr>\n",
       "  </tbody>\n",
       "</table>\n",
       "<p>59520 rows × 13 columns</p>\n",
       "</div>"
      ],
      "text/plain": [
       "      1_direction  2_parallel  2_grain  3_densevert  3_vertset  3_direction  \\\n",
       "0               0           0        0            0          1            4   \n",
       "1               0           1        8            1          1            4   \n",
       "2               1           3        1            1          1            4   \n",
       "3               1           3        1            1          1            5   \n",
       "4               1           3        1            1          2            0   \n",
       "...           ...         ...      ...          ...        ...          ...   \n",
       "1483            1           3        1            1          0            5   \n",
       "1484            1           3        1            1          1            0   \n",
       "1485            1           3        1            1          1            1   \n",
       "1486            1           3        1            1          1            2   \n",
       "1487            1           3        1            1          1            3   \n",
       "\n",
       "       nodes      edges  min_deg  max_deg    std_deg   e_entr   d_entr  \n",
       "0       1000      10000      0.0    191.0    14.9612  6.64698  3.37874  \n",
       "1       1000      10000      0.0    191.0    14.9612  6.64698  3.37874  \n",
       "2       1000      10000      0.0    191.0    14.9612  6.64698  3.37874  \n",
       "3       1000      10000      0.0    191.0    14.9612  6.64698  3.37874  \n",
       "4       1000      10000      0.0    191.0    14.9612  6.64698  3.37874  \n",
       "...      ...        ...      ...      ...        ...      ...      ...  \n",
       "1483  100000  100000000      0.0  19425.0  1384.2200  9.97991  7.59847  \n",
       "1484  100000  100000000      0.0  19425.0  1384.2200  9.97991  7.59847  \n",
       "1485  100000  100000000      0.0  19425.0  1384.2200  9.97991  7.59847  \n",
       "1486  100000  100000000      0.0  19425.0  1384.2200  9.97991  7.59847  \n",
       "1487  100000  100000000      0.0  19425.0  1384.2200  9.97991  7.59847  \n",
       "\n",
       "[59520 rows x 13 columns]"
      ]
     },
     "execution_count": 104,
     "metadata": {},
     "output_type": "execute_result"
    }
   ],
   "source": [
    "X"
   ]
  },
  {
   "cell_type": "code",
   "execution_count": 105,
   "id": "a90cad48-f21a-4135-864a-d18d907e9a88",
   "metadata": {},
   "outputs": [
    {
     "data": {
      "text/plain": [
       "0      -1.498941\n",
       "1      -1.527244\n",
       "2      -1.419075\n",
       "3      -1.444906\n",
       "4      -1.452225\n",
       "          ...   \n",
       "1483    1.736319\n",
       "1484    1.706748\n",
       "1485    1.742866\n",
       "1486    1.700072\n",
       "1487    1.696941\n",
       "Name: lrt, Length: 59520, dtype: float64"
      ]
     },
     "execution_count": 105,
     "metadata": {},
     "output_type": "execute_result"
    }
   ],
   "source": [
    "y"
   ]
  },
  {
   "cell_type": "code",
   "execution_count": 106,
   "id": "19a81ff9-7a67-4e67-b577-db485aeb991f",
   "metadata": {},
   "outputs": [],
   "source": [
    "data_dmatrix = xgb.DMatrix(data=X,label=y)"
   ]
  },
  {
   "cell_type": "code",
   "execution_count": 107,
   "id": "138600ac-ef8e-4ae8-8a88-008cd8ee5e4b",
   "metadata": {},
   "outputs": [],
   "source": [
    "from sklearn.model_selection import train_test_split\n",
    "\n",
    "X_train, X_test, y_train, y_test = train_test_split(X, y, test_size=0.2, random_state=123)"
   ]
  },
  {
   "cell_type": "code",
   "execution_count": 108,
   "id": "dadfd9b3-b287-4060-bf41-feac6ef5a01c",
   "metadata": {},
   "outputs": [],
   "source": [
    "xg_reg = xgb.XGBRegressor(objective ='reg:squarederror', colsample_bytree = 0.8, learning_rate = 0.3,\n",
    "                max_depth = 15, alpha = 20, n_estimators = 100)"
   ]
  },
  {
   "cell_type": "code",
   "execution_count": 109,
   "id": "d82d5d1a-ec61-41d3-a873-cb835eca1ca0",
   "metadata": {},
   "outputs": [],
   "source": [
    "# xg_reg = xgb.XGBRegressor(objective ='reg:tweedie', colsample_bytree = 1, learning_rate = 0.3,\n",
    "#                 max_depth = 15, alpha = 20, n_estimators = 100)"
   ]
  },
  {
   "cell_type": "code",
   "execution_count": 110,
   "id": "e2a3ebb5-ea7f-45e9-a5d7-fb8e7ad6c5c5",
   "metadata": {},
   "outputs": [],
   "source": [
    "xg_reg.fit(X_train,y_train)\n",
    "\n",
    "preds = xg_reg.predict(X_test)"
   ]
  },
  {
   "cell_type": "code",
   "execution_count": 111,
   "id": "93fe2d7a-21c1-4ee3-b671-d4f2726166b6",
   "metadata": {},
   "outputs": [
    {
     "data": {
      "text/plain": [
       "1367    1.232007\n",
       "93     -0.298778\n",
       "188    -0.467118\n",
       "851     0.170232\n",
       "57     -0.048031\n",
       "          ...   \n",
       "570    -0.441772\n",
       "939    -0.066563\n",
       "604     0.349860\n",
       "200    -1.546682\n",
       "719     1.524927\n",
       "Name: lrt, Length: 11904, dtype: float64"
      ]
     },
     "execution_count": 111,
     "metadata": {},
     "output_type": "execute_result"
    }
   ],
   "source": [
    "y_test"
   ]
  },
  {
   "cell_type": "code",
   "execution_count": 129,
   "id": "7f3344ad-3e4a-4113-91c6-e4a8f8c3332b",
   "metadata": {},
   "outputs": [],
   "source": [
    "# pred_df = pd.DataFrame(10**(y_test))\n",
    "# pred_df['pred'] = 10**preds"
   ]
  },
  {
   "cell_type": "code",
   "execution_count": 130,
   "id": "38ae3ab6-4a7e-4de6-8957-a253108e27cf",
   "metadata": {},
   "outputs": [],
   "source": [
    "pred_df = pd.DataFrame(y_test)\n",
    "pred_df['pred'] = preds"
   ]
  },
  {
   "cell_type": "code",
   "execution_count": 131,
   "id": "7b5edfc1-6193-48a6-9126-fc8a608284b4",
   "metadata": {},
   "outputs": [],
   "source": [
    "p1 = pred_df.sort_values(by=['rt']).reset_index(drop=True)\n",
    "p1"
   ]
  },
  {
   "cell_type": "code",
   "execution_count": 132,
   "id": "d56ad894-7705-49da-908a-edc623a8ac01",
   "metadata": {},
   "outputs": [
    {
     "data": {
      "text/html": [
       "<div>\n",
       "<style scoped>\n",
       "    .dataframe tbody tr th:only-of-type {\n",
       "        vertical-align: middle;\n",
       "    }\n",
       "\n",
       "    .dataframe tbody tr th {\n",
       "        vertical-align: top;\n",
       "    }\n",
       "\n",
       "    .dataframe thead th {\n",
       "        text-align: right;\n",
       "    }\n",
       "</style>\n",
       "<table border=\"1\" class=\"dataframe\">\n",
       "  <thead>\n",
       "    <tr style=\"text-align: right;\">\n",
       "      <th></th>\n",
       "      <th>lrt</th>\n",
       "      <th>pred</th>\n",
       "    </tr>\n",
       "  </thead>\n",
       "  <tbody>\n",
       "    <tr>\n",
       "      <th>count</th>\n",
       "      <td>11904.000000</td>\n",
       "      <td>11904.000000</td>\n",
       "    </tr>\n",
       "    <tr>\n",
       "      <th>mean</th>\n",
       "      <td>11.913127</td>\n",
       "      <td>11.632702</td>\n",
       "    </tr>\n",
       "    <tr>\n",
       "      <th>std</th>\n",
       "      <td>32.241744</td>\n",
       "      <td>30.911541</td>\n",
       "    </tr>\n",
       "    <tr>\n",
       "      <th>min</th>\n",
       "      <td>0.007100</td>\n",
       "      <td>0.008941</td>\n",
       "    </tr>\n",
       "    <tr>\n",
       "      <th>25%</th>\n",
       "      <td>0.150675</td>\n",
       "      <td>0.149321</td>\n",
       "    </tr>\n",
       "    <tr>\n",
       "      <th>50%</th>\n",
       "      <td>1.049600</td>\n",
       "      <td>1.089160</td>\n",
       "    </tr>\n",
       "    <tr>\n",
       "      <th>75%</th>\n",
       "      <td>6.342925</td>\n",
       "      <td>6.194214</td>\n",
       "    </tr>\n",
       "    <tr>\n",
       "      <th>max</th>\n",
       "      <td>357.992100</td>\n",
       "      <td>189.396881</td>\n",
       "    </tr>\n",
       "  </tbody>\n",
       "</table>\n",
       "</div>"
      ],
      "text/plain": [
       "                lrt          pred\n",
       "count  11904.000000  11904.000000\n",
       "mean      11.913127     11.632702\n",
       "std       32.241744     30.911541\n",
       "min        0.007100      0.008941\n",
       "25%        0.150675      0.149321\n",
       "50%        1.049600      1.089160\n",
       "75%        6.342925      6.194214\n",
       "max      357.992100    189.396881"
      ]
     },
     "execution_count": 132,
     "metadata": {},
     "output_type": "execute_result"
    }
   ],
   "source": [
    "# p1 = pred_df.sort_values(by=['lrt']).reset_index(drop=True)\n",
    "# p1.describe()"
   ]
  },
  {
   "cell_type": "code",
   "execution_count": 133,
   "id": "698822c3-dd00-48bd-bdec-d73251ac3a87",
   "metadata": {},
   "outputs": [
    {
     "data": {
      "image/png": "[encoded data removed]",
      "text/plain": [
       "<Figure size 432x288 with 2 Axes>"
      ]
     },
     "metadata": {
      "needs_background": "light"
     },
     "output_type": "display_data"
    }
   ],
   "source": [
    "ax = p1.plot.line(subplots=True)"
   ]
  },
  {
   "cell_type": "code",
   "execution_count": 119,
   "id": "2d29bb99-23da-4f3c-adb2-69fd893f4165",
   "metadata": {},
   "outputs": [
    {
     "ename": "KeyError",
     "evalue": "'rt'",
     "output_type": "error",
     "traceback": [
      "\u001b[0;31m---------------------------------------------------------------------------\u001b[0m",
      "\u001b[0;31mKeyError\u001b[0m                                  Traceback (most recent call last)",
      "\u001b[0;32m~/anaconda3/lib/python3.8/site-packages/pandas/core/indexes/base.py\u001b[0m in \u001b[0;36mget_loc\u001b[0;34m(self, key, method, tolerance)\u001b[0m\n\u001b[1;32m   3079\u001b[0m             \u001b[0;32mtry\u001b[0m\u001b[0;34m:\u001b[0m\u001b[0;34m\u001b[0m\u001b[0;34m\u001b[0m\u001b[0m\n\u001b[0;32m-> 3080\u001b[0;31m                 \u001b[0;32mreturn\u001b[0m \u001b[0mself\u001b[0m\u001b[0;34m.\u001b[0m\u001b[0m_engine\u001b[0m\u001b[0;34m.\u001b[0m\u001b[0mget_loc\u001b[0m\u001b[0;34m(\u001b[0m\u001b[0mcasted_key\u001b[0m\u001b[0;34m)\u001b[0m\u001b[0;34m\u001b[0m\u001b[0;34m\u001b[0m\u001b[0m\n\u001b[0m\u001b[1;32m   3081\u001b[0m             \u001b[0;32mexcept\u001b[0m \u001b[0mKeyError\u001b[0m \u001b[0;32mas\u001b[0m \u001b[0merr\u001b[0m\u001b[0;34m:\u001b[0m\u001b[0;34m\u001b[0m\u001b[0;34m\u001b[0m\u001b[0m\n",
      "\u001b[0;32mpandas/_libs/index.pyx\u001b[0m in \u001b[0;36mpandas._libs.index.IndexEngine.get_loc\u001b[0;34m()\u001b[0m\n",
      "\u001b[0;32mpandas/_libs/index.pyx\u001b[0m in \u001b[0;36mpandas._libs.index.IndexEngine.get_loc\u001b[0;34m()\u001b[0m\n",
      "\u001b[0;32mpandas/_libs/hashtable_class_helper.pxi\u001b[0m in \u001b[0;36mpandas._libs.hashtable.PyObjectHashTable.get_item\u001b[0;34m()\u001b[0m\n",
      "\u001b[0;32mpandas/_libs/hashtable_class_helper.pxi\u001b[0m in \u001b[0;36mpandas._libs.hashtable.PyObjectHashTable.get_item\u001b[0;34m()\u001b[0m\n",
      "\u001b[0;31mKeyError\u001b[0m: 'rt'",
      "\nThe above exception was the direct cause of the following exception:\n",
      "\u001b[0;31mKeyError\u001b[0m                                  Traceback (most recent call last)",
      "\u001b[0;32m<ipython-input-119-97c1af390bf1>\u001b[0m in \u001b[0;36m<module>\u001b[0;34m\u001b[0m\n\u001b[1;32m      1\u001b[0m \u001b[0mp2\u001b[0m \u001b[0;34m=\u001b[0m \u001b[0mp1\u001b[0m\u001b[0;34m\u001b[0m\u001b[0;34m\u001b[0m\u001b[0m\n\u001b[0;32m----> 2\u001b[0;31m \u001b[0mp2\u001b[0m\u001b[0;34m[\u001b[0m\u001b[0;34m'diff'\u001b[0m\u001b[0;34m]\u001b[0m \u001b[0;34m=\u001b[0m \u001b[0;34m(\u001b[0m\u001b[0mp1\u001b[0m\u001b[0;34m[\u001b[0m\u001b[0;34m'rt'\u001b[0m\u001b[0;34m]\u001b[0m\u001b[0;34m-\u001b[0m\u001b[0mp1\u001b[0m\u001b[0;34m[\u001b[0m\u001b[0;34m'pred'\u001b[0m\u001b[0;34m]\u001b[0m\u001b[0;34m)\u001b[0m\u001b[0;34m/\u001b[0m\u001b[0mp1\u001b[0m\u001b[0;34m[\u001b[0m\u001b[0;34m'rt'\u001b[0m\u001b[0;34m]\u001b[0m\u001b[0;34m\u001b[0m\u001b[0;34m\u001b[0m\u001b[0m\n\u001b[0m\u001b[1;32m      3\u001b[0m \u001b[0mp2\u001b[0m \u001b[0;34m=\u001b[0m \u001b[0mp2\u001b[0m\u001b[0;34m.\u001b[0m\u001b[0mdrop\u001b[0m\u001b[0;34m(\u001b[0m\u001b[0mcolumns\u001b[0m\u001b[0;34m=\u001b[0m\u001b[0;34m[\u001b[0m\u001b[0;34m'pred'\u001b[0m\u001b[0;34m]\u001b[0m\u001b[0;34m)\u001b[0m\u001b[0;34m\u001b[0m\u001b[0;34m\u001b[0m\u001b[0m\n\u001b[1;32m      4\u001b[0m \u001b[0max2\u001b[0m \u001b[0;34m=\u001b[0m \u001b[0mp2\u001b[0m\u001b[0;34m.\u001b[0m\u001b[0mplot\u001b[0m\u001b[0;34m.\u001b[0m\u001b[0mline\u001b[0m\u001b[0;34m(\u001b[0m\u001b[0mx\u001b[0m\u001b[0;34m=\u001b[0m\u001b[0;34m'rt'\u001b[0m\u001b[0;34m,\u001b[0m \u001b[0my\u001b[0m\u001b[0;34m=\u001b[0m\u001b[0;34m'diff'\u001b[0m\u001b[0;34m,\u001b[0m \u001b[0msubplots\u001b[0m\u001b[0;34m=\u001b[0m\u001b[0;32mTrue\u001b[0m\u001b[0;34m)\u001b[0m\u001b[0;34m\u001b[0m\u001b[0;34m\u001b[0m\u001b[0m\n",
      "\u001b[0;32m~/anaconda3/lib/python3.8/site-packages/pandas/core/frame.py\u001b[0m in \u001b[0;36m__getitem__\u001b[0;34m(self, key)\u001b[0m\n\u001b[1;32m   3022\u001b[0m             \u001b[0;32mif\u001b[0m \u001b[0mself\u001b[0m\u001b[0;34m.\u001b[0m\u001b[0mcolumns\u001b[0m\u001b[0;34m.\u001b[0m\u001b[0mnlevels\u001b[0m \u001b[0;34m>\u001b[0m \u001b[0;36m1\u001b[0m\u001b[0;34m:\u001b[0m\u001b[0;34m\u001b[0m\u001b[0;34m\u001b[0m\u001b[0m\n\u001b[1;32m   3023\u001b[0m                 \u001b[0;32mreturn\u001b[0m \u001b[0mself\u001b[0m\u001b[0;34m.\u001b[0m\u001b[0m_getitem_multilevel\u001b[0m\u001b[0;34m(\u001b[0m\u001b[0mkey\u001b[0m\u001b[0;34m)\u001b[0m\u001b[0;34m\u001b[0m\u001b[0;34m\u001b[0m\u001b[0m\n\u001b[0;32m-> 3024\u001b[0;31m             \u001b[0mindexer\u001b[0m \u001b[0;34m=\u001b[0m \u001b[0mself\u001b[0m\u001b[0;34m.\u001b[0m\u001b[0mcolumns\u001b[0m\u001b[0;34m.\u001b[0m\u001b[0mget_loc\u001b[0m\u001b[0;34m(\u001b[0m\u001b[0mkey\u001b[0m\u001b[0;34m)\u001b[0m\u001b[0;34m\u001b[0m\u001b[0;34m\u001b[0m\u001b[0m\n\u001b[0m\u001b[1;32m   3025\u001b[0m             \u001b[0;32mif\u001b[0m \u001b[0mis_integer\u001b[0m\u001b[0;34m(\u001b[0m\u001b[0mindexer\u001b[0m\u001b[0;34m)\u001b[0m\u001b[0;34m:\u001b[0m\u001b[0;34m\u001b[0m\u001b[0;34m\u001b[0m\u001b[0m\n\u001b[1;32m   3026\u001b[0m                 \u001b[0mindexer\u001b[0m \u001b[0;34m=\u001b[0m \u001b[0;34m[\u001b[0m\u001b[0mindexer\u001b[0m\u001b[0;34m]\u001b[0m\u001b[0;34m\u001b[0m\u001b[0;34m\u001b[0m\u001b[0m\n",
      "\u001b[0;32m~/anaconda3/lib/python3.8/site-packages/pandas/core/indexes/base.py\u001b[0m in \u001b[0;36mget_loc\u001b[0;34m(self, key, method, tolerance)\u001b[0m\n\u001b[1;32m   3080\u001b[0m                 \u001b[0;32mreturn\u001b[0m \u001b[0mself\u001b[0m\u001b[0;34m.\u001b[0m\u001b[0m_engine\u001b[0m\u001b[0;34m.\u001b[0m\u001b[0mget_loc\u001b[0m\u001b[0;34m(\u001b[0m\u001b[0mcasted_key\u001b[0m\u001b[0;34m)\u001b[0m\u001b[0;34m\u001b[0m\u001b[0;34m\u001b[0m\u001b[0m\n\u001b[1;32m   3081\u001b[0m             \u001b[0;32mexcept\u001b[0m \u001b[0mKeyError\u001b[0m \u001b[0;32mas\u001b[0m \u001b[0merr\u001b[0m\u001b[0;34m:\u001b[0m\u001b[0;34m\u001b[0m\u001b[0;34m\u001b[0m\u001b[0m\n\u001b[0;32m-> 3082\u001b[0;31m                 \u001b[0;32mraise\u001b[0m \u001b[0mKeyError\u001b[0m\u001b[0;34m(\u001b[0m\u001b[0mkey\u001b[0m\u001b[0;34m)\u001b[0m \u001b[0;32mfrom\u001b[0m \u001b[0merr\u001b[0m\u001b[0;34m\u001b[0m\u001b[0;34m\u001b[0m\u001b[0m\n\u001b[0m\u001b[1;32m   3083\u001b[0m \u001b[0;34m\u001b[0m\u001b[0m\n\u001b[1;32m   3084\u001b[0m         \u001b[0;32mif\u001b[0m \u001b[0mtolerance\u001b[0m \u001b[0;32mis\u001b[0m \u001b[0;32mnot\u001b[0m \u001b[0;32mNone\u001b[0m\u001b[0;34m:\u001b[0m\u001b[0;34m\u001b[0m\u001b[0;34m\u001b[0m\u001b[0m\n",
      "\u001b[0;31mKeyError\u001b[0m: 'rt'"
     ]
    }
   ],
   "source": [
    "p2 = p1\n",
    "p2['diff'] = (p1['rt']-p1['pred'])/p1['rt']\n",
    "p2 = p2.drop(columns=['pred'])\n",
    "ax2 = p2.plot.line(x='rt', y='diff', subplots=True)"
   ]
  },
  {
   "cell_type": "code",
   "execution_count": 134,
   "id": "6cc0fa07-3918-47b0-a760-d8327af36c1a",
   "metadata": {},
   "outputs": [
    {
     "data": {
      "image/png": "[encoded data removed]",
      "text/plain": [
       "<Figure size 432x288 with 1 Axes>"
      ]
     },
     "metadata": {
      "needs_background": "light"
     },
     "output_type": "display_data"
    }
   ],
   "source": [
    "# p2 = p1\n",
    "# p2['diff'] = (p1['lrt']-p1['pred'])/p1['lrt']\n",
    "# p2 = p2.drop(columns=['pred'])\n",
    "# ax2 = p2.plot.line(x='lrt', y='diff', subplots=True)"
   ]
  },
  {
   "cell_type": "code",
   "execution_count": 135,
   "id": "b09d30d1-70c9-4178-bb7d-f5efb8c3bf5f",
   "metadata": {},
   "outputs": [
    {
     "data": {
      "text/html": [
       "<div>\n",
       "<style scoped>\n",
       "    .dataframe tbody tr th:only-of-type {\n",
       "        vertical-align: middle;\n",
       "    }\n",
       "\n",
       "    .dataframe tbody tr th {\n",
       "        vertical-align: top;\n",
       "    }\n",
       "\n",
       "    .dataframe thead th {\n",
       "        text-align: right;\n",
       "    }\n",
       "</style>\n",
       "<table border=\"1\" class=\"dataframe\">\n",
       "  <thead>\n",
       "    <tr style=\"text-align: right;\">\n",
       "      <th></th>\n",
       "      <th>lrt</th>\n",
       "      <th>diff</th>\n",
       "    </tr>\n",
       "  </thead>\n",
       "  <tbody>\n",
       "    <tr>\n",
       "      <th>0</th>\n",
       "      <td>0.0071</td>\n",
       "      <td>-0.259311</td>\n",
       "    </tr>\n",
       "    <tr>\n",
       "      <th>1</th>\n",
       "      <td>0.0071</td>\n",
       "      <td>-0.259311</td>\n",
       "    </tr>\n",
       "    <tr>\n",
       "      <th>2</th>\n",
       "      <td>0.0073</td>\n",
       "      <td>-0.224810</td>\n",
       "    </tr>\n",
       "    <tr>\n",
       "      <th>3</th>\n",
       "      <td>0.0073</td>\n",
       "      <td>-0.224810</td>\n",
       "    </tr>\n",
       "    <tr>\n",
       "      <th>4</th>\n",
       "      <td>0.0074</td>\n",
       "      <td>-0.208258</td>\n",
       "    </tr>\n",
       "    <tr>\n",
       "      <th>...</th>\n",
       "      <td>...</td>\n",
       "      <td>...</td>\n",
       "    </tr>\n",
       "    <tr>\n",
       "      <th>11899</th>\n",
       "      <td>231.5513</td>\n",
       "      <td>0.194621</td>\n",
       "    </tr>\n",
       "    <tr>\n",
       "      <th>11900</th>\n",
       "      <td>254.1140</td>\n",
       "      <td>0.259026</td>\n",
       "    </tr>\n",
       "    <tr>\n",
       "      <th>11901</th>\n",
       "      <td>278.7549</td>\n",
       "      <td>0.475349</td>\n",
       "    </tr>\n",
       "    <tr>\n",
       "      <th>11902</th>\n",
       "      <td>309.3920</td>\n",
       "      <td>0.387842</td>\n",
       "    </tr>\n",
       "    <tr>\n",
       "      <th>11903</th>\n",
       "      <td>357.9921</td>\n",
       "      <td>0.475019</td>\n",
       "    </tr>\n",
       "  </tbody>\n",
       "</table>\n",
       "<p>11904 rows × 2 columns</p>\n",
       "</div>"
      ],
      "text/plain": [
       "            lrt      diff\n",
       "0        0.0071 -0.259311\n",
       "1        0.0071 -0.259311\n",
       "2        0.0073 -0.224810\n",
       "3        0.0073 -0.224810\n",
       "4        0.0074 -0.208258\n",
       "...         ...       ...\n",
       "11899  231.5513  0.194621\n",
       "11900  254.1140  0.259026\n",
       "11901  278.7549  0.475349\n",
       "11902  309.3920  0.387842\n",
       "11903  357.9921  0.475019\n",
       "\n",
       "[11904 rows x 2 columns]"
      ]
     },
     "execution_count": 135,
     "metadata": {},
     "output_type": "execute_result"
    }
   ],
   "source": [
    "p2"
   ]
  },
  {
   "cell_type": "code",
   "execution_count": 136,
   "id": "67de1237-3ce7-4eb8-8708-f4249ff348ad",
   "metadata": {},
   "outputs": [
    {
     "name": "stdout",
     "output_type": "stream",
     "text": [
      "RMSE: 0.036558\n"
     ]
    }
   ],
   "source": [
    "preds = xg_reg.predict(X_train)\n",
    "rmse = np.sqrt(mean_squared_error(y_train, preds))\n",
    "print(\"RMSE: %f\" % (rmse))"
   ]
  },
  {
   "cell_type": "code",
   "execution_count": 137,
   "id": "fdb0f8a9-33f2-4027-8e25-fde5deae5f1c",
   "metadata": {},
   "outputs": [
    {
     "name": "stdout",
     "output_type": "stream",
     "text": [
      "RMSE: 0.039395\n"
     ]
    }
   ],
   "source": [
    "preds = xg_reg.predict(X_test)\n",
    "rmse = np.sqrt(mean_squared_error(y_test, preds))\n",
    "print(\"RMSE: %f\" % (rmse))"
   ]
  },
  {
   "cell_type": "code",
   "execution_count": 138,
   "id": "26b70e02-4e5f-4cd1-8dc0-d33a9c557ca3",
   "metadata": {},
   "outputs": [
    {
     "name": "stdout",
     "output_type": "stream",
     "text": [
      "RMSE: 3.243006\n"
     ]
    }
   ],
   "source": [
    "# preds = xg_reg.predict(X_train)\n",
    "# rmse = np.sqrt(mean_squared_error(10**y_train, 10**preds))\n",
    "# print(\"RMSE: %f\" % (rmse))"
   ]
  },
  {
   "cell_type": "code",
   "execution_count": 139,
   "id": "2f9af01c-c325-495e-8c5e-fb2030af5602",
   "metadata": {},
   "outputs": [
    {
     "name": "stdout",
     "output_type": "stream",
     "text": [
      "RMSE: 3.806260\n"
     ]
    }
   ],
   "source": [
    "# preds = xg_reg.predict(X_test)\n",
    "# rmse = np.sqrt(mean_squared_error(10**y_test, 10**preds))\n",
    "# print(\"RMSE: %f\" % (rmse))"
   ]
  },
  {
   "cell_type": "code",
   "execution_count": 85,
   "id": "b4c8a1ea-e7c8-4658-9ef7-95adfe3c7c23",
   "metadata": {},
   "outputs": [
    {
     "data": {
      "image/png": "[encoded data removed]",
      "text/plain": [
       "<Figure size 360x360 with 1 Axes>"
      ]
     },
     "metadata": {
      "needs_background": "light"
     },
     "output_type": "display_data"
    }
   ],
   "source": [
    "import matplotlib.pyplot as plt\n",
    "xgb.plot_importance(xg_reg)\n",
    "plt.rcParams['figure.figsize'] = [5, 5]\n",
    "plt.show()"
   ]
  },
  {
   "cell_type": "code",
   "execution_count": 44,
   "id": "de3d0e6c-a843-43ea-b498-8ba7c800a0bb",
   "metadata": {},
   "outputs": [],
   "source": [
    "params = {\"objective\":\"reg:squarederror\",'colsample_bytree': 0.5,'learning_rate': 0.3,\n",
    "                'max_depth': 15, 'alpha': 20}\n",
    "\n",
    "cv_results = xgb.cv(dtrain=data_dmatrix, params=params, nfold=3,\n",
    "                    num_boost_round=50,early_stopping_rounds=10,metrics=\"rmse\", as_pandas=True, seed=123)"
   ]
  },
  {
   "cell_type": "code",
   "execution_count": 45,
   "id": "ea1d4082-5449-4f56-9e2d-8ea7c26aef65",
   "metadata": {},
   "outputs": [
    {
     "data": {
      "text/html": [
       "<div>\n",
       "<style scoped>\n",
       "    .dataframe tbody tr th:only-of-type {\n",
       "        vertical-align: middle;\n",
       "    }\n",
       "\n",
       "    .dataframe tbody tr th {\n",
       "        vertical-align: top;\n",
       "    }\n",
       "\n",
       "    .dataframe thead th {\n",
       "        text-align: right;\n",
       "    }\n",
       "</style>\n",
       "<table border=\"1\" class=\"dataframe\">\n",
       "  <thead>\n",
       "    <tr style=\"text-align: right;\">\n",
       "      <th></th>\n",
       "      <th>train-rmse-mean</th>\n",
       "      <th>train-rmse-std</th>\n",
       "      <th>test-rmse-mean</th>\n",
       "      <th>test-rmse-std</th>\n",
       "    </tr>\n",
       "  </thead>\n",
       "  <tbody>\n",
       "    <tr>\n",
       "      <th>0</th>\n",
       "      <td>31.226482</td>\n",
       "      <td>0.146232</td>\n",
       "      <td>31.227226</td>\n",
       "      <td>0.296705</td>\n",
       "    </tr>\n",
       "    <tr>\n",
       "      <th>1</th>\n",
       "      <td>28.767111</td>\n",
       "      <td>0.703135</td>\n",
       "      <td>28.759592</td>\n",
       "      <td>0.274407</td>\n",
       "    </tr>\n",
       "    <tr>\n",
       "      <th>2</th>\n",
       "      <td>26.541520</td>\n",
       "      <td>0.566732</td>\n",
       "      <td>26.536295</td>\n",
       "      <td>0.504234</td>\n",
       "    </tr>\n",
       "    <tr>\n",
       "      <th>3</th>\n",
       "      <td>24.925292</td>\n",
       "      <td>0.567148</td>\n",
       "      <td>24.930500</td>\n",
       "      <td>0.720729</td>\n",
       "    </tr>\n",
       "    <tr>\n",
       "      <th>4</th>\n",
       "      <td>23.329418</td>\n",
       "      <td>0.181434</td>\n",
       "      <td>23.333975</td>\n",
       "      <td>0.260645</td>\n",
       "    </tr>\n",
       "  </tbody>\n",
       "</table>\n",
       "</div>"
      ],
      "text/plain": [
       "   train-rmse-mean  train-rmse-std  test-rmse-mean  test-rmse-std\n",
       "0        31.226482        0.146232       31.227226       0.296705\n",
       "1        28.767111        0.703135       28.759592       0.274407\n",
       "2        26.541520        0.566732       26.536295       0.504234\n",
       "3        24.925292        0.567148       24.930500       0.720729\n",
       "4        23.329418        0.181434       23.333975       0.260645"
      ]
     },
     "execution_count": 45,
     "metadata": {},
     "output_type": "execute_result"
    }
   ],
   "source": [
    "cv_results.head()"
   ]
  },
  {
   "cell_type": "code",
   "execution_count": null,
   "id": "1f9b40bc-1ec9-45e1-b764-adbe6434cdb3",
   "metadata": {},
   "outputs": [],
   "source": []
  },
  {
   "cell_type": "code",
   "execution_count": 32,
   "id": "22d6f450-f11b-4792-886c-28c8deab886b",
   "metadata": {},
   "outputs": [
    {
     "data": {
      "text/plain": [
       "XGBRegressor(base_score=0.5, booster='gbtree', colsample_bylevel=1,\n",
       "             colsample_bynode=1, colsample_bytree=1, enable_categorical=False,\n",
       "             gamma=0, gpu_id=-1, importance_type=None,\n",
       "             interaction_constraints='', learning_rate=0.300000012,\n",
       "             max_delta_step=0, max_depth=6, min_child_weight=1, missing=nan,\n",
       "             monotone_constraints='()', n_estimators=100, n_jobs=16,\n",
       "             num_parallel_tree=1, predictor='auto', random_state=0, reg_alpha=0,\n",
       "             reg_lambda=1, scale_pos_weight=1, subsample=1, tree_method='exact',\n",
       "             validate_parameters=1, verbosity=None)"
      ]
     },
     "execution_count": 32,
     "metadata": {},
     "output_type": "execute_result"
    }
   ],
   "source": [
    "model.fit(X,y)"
   ]
  },
  {
   "cell_type": "code",
   "execution_count": null,
   "id": "d0473ffa-da52-4c78-89c9-4559af14014d",
   "metadata": {},
   "outputs": [],
   "source": []
  }
 ],
 "metadata": {
  "kernelspec": {
   "display_name": "Python 3",
   "language": "python",
   "name": "python3"
  },
  "language_info": {
   "codemirror_mode": {
    "name": "ipython",
    "version": 3
   },
   "file_extension": ".py",
   "mimetype": "text/x-python",
   "name": "python",
   "nbconvert_exporter": "python",
   "pygments_lexer": "ipython3",
   "version": "3.8.8"
  }
 },
 "nbformat": 4,
 "nbformat_minor": 5
}
