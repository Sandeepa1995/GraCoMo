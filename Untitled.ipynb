{
 "cells": [
  {
   "cell_type": "code",
   "execution_count": 1,
   "id": "9299b7d5-ee95-4233-90cf-1eab5e098303",
   "metadata": {},
   "outputs": [],
   "source": [
    "import torch"
   ]
  },
  {
   "cell_type": "code",
   "execution_count": null,
   "id": "48373749-0595-43df-94c3-dd28f9a472f7",
   "metadata": {},
   "outputs": [],
   "source": [
    "real_path = \"/home/damitha/PycharmProjects/GraCoMo/real_data/\"\n",
    "dataset = \"cora_full\"\n",
    "n = 19793 \n",
    "\n",
    "src_nodes = torch.load(real_path + dataset + \"_src_nodes.pt\")\n",
    "dst_nodes = torch.load(real_path + dataset + \"_dst_nodes.pt\")\n",
    "\n"
   ]
  }
 ],
 "metadata": {
  "kernelspec": {
   "display_name": "Python 3",
   "language": "python",
   "name": "python3"
  },
  "language_info": {
   "codemirror_mode": {
    "name": "ipython",
    "version": 3
   },
   "file_extension": ".py",
   "mimetype": "text/x-python",
   "name": "python",
   "nbconvert_exporter": "python",
   "pygments_lexer": "ipython3",
   "version": "3.8.8"
  }
 },
 "nbformat": 4,
 "nbformat_minor": 5
}
