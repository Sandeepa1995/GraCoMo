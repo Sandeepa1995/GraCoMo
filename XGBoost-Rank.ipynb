{
 "cells": [
  {
   "cell_type": "code",
   "execution_count": 1,
   "id": "9299b7d5-ee95-4233-90cf-1eab5e098303",
   "metadata": {},
   "outputs": [],
   "source": [
    "# import torch"
   ]
  },
  {
   "cell_type": "code",
   "execution_count": null,
   "id": "48373749-0595-43df-94c3-dd28f9a472f7",
   "metadata": {},
   "outputs": [],
   "source": [
    "# real_path = \"/home/damitha/PycharmProjects/GraCoMo/real_data/\"\n",
    "# dataset = \"cora_full\"\n",
    "# n = 19793 \n",
    "\n",
    "# src_nodes = torch.load(real_path + dataset + \"_src_nodes.pt\")\n",
    "# dst_nodes = torch.load(real_path + dataset + \"_dst_nodes.pt\")"
   ]
  },
  {
   "cell_type": "code",
   "execution_count": 2,
   "id": "eca9a4a8-addd-42f3-a5db-cf08819b0592",
   "metadata": {},
   "outputs": [
    {
     "data": {
      "text/plain": [
       "array([[3., 3., 3.],\n",
       "       [3., 3., 3.]])"
      ]
     },
     "execution_count": 2,
     "metadata": {},
     "output_type": "execute_result"
    }
   ],
   "source": [
    "import numpy as np\n",
    "3*np.ones((2,3))"
   ]
  },
  {
   "cell_type": "code",
   "execution_count": 2,
   "id": "342fa7fb-e855-4772-ad3f-02b07e52550e",
   "metadata": {},
   "outputs": [],
   "source": [
    "import pandas as pd\n",
    "import numpy as np\n",
    "import subprocess\n",
    "import os"
   ]
  },
  {
   "cell_type": "code",
   "execution_count": 3,
   "id": "bdcb2ff3-e00e-4c23-9ba6-7b6bcfe14cbf",
   "metadata": {},
   "outputs": [],
   "source": [
    "min_nodes = 1000\n",
    "max_nodes = 100000\n",
    "\n",
    "min_mul_edge = 10\n",
    "max_mul_edge = 1000\n",
    "\n",
    "graphs_at_config = [\n",
    "    [\"0.45\", \"0.22\", \"0.22\"],\n",
    "    [\"0.7\", \"0.1\", \"0.1\"],\n",
    "    [\"0.25\", \"0.25\", \"0.25\"],\n",
    "    [\"0.40\", \"0.40\", \"0.1\"],\n",
    "    [\"0.3\", \"0.3\", \"0.3\"]\n",
    "]\n",
    "\n",
    "base_csv_path = r'/home/damitha/PycharmProjects/GraCoMo/csv_data/data_'\n",
    "base_file_path = r'/home/damitha/PycharmProjects/GraCoMo/data_save2/out'\n",
    "base_mtx_path = r'/home/damitha/PycharmProjects/GraCoMo/data_save_mtx/out_'"
   ]
  },
  {
   "cell_type": "code",
   "execution_count": 4,
   "id": "7edc02fa-e6f4-48bb-8816-fb9255269399",
   "metadata": {},
   "outputs": [],
   "source": [
    "# for x in graphs_at_config:\n",
    "#     nodes = min_nodes\n",
    "#     while nodes <= max_nodes:\n",
    "#         mul = min_mul_edge\n",
    "#         while mul <= max_mul_edge:\n",
    "#             edges = nodes * mul\n",
    "#             s0 = str(nodes) + '_' + str(edges) + '_' + x[0] + '_' + x[1] + '_' + x[2]\n",
    "#             s1 = s0 + '.el' \n",
    "#             s = base_file_path + s1\n",
    "#             exi = os.path.exists(s)\n",
    "            \n",
    "#             if (exi):\n",
    "#                 f = open(base_mtx_path + s0 + '.mtx', \"w\")\n",
    "#                 print('Writing to', base_mtx_path + s0 + '.mtx', \"w\")\n",
    "#                 f.write('%%MatrixMarket matrix coordinate real general\\n')\n",
    "#                 f.write(str(nodes) + ' ' + str(nodes) + ' ' + str(edges) + ' ' + '\\n')\n",
    "#                 with open(s, mode='r') as file:\n",
    "#                     for ln in file:\n",
    "#                         ln0 = list(map(int, ln.split()))\n",
    "#                         f.write(str(ln0[0] + 1) + ' ' + str(ln0[1] + 1) + '\\n')\n",
    "#                 f.close()\n",
    "# #             break\n",
    "#             mul *= 10\n",
    "# #         break    \n",
    "#         nodes*=10\n",
    "# #     break"
   ]
  },
  {
   "cell_type": "code",
   "execution_count": 5,
   "id": "1deed13d-43b5-4aaa-99f6-5ffb4877e0c4",
   "metadata": {},
   "outputs": [],
   "source": [
    "approx_path = r'/home/damitha/CLionProjects/SparseAcc/sw_lib/cmake-build-debug/tests/approx_test'"
   ]
  },
  {
   "cell_type": "code",
   "execution_count": 6,
   "id": "da40c57c-e6d6-4a3d-ae34-643fc3d41845",
   "metadata": {},
   "outputs": [
    {
     "name": "stdout",
     "output_type": "stream",
     "text": [
      "[0.0, 191.0, 13.7547, 6.94634, 1.00559, 0.385417, 0.45, 0.22, 0.22] \t\t\t 1000_10000_0.45_0.22_0.22\n",
      "[0.0, 1747.0, 135.575, 6.3987, 0.926307, 0.413055, 0.45, 0.22, 0.22] \t\t\t 1000_100000_0.45_0.22_0.22\n",
      "[0.0, 322.0, 17.5014, 9.29369, 1.00905, 0.436034, 0.45, 0.22, 0.22] \t\t\t 10000_100000_0.45_0.22_0.22\n",
      "[0.0, 3695.0, 173.915, 8.52927, 0.926054, 0.534453, 0.45, 0.22, 0.22] \t\t\t 10000_1000000_0.45_0.22_0.22\n",
      "[0.0, 36326.0, 1733.49, 8.45384, 0.917864, 0.56606, 0.45, 0.22, 0.22] \t\t\t 10000_10000000_0.45_0.22_0.22\n",
      "[0.0, 1122.0, 23.0382, 11.6142, 1.0088, 0.443683, 0.45, 0.22, 0.22] \t\t\t 100000_1000000_0.45_0.22_0.22\n",
      "[0.0, 11104.0, 227.387, 10.6333, 0.923596, 0.561866, 0.45, 0.22, 0.22] \t\t\t 100000_10000000_0.45_0.22_0.22\n",
      "[0.0, 110422.0, 2279.53, 10.5307, 0.914684, 0.646252, 0.45, 0.22, 0.22] \t\t\t 100000_100000000_0.45_0.22_0.22\n",
      "[0.0, 1031.0, 43.0918, 5.77543, 0.836079, 0.381597, 0.7, 0.1, 0.1] \t\t\t 1000_10000_0.7_0.1_0.1\n",
      "[0.0, 10633.0, 446.366, 5.09249, 0.737213, 0.401442, 0.7, 0.1, 0.1] \t\t\t 1000_100000_0.7_0.1_0.1\n",
      "[0.0, 4294.0, 67.4314, 7.76873, 0.843479, 0.423358, 0.7, 0.1, 0.1] \t\t\t 10000_100000_0.7_0.1_0.1\n",
      "[0.0, 43275.0, 673.494, 6.89779, 0.748918, 0.515228, 0.7, 0.1, 0.1] \t\t\t 10000_1000000_0.7_0.1_0.1\n",
      "[0.0, 441892.0, 7039.82, 6.72944, 0.730639, 0.5563, 0.7, 0.1, 0.1] \t\t\t 10000_10000000_0.7_0.1_0.1\n",
      "[0.0, 22954.0, 120.883, 9.63221, 0.836643, 0.411121, 0.7, 0.1, 0.1] \t\t\t 100000_1000000_0.7_0.1_0.1\n",
      "[0.0, 230310.0, 1212.56, 8.51387, 0.739505, 0.531503, 0.7, 0.1, 0.1] \t\t\t 100000_10000000_0.7_0.1_0.1\n",
      "[0.0, 2326988.0, 12645.9, 8.31713, 0.722416, 0.617531, 0.7, 0.1, 0.1] \t\t\t 100000_100000000_0.7_0.1_0.1\n",
      "[0.0, 32.0, 3.49741, 7.38124, 1.06854, 0.315158, 0.25, 0.25, 0.25] \t\t\t 1000_10000_0.25_0.25_0.25\n",
      "[0.0, 222.0, 18.2386, 6.89676, 0.998408, 0.376892, 0.25, 0.25, 0.25] \t\t\t 1000_100000_0.25_0.25_0.25\n",
      "[0.0, 29.0, 4.32835, 9.93844, 1.07905, 0.348712, 0.25, 0.25, 0.25] \t\t\t 10000_100000_0.25_0.25_0.25\n",
      "[0.0, 163.0, 30.9254, 9.2418, 1.00342, 0.437797, 0.25, 0.25, 0.25] \t\t\t 10000_1000000_0.25_0.25_0.25\n",
      "[0.0, 1345.0, 295.23, 9.17157, 0.99579, 0.497439, 0.25, 0.25, 0.25] \t\t\t 10000_10000000_0.25_0.25_0.25\n",
      "[0.0, 31.0, 4.75899, 12.46, 1.08226, 0.353129, 0.25, 0.25, 0.25] \t\t\t 100000_1000000_0.25_0.25_0.25\n",
      "[0.0, 204.0, 36.7241, 11.5555, 1.00369, 0.441432, 0.25, 0.25, 0.25] \t\t\t 100000_10000000_0.25_0.25_0.25\n",
      "[0.0, 1682.0, 354.481, 11.4649, 0.995832, 0.512421, 0.25, 0.25, 0.25] \t\t\t 100000_100000000_0.25_0.25_0.25\n",
      "[0.0, 29.0, 3.58, 7.3704, 1.06697, 0.331645, 0.4, 0.4, 0.1] \t\t\t 1000_10000_0.40_0.40_0.1\n",
      "[0.0, 239.0, 17.5859, 6.89967, 0.998829, 0.378531, 0.4, 0.4, 0.1] \t\t\t 1000_100000_0.40_0.40_0.1\n",
      "[0.0, 26.0, 4.13756, 9.94651, 1.07993, 0.349108, 0.4, 0.4, 0.1] \t\t\t 10000_100000_0.40_0.40_0.1\n",
      "[0.0, 168.0, 27.9334, 9.25159, 1.00448, 0.448258, 0.4, 0.4, 0.1] \t\t\t 10000_1000000_0.40_0.40_0.1\n",
      "[0.0, 1378.0, 261.717, 9.18183, 0.996905, 0.536167, 0.4, 0.4, 0.1] \t\t\t 10000_10000000_0.40_0.40_0.1\n",
      "[0.0, 33.0, 4.50662, 12.4696, 1.08309, 0.352412, 0.4, 0.4, 0.1] \t\t\t 100000_1000000_0.40_0.40_0.1\n",
      "[0.0, 211.0, 32.7721, 11.5677, 1.00476, 0.4596, 0.4, 0.4, 0.1] \t\t\t 100000_10000000_0.40_0.40_0.1\n",
      "[0.0, 1674.0, 321.689, 11.4749, 0.996695, 0.536292, 0.4, 0.4, 0.1] \t\t\t 100000_100000000_0.40_0.40_0.1\n",
      "[0.0, 62.0, 7.81704, 7.2366, 1.04761, 0.36273, 0.3, 0.3, 0.3] \t\t\t 1000_10000_0.3_0.3_0.3\n",
      "[0.0, 612.0, 70.7076, 6.74565, 0.976533, 0.414442, 0.3, 0.3, 0.3] \t\t\t 1000_100000_0.3_0.3_0.3\n",
      "[0.0, 92.0, 9.21337, 9.7141, 1.05469, 0.411576, 0.3, 0.3, 0.3] \t\t\t 10000_100000_0.3_0.3_0.3\n",
      "[0.0, 896.0, 86.7274, 8.99628, 0.976759, 0.523495, 0.3, 0.3, 0.3] \t\t\t 10000_1000000_0.3_0.3_0.3\n",
      "[0.0, 8798.0, 873.548, 8.918, 0.968259, 0.563528, 0.3, 0.3, 0.3] \t\t\t 10000_10000000_0.3_0.3_0.3\n",
      "[0.0, 223.0, 10.9186, 12.169, 1.05698, 0.419769, 0.3, 0.3, 0.3] \t\t\t 100000_1000000_0.3_0.3_0.3\n",
      "[0.0, 1897.0, 103.371, 11.2421, 0.976475, 0.549179, 0.3, 0.3, 0.3] \t\t\t 100000_10000000_0.3_0.3_0.3\n",
      "[0.0, 19425.0, 1054.5, 11.1352, 0.967192, 0.636989, 0.3, 0.3, 0.3] \t\t\t 100000_100000000_0.3_0.3_0.3\n"
     ]
    }
   ],
   "source": [
    "map_feats = {}\n",
    "\n",
    "for x in graphs_at_config:\n",
    "    nodes = min_nodes\n",
    "    while nodes <= max_nodes:\n",
    "        mul = min_mul_edge\n",
    "        while mul <= max_mul_edge:\n",
    "            edges = nodes * mul\n",
    "            s0 = str(nodes) + '_' + str(edges) + '_' + x[0] + '_' + x[1] + '_' + x[2]\n",
    "            s1 = s0 + '.mtx' \n",
    "            s = base_mtx_path + s1\n",
    "            exi = os.path.exists(s)\n",
    "            \n",
    "            if (exi):\n",
    "                cmd = [approx_path, s]\n",
    "                res4 = subprocess.Popen(cmd, stdout=subprocess.PIPE)\n",
    "                lline = '';\n",
    "                for line in iter(res4.stdout.readline, b''):\n",
    "                    lline = line.rstrip().decode('utf-8')\n",
    "#                 print(line)\n",
    "                print(list(map(float, lline.split() + [x[0], x[1], x[2]])), '\\t\\t\\t', s0)\n",
    "                map_feats[s0] = list(map(float, lline.split() + [x[0], x[1], x[2]]))\n",
    "#             break\n",
    "            mul *= 10\n",
    "#         break    \n",
    "        nodes*=10\n",
    "#     break"
   ]
  },
  {
   "cell_type": "code",
   "execution_count": 72,
   "id": "065dc445-b048-4519-8447-5c9796097a03",
   "metadata": {},
   "outputs": [
    {
     "name": "stdout",
     "output_type": "stream",
     "text": [
      "/home/damitha/PycharmProjects/GraCoMo/csv_data/data_1000_10000_0.45_0.22_0.22\n",
      "/home/damitha/PycharmProjects/GraCoMo/csv_data/data_1000_100000_0.45_0.22_0.22\n",
      "/home/damitha/PycharmProjects/GraCoMo/csv_data/data_1000_1000000_0.45_0.22_0.22\n",
      "/home/damitha/PycharmProjects/GraCoMo/csv_data/data_10000_100000_0.45_0.22_0.22\n",
      "/home/damitha/PycharmProjects/GraCoMo/csv_data/data_10000_1000000_0.45_0.22_0.22\n",
      "/home/damitha/PycharmProjects/GraCoMo/csv_data/data_10000_10000000_0.45_0.22_0.22\n",
      "/home/damitha/PycharmProjects/GraCoMo/csv_data/data_100000_1000000_0.45_0.22_0.22\n",
      "/home/damitha/PycharmProjects/GraCoMo/csv_data/data_100000_10000000_0.45_0.22_0.22\n",
      "/home/damitha/PycharmProjects/GraCoMo/csv_data/data_100000_100000000_0.45_0.22_0.22\n",
      "/home/damitha/PycharmProjects/GraCoMo/csv_data/data_1000_10000_0.7_0.1_0.1\n",
      "/home/damitha/PycharmProjects/GraCoMo/csv_data/data_1000_100000_0.7_0.1_0.1\n",
      "/home/damitha/PycharmProjects/GraCoMo/csv_data/data_1000_1000000_0.7_0.1_0.1\n",
      "/home/damitha/PycharmProjects/GraCoMo/csv_data/data_10000_100000_0.7_0.1_0.1\n",
      "/home/damitha/PycharmProjects/GraCoMo/csv_data/data_10000_1000000_0.7_0.1_0.1\n",
      "/home/damitha/PycharmProjects/GraCoMo/csv_data/data_10000_10000000_0.7_0.1_0.1\n",
      "/home/damitha/PycharmProjects/GraCoMo/csv_data/data_100000_1000000_0.7_0.1_0.1\n",
      "/home/damitha/PycharmProjects/GraCoMo/csv_data/data_100000_10000000_0.7_0.1_0.1\n",
      "/home/damitha/PycharmProjects/GraCoMo/csv_data/data_100000_100000000_0.7_0.1_0.1\n",
      "/home/damitha/PycharmProjects/GraCoMo/csv_data/data_1000_10000_0.25_0.25_0.25\n",
      "/home/damitha/PycharmProjects/GraCoMo/csv_data/data_1000_100000_0.25_0.25_0.25\n",
      "/home/damitha/PycharmProjects/GraCoMo/csv_data/data_1000_1000000_0.25_0.25_0.25\n",
      "/home/damitha/PycharmProjects/GraCoMo/csv_data/data_10000_100000_0.25_0.25_0.25\n",
      "/home/damitha/PycharmProjects/GraCoMo/csv_data/data_10000_1000000_0.25_0.25_0.25\n",
      "/home/damitha/PycharmProjects/GraCoMo/csv_data/data_10000_10000000_0.25_0.25_0.25\n",
      "/home/damitha/PycharmProjects/GraCoMo/csv_data/data_100000_1000000_0.25_0.25_0.25\n",
      "/home/damitha/PycharmProjects/GraCoMo/csv_data/data_100000_10000000_0.25_0.25_0.25\n",
      "/home/damitha/PycharmProjects/GraCoMo/csv_data/data_100000_100000000_0.25_0.25_0.25\n",
      "/home/damitha/PycharmProjects/GraCoMo/csv_data/data_1000_10000_0.40_0.40_0.1\n",
      "/home/damitha/PycharmProjects/GraCoMo/csv_data/data_1000_100000_0.40_0.40_0.1\n",
      "/home/damitha/PycharmProjects/GraCoMo/csv_data/data_1000_1000000_0.40_0.40_0.1\n",
      "/home/damitha/PycharmProjects/GraCoMo/csv_data/data_10000_100000_0.40_0.40_0.1\n",
      "/home/damitha/PycharmProjects/GraCoMo/csv_data/data_10000_1000000_0.40_0.40_0.1\n",
      "/home/damitha/PycharmProjects/GraCoMo/csv_data/data_10000_10000000_0.40_0.40_0.1\n",
      "/home/damitha/PycharmProjects/GraCoMo/csv_data/data_100000_1000000_0.40_0.40_0.1\n",
      "/home/damitha/PycharmProjects/GraCoMo/csv_data/data_100000_10000000_0.40_0.40_0.1\n",
      "/home/damitha/PycharmProjects/GraCoMo/csv_data/data_100000_100000000_0.40_0.40_0.1\n",
      "/home/damitha/PycharmProjects/GraCoMo/csv_data/data_1000_10000_0.3_0.3_0.3\n",
      "/home/damitha/PycharmProjects/GraCoMo/csv_data/data_1000_100000_0.3_0.3_0.3\n",
      "/home/damitha/PycharmProjects/GraCoMo/csv_data/data_1000_1000000_0.3_0.3_0.3\n",
      "/home/damitha/PycharmProjects/GraCoMo/csv_data/data_10000_100000_0.3_0.3_0.3\n",
      "/home/damitha/PycharmProjects/GraCoMo/csv_data/data_10000_1000000_0.3_0.3_0.3\n",
      "/home/damitha/PycharmProjects/GraCoMo/csv_data/data_10000_10000000_0.3_0.3_0.3\n",
      "/home/damitha/PycharmProjects/GraCoMo/csv_data/data_100000_1000000_0.3_0.3_0.3\n",
      "/home/damitha/PycharmProjects/GraCoMo/csv_data/data_100000_10000000_0.3_0.3_0.3\n",
      "/home/damitha/PycharmProjects/GraCoMo/csv_data/data_100000_100000000_0.3_0.3_0.3\n"
     ]
    }
   ],
   "source": [
    "all_csvs = pd.DataFrame()\n",
    "all_csvs_1 = pd.DataFrame()\n",
    "\n",
    "y = 0\n",
    "for x in graphs_at_config:\n",
    "    nodes = min_nodes\n",
    "    while nodes <= max_nodes:\n",
    "        mul = min_mul_edge\n",
    "        while mul <= max_mul_edge:\n",
    "            edges = nodes * mul\n",
    "            s0 = str(nodes) + '_' + str(edges) + '_' + x[0] + '_' + x[1] + '_' + x[2]\n",
    "            s = base_csv_path + s0\n",
    "            print(s)\n",
    "            exi = os.path.exists(s)\n",
    "            \n",
    "            if (exi):\n",
    "                df = pd.read_csv(s)\n",
    "                df['min_deg'] = map_feats[s0][0]\n",
    "                df['max_deg'] = map_feats[s0][1]\n",
    "                df['std_deg'] = map_feats[s0][2]\n",
    "                df['e_entr'] = map_feats[s0][3]\n",
    "                df['norm_e_entr'] = map_feats[s0][4]\n",
    "                df['d_entr'] = map_feats[s0][5]\n",
    "                df['a'] = map_feats[s0][6]\n",
    "                df['b'] = map_feats[s0][7]\n",
    "                df['c'] = map_feats[s0][8]\n",
    "                df = df.sort_values(by=['rt']).reset_index(drop=True)\n",
    "                df['rank'] = df.index\n",
    "                df = df.sample(frac=1).reset_index(drop=True)\n",
    "#                 df['group'] = y\n",
    "#                 y += 1\n",
    "                \n",
    "                if ((nodes == 100000 and edges == 10000000) or (nodes == 10000 and edges == 1000000)):\n",
    "                    all_csvs_1 = all_csvs_1.append(df)\n",
    "                else:\n",
    "                    all_csvs = all_csvs.append(df)\n",
    "#             break\n",
    "            mul *= 10\n",
    "#         break    \n",
    "        nodes*=10\n",
    "#     break"
   ]
  },
  {
   "cell_type": "code",
   "execution_count": 73,
   "id": "d4ec7cf9-d662-45c0-bd31-1c639faf8be3",
   "metadata": {},
   "outputs": [],
   "source": [
    "all_csvs1 = all_csvs\n",
    "all_csvs2 = all_csvs_1"
   ]
  },
  {
   "cell_type": "code",
   "execution_count": 74,
   "id": "cb67f9dd-6d77-4b49-8725-43395d98045a",
   "metadata": {},
   "outputs": [
    {
     "name": "stdout",
     "output_type": "stream",
     "text": [
      "      1_direction  2_parallel  2_grain  3_densevert  3_vertset  3_direction  \\\n",
      "0               1           2      256            0          0            2   \n",
      "1               0           2        8            0          1            3   \n",
      "2               0           2        8            0          0            3   \n",
      "3               0           1        8            0          2            2   \n",
      "4               2           3      256            1          2            3   \n",
      "...           ...         ...      ...          ...        ...          ...   \n",
      "1483            0           2      256            1          1            5   \n",
      "1484            3           3      256            0          0            5   \n",
      "1485            1           1       16            0          1            1   \n",
      "1486            1           0        0            1          1            0   \n",
      "1487            0           2       16            1          2            4   \n",
      "\n",
      "       nodes      edges        rt                          name  min_deg  \\\n",
      "0       1000      10000  0.000029     1000_10000_0.45_0.22_0.22      0.0   \n",
      "1       1000      10000  0.000033     1000_10000_0.45_0.22_0.22      0.0   \n",
      "2       1000      10000  0.000031     1000_10000_0.45_0.22_0.22      0.0   \n",
      "3       1000      10000  0.000030     1000_10000_0.45_0.22_0.22      0.0   \n",
      "4       1000      10000  0.000029     1000_10000_0.45_0.22_0.22      0.0   \n",
      "...      ...        ...       ...                           ...      ...   \n",
      "1483  100000  100000000  0.196773  100000_100000000_0.3_0.3_0.3      0.0   \n",
      "1484  100000  100000000  0.074700  100000_100000000_0.3_0.3_0.3      0.0   \n",
      "1485  100000  100000000  0.052164  100000_100000000_0.3_0.3_0.3      0.0   \n",
      "1486  100000  100000000  0.055734  100000_100000000_0.3_0.3_0.3      0.0   \n",
      "1487  100000  100000000  0.189503  100000_100000000_0.3_0.3_0.3      0.0   \n",
      "\n",
      "      max_deg    std_deg    e_entr  norm_e_entr    d_entr     a     b     c  \\\n",
      "0       191.0    13.7547   6.94634     1.005590  0.385417  0.45  0.22  0.22   \n",
      "1       191.0    13.7547   6.94634     1.005590  0.385417  0.45  0.22  0.22   \n",
      "2       191.0    13.7547   6.94634     1.005590  0.385417  0.45  0.22  0.22   \n",
      "3       191.0    13.7547   6.94634     1.005590  0.385417  0.45  0.22  0.22   \n",
      "4       191.0    13.7547   6.94634     1.005590  0.385417  0.45  0.22  0.22   \n",
      "...       ...        ...       ...          ...       ...   ...   ...   ...   \n",
      "1483  19425.0  1054.5000  11.13520     0.967192  0.636989  0.30  0.30  0.30   \n",
      "1484  19425.0  1054.5000  11.13520     0.967192  0.636989  0.30  0.30  0.30   \n",
      "1485  19425.0  1054.5000  11.13520     0.967192  0.636989  0.30  0.30  0.30   \n",
      "1486  19425.0  1054.5000  11.13520     0.967192  0.636989  0.30  0.30  0.30   \n",
      "1487  19425.0  1054.5000  11.13520     0.967192  0.636989  0.30  0.30  0.30   \n",
      "\n",
      "      rank  \n",
      "0      550  \n",
      "1      948  \n",
      "2      774  \n",
      "3      643  \n",
      "4      606  \n",
      "...    ...  \n",
      "1483  1362  \n",
      "1484   953  \n",
      "1485   375  \n",
      "1486   564  \n",
      "1487  1276  \n",
      "\n",
      "[44640 rows x 20 columns]\n"
     ]
    }
   ],
   "source": [
    "print(all_csvs1)"
   ]
  },
  {
   "cell_type": "code",
   "execution_count": 75,
   "id": "8591d1ae-b20d-4325-bfd9-a5a00d1d2b97",
   "metadata": {},
   "outputs": [
    {
     "name": "stdout",
     "output_type": "stream",
     "text": [
      "      1_direction  2_parallel  2_grain  3_densevert  3_vertset  3_direction  \\\n",
      "0               2           2        8            1          1            5   \n",
      "1               0           2       64            0          0            2   \n",
      "2               1           1        1            1          1            2   \n",
      "3               2           2        1            1          2            2   \n",
      "4               0           3      256            0          1            5   \n",
      "...           ...         ...      ...          ...        ...          ...   \n",
      "1483            3           2       64            0          1            5   \n",
      "1484            3           3      256            1          2            5   \n",
      "1485            3           1        8            1          2            4   \n",
      "1486            1           1        8            0          2            4   \n",
      "1487            2           2        1            0          2            5   \n",
      "\n",
      "       nodes     edges        rt                          name  min_deg  \\\n",
      "0      10000   1000000  0.000193  10000_1000000_0.45_0.22_0.22      0.0   \n",
      "1      10000   1000000  0.001829  10000_1000000_0.45_0.22_0.22      0.0   \n",
      "2      10000   1000000  0.000755  10000_1000000_0.45_0.22_0.22      0.0   \n",
      "3      10000   1000000  0.000191  10000_1000000_0.45_0.22_0.22      0.0   \n",
      "4      10000   1000000  0.001853  10000_1000000_0.45_0.22_0.22      0.0   \n",
      "...      ...       ...       ...                           ...      ...   \n",
      "1483  100000  10000000  0.013009   100000_10000000_0.3_0.3_0.3      0.0   \n",
      "1484  100000  10000000  0.013100   100000_10000000_0.3_0.3_0.3      0.0   \n",
      "1485  100000  10000000  0.012826   100000_10000000_0.3_0.3_0.3      0.0   \n",
      "1486  100000  10000000  0.013544   100000_10000000_0.3_0.3_0.3      0.0   \n",
      "1487  100000  10000000  0.002395   100000_10000000_0.3_0.3_0.3      0.0   \n",
      "\n",
      "      max_deg  std_deg    e_entr  norm_e_entr    d_entr     a     b     c  \\\n",
      "0      3695.0  173.915   8.52927     0.926054  0.534453  0.45  0.22  0.22   \n",
      "1      3695.0  173.915   8.52927     0.926054  0.534453  0.45  0.22  0.22   \n",
      "2      3695.0  173.915   8.52927     0.926054  0.534453  0.45  0.22  0.22   \n",
      "3      3695.0  173.915   8.52927     0.926054  0.534453  0.45  0.22  0.22   \n",
      "4      3695.0  173.915   8.52927     0.926054  0.534453  0.45  0.22  0.22   \n",
      "...       ...      ...       ...          ...       ...   ...   ...   ...   \n",
      "1483   1897.0  103.371  11.24210     0.976475  0.549179  0.30  0.30  0.30   \n",
      "1484   1897.0  103.371  11.24210     0.976475  0.549179  0.30  0.30  0.30   \n",
      "1485   1897.0  103.371  11.24210     0.976475  0.549179  0.30  0.30  0.30   \n",
      "1486   1897.0  103.371  11.24210     0.976475  0.549179  0.30  0.30  0.30   \n",
      "1487   1897.0  103.371  11.24210     0.976475  0.549179  0.30  0.30  0.30   \n",
      "\n",
      "      rank  \n",
      "0      173  \n",
      "1     1251  \n",
      "2      629  \n",
      "3      155  \n",
      "4     1301  \n",
      "...    ...  \n",
      "1483   532  \n",
      "1484   553  \n",
      "1485   474  \n",
      "1486   643  \n",
      "1487    49  \n",
      "\n",
      "[14880 rows x 20 columns]\n"
     ]
    }
   ],
   "source": [
    "print(all_csvs2)"
   ]
  },
  {
   "cell_type": "code",
   "execution_count": 76,
   "id": "a0c2a37a-3d4c-4093-9860-96e426888e6a",
   "metadata": {},
   "outputs": [],
   "source": [
    "# all_csvs1 = all_csvs1.drop(columns=['name'])\n",
    "\n",
    "all_csvs1 = all_csvs1.drop(columns=['a'])\n",
    "all_csvs1 = all_csvs1.drop(columns=['b'])\n",
    "all_csvs1 = all_csvs1.drop(columns=['c'])\n",
    "# all_csvs1 = all_csvs1.drop(columns=['min'])\n",
    "# all_csvs1 = all_csvs1.drop(columns=['max'])\n",
    "# all_csvs1 = all_csvs1.drop(columns=['std'])\n",
    "# all_csvs1 = all_csvs1.drop(columns=['e_entr'])\n",
    "all_csvs1 = all_csvs1.drop(columns=['rt'])\n",
    "all_csvs1 = all_csvs1.drop(columns=['norm_e_entr'])\n",
    "# all_csvs1 = all_csvs1.drop(columns=['d_entr'])\n",
    "# all_csvs1 = all_csvs1.drop(columns=['nodes'])\n",
    "# all_csvs1 = all_csvs1.drop(columns=['edges'])"
   ]
  },
  {
   "cell_type": "code",
   "execution_count": 77,
   "id": "64bf2f1e-e973-4194-8d08-cfa5848132bd",
   "metadata": {},
   "outputs": [],
   "source": [
    "# all_csvs2 = all_csvs2.drop(columns=['name'])\n",
    "\n",
    "all_csvs2 = all_csvs2.drop(columns=['a'])\n",
    "all_csvs2 = all_csvs2.drop(columns=['b'])\n",
    "all_csvs2 = all_csvs2.drop(columns=['c'])\n",
    "# all_csvs2 = all_csvs2.drop(columns=['min'])\n",
    "# all_csvs2 = all_csvs2.drop(columns=['max'])\n",
    "# all_csvs2 = all_csvs2.drop(columns=['std'])\n",
    "# all_csvs2 = all_csvs2.drop(columns=['e_entr'])\n",
    "all_csvs2 = all_csvs2.drop(columns=['rt'])\n",
    "all_csvs2 = all_csvs2.drop(columns=['norm_e_entr'])\n",
    "# all_csvs2 = all_csvs2.drop(columns=['d_entr'])\n",
    "# all_csvs2 = all_csvs2.drop(columns=['nodes'])\n",
    "# all_csvs2 = all_csvs2.drop(columns=['edges'])"
   ]
  },
  {
   "cell_type": "code",
   "execution_count": 78,
   "id": "0f51db44-1087-4e64-a812-4dab11e9c153",
   "metadata": {},
   "outputs": [],
   "source": [
    "# df1 = all_csvs1.pop('rt')*1000\n",
    "# all_csvs1['rt'] = df1"
   ]
  },
  {
   "cell_type": "code",
   "execution_count": 79,
   "id": "eb0d93eb-a42e-48d4-b2e0-3297c74c73f0",
   "metadata": {},
   "outputs": [
    {
     "name": "stdout",
     "output_type": "stream",
     "text": [
      "      1_direction  2_parallel  2_grain  3_densevert  3_vertset  3_direction  \\\n",
      "0               1           2      256            0          0            2   \n",
      "1               0           2        8            0          1            3   \n",
      "2               0           2        8            0          0            3   \n",
      "3               0           1        8            0          2            2   \n",
      "4               2           3      256            1          2            3   \n",
      "...           ...         ...      ...          ...        ...          ...   \n",
      "1483            0           2      256            1          1            5   \n",
      "1484            3           3      256            0          0            5   \n",
      "1485            1           1       16            0          1            1   \n",
      "1486            1           0        0            1          1            0   \n",
      "1487            0           2       16            1          2            4   \n",
      "\n",
      "       nodes      edges                          name  min_deg  max_deg  \\\n",
      "0       1000      10000     1000_10000_0.45_0.22_0.22      0.0    191.0   \n",
      "1       1000      10000     1000_10000_0.45_0.22_0.22      0.0    191.0   \n",
      "2       1000      10000     1000_10000_0.45_0.22_0.22      0.0    191.0   \n",
      "3       1000      10000     1000_10000_0.45_0.22_0.22      0.0    191.0   \n",
      "4       1000      10000     1000_10000_0.45_0.22_0.22      0.0    191.0   \n",
      "...      ...        ...                           ...      ...      ...   \n",
      "1483  100000  100000000  100000_100000000_0.3_0.3_0.3      0.0  19425.0   \n",
      "1484  100000  100000000  100000_100000000_0.3_0.3_0.3      0.0  19425.0   \n",
      "1485  100000  100000000  100000_100000000_0.3_0.3_0.3      0.0  19425.0   \n",
      "1486  100000  100000000  100000_100000000_0.3_0.3_0.3      0.0  19425.0   \n",
      "1487  100000  100000000  100000_100000000_0.3_0.3_0.3      0.0  19425.0   \n",
      "\n",
      "        std_deg    e_entr    d_entr  rank  \n",
      "0       13.7547   6.94634  0.385417   550  \n",
      "1       13.7547   6.94634  0.385417   948  \n",
      "2       13.7547   6.94634  0.385417   774  \n",
      "3       13.7547   6.94634  0.385417   643  \n",
      "4       13.7547   6.94634  0.385417   606  \n",
      "...         ...       ...       ...   ...  \n",
      "1483  1054.5000  11.13520  0.636989  1362  \n",
      "1484  1054.5000  11.13520  0.636989   953  \n",
      "1485  1054.5000  11.13520  0.636989   375  \n",
      "1486  1054.5000  11.13520  0.636989   564  \n",
      "1487  1054.5000  11.13520  0.636989  1276  \n",
      "\n",
      "[44640 rows x 15 columns]\n"
     ]
    }
   ],
   "source": [
    "print(all_csvs1)"
   ]
  },
  {
   "cell_type": "code",
   "execution_count": 80,
   "id": "89b5fb20-019f-4342-95bb-21e1f6f12677",
   "metadata": {},
   "outputs": [
    {
     "name": "stdout",
     "output_type": "stream",
     "text": [
      "<class 'pandas.core.frame.DataFrame'>\n",
      "Int64Index: 44640 entries, 0 to 1487\n",
      "Data columns (total 15 columns):\n",
      " #   Column       Non-Null Count  Dtype  \n",
      "---  ------       --------------  -----  \n",
      " 0   1_direction  44640 non-null  int64  \n",
      " 1   2_parallel   44640 non-null  int64  \n",
      " 2   2_grain      44640 non-null  int64  \n",
      " 3   3_densevert  44640 non-null  int64  \n",
      " 4   3_vertset    44640 non-null  int64  \n",
      " 5   3_direction  44640 non-null  int64  \n",
      " 6   nodes        44640 non-null  int64  \n",
      " 7   edges        44640 non-null  int64  \n",
      " 8   name         44640 non-null  object \n",
      " 9   min_deg      44640 non-null  float64\n",
      " 10  max_deg      44640 non-null  float64\n",
      " 11  std_deg      44640 non-null  float64\n",
      " 12  e_entr       44640 non-null  float64\n",
      " 13  d_entr       44640 non-null  float64\n",
      " 14  rank         44640 non-null  int64  \n",
      "dtypes: float64(5), int64(9), object(1)\n",
      "memory usage: 5.4+ MB\n"
     ]
    }
   ],
   "source": [
    "all_csvs1.info()"
   ]
  },
  {
   "cell_type": "code",
   "execution_count": 81,
   "id": "1495b229-a4c8-4852-b3d2-1cc146595f2a",
   "metadata": {},
   "outputs": [
    {
     "data": {
      "text/html": [
       "<div>\n",
       "<style scoped>\n",
       "    .dataframe tbody tr th:only-of-type {\n",
       "        vertical-align: middle;\n",
       "    }\n",
       "\n",
       "    .dataframe tbody tr th {\n",
       "        vertical-align: top;\n",
       "    }\n",
       "\n",
       "    .dataframe thead th {\n",
       "        text-align: right;\n",
       "    }\n",
       "</style>\n",
       "<table border=\"1\" class=\"dataframe\">\n",
       "  <thead>\n",
       "    <tr style=\"text-align: right;\">\n",
       "      <th></th>\n",
       "      <th>1_direction</th>\n",
       "      <th>2_parallel</th>\n",
       "      <th>2_grain</th>\n",
       "      <th>3_densevert</th>\n",
       "      <th>3_vertset</th>\n",
       "      <th>3_direction</th>\n",
       "      <th>nodes</th>\n",
       "      <th>edges</th>\n",
       "      <th>min_deg</th>\n",
       "      <th>max_deg</th>\n",
       "      <th>std_deg</th>\n",
       "      <th>e_entr</th>\n",
       "      <th>d_entr</th>\n",
       "      <th>rank</th>\n",
       "    </tr>\n",
       "  </thead>\n",
       "  <tbody>\n",
       "    <tr>\n",
       "      <th>count</th>\n",
       "      <td>44640.000000</td>\n",
       "      <td>44640.000000</td>\n",
       "      <td>44640.000000</td>\n",
       "      <td>44640.000000</td>\n",
       "      <td>44640.000000</td>\n",
       "      <td>44640.000000</td>\n",
       "      <td>44640.000000</td>\n",
       "      <td>4.464000e+04</td>\n",
       "      <td>44640.0</td>\n",
       "      <td>4.464000e+04</td>\n",
       "      <td>44640.000000</td>\n",
       "      <td>44640.000000</td>\n",
       "      <td>44640.000000</td>\n",
       "      <td>44640.000000</td>\n",
       "    </tr>\n",
       "    <tr>\n",
       "      <th>mean</th>\n",
       "      <td>1.354839</td>\n",
       "      <td>1.875000</td>\n",
       "      <td>64.687500</td>\n",
       "      <td>0.548387</td>\n",
       "      <td>1.000000</td>\n",
       "      <td>3.354839</td>\n",
       "      <td>37000.000000</td>\n",
       "      <td>1.853500e+07</td>\n",
       "      <td>0.0</td>\n",
       "      <td>9.979513e+04</td>\n",
       "      <td>929.561218</td>\n",
       "      <td>8.904242</td>\n",
       "      <td>0.445960</td>\n",
       "      <td>743.500000</td>\n",
       "    </tr>\n",
       "    <tr>\n",
       "      <th>std</th>\n",
       "      <td>1.064039</td>\n",
       "      <td>0.927035</td>\n",
       "      <td>94.508809</td>\n",
       "      <td>0.497659</td>\n",
       "      <td>0.816506</td>\n",
       "      <td>1.380721</td>\n",
       "      <td>44699.493946</td>\n",
       "      <td>3.660583e+07</td>\n",
       "      <td>0.0</td>\n",
       "      <td>4.213522e+05</td>\n",
       "      <td>2544.709919</td>\n",
       "      <td>2.073228</td>\n",
       "      <td>0.094521</td>\n",
       "      <td>429.553315</td>\n",
       "    </tr>\n",
       "    <tr>\n",
       "      <th>min</th>\n",
       "      <td>0.000000</td>\n",
       "      <td>0.000000</td>\n",
       "      <td>0.000000</td>\n",
       "      <td>0.000000</td>\n",
       "      <td>0.000000</td>\n",
       "      <td>0.000000</td>\n",
       "      <td>1000.000000</td>\n",
       "      <td>1.000000e+04</td>\n",
       "      <td>0.0</td>\n",
       "      <td>2.600000e+01</td>\n",
       "      <td>3.497410</td>\n",
       "      <td>5.092490</td>\n",
       "      <td>0.315158</td>\n",
       "      <td>0.000000</td>\n",
       "    </tr>\n",
       "    <tr>\n",
       "      <th>25%</th>\n",
       "      <td>0.000000</td>\n",
       "      <td>1.000000</td>\n",
       "      <td>6.250000</td>\n",
       "      <td>0.000000</td>\n",
       "      <td>0.000000</td>\n",
       "      <td>2.000000</td>\n",
       "      <td>1000.000000</td>\n",
       "      <td>1.000000e+05</td>\n",
       "      <td>0.0</td>\n",
       "      <td>9.200000e+01</td>\n",
       "      <td>9.213370</td>\n",
       "      <td>6.946340</td>\n",
       "      <td>0.376892</td>\n",
       "      <td>371.750000</td>\n",
       "    </tr>\n",
       "    <tr>\n",
       "      <th>50%</th>\n",
       "      <td>1.000000</td>\n",
       "      <td>2.000000</td>\n",
       "      <td>16.000000</td>\n",
       "      <td>1.000000</td>\n",
       "      <td>1.000000</td>\n",
       "      <td>4.000000</td>\n",
       "      <td>10000.000000</td>\n",
       "      <td>5.500000e+05</td>\n",
       "      <td>0.0</td>\n",
       "      <td>1.076500e+03</td>\n",
       "      <td>55.261600</td>\n",
       "      <td>9.044785</td>\n",
       "      <td>0.413748</td>\n",
       "      <td>743.500000</td>\n",
       "    </tr>\n",
       "    <tr>\n",
       "      <th>75%</th>\n",
       "      <td>2.000000</td>\n",
       "      <td>3.000000</td>\n",
       "      <td>64.000000</td>\n",
       "      <td>1.000000</td>\n",
       "      <td>2.000000</td>\n",
       "      <td>5.000000</td>\n",
       "      <td>100000.000000</td>\n",
       "      <td>1.000000e+07</td>\n",
       "      <td>0.0</td>\n",
       "      <td>8.798000e+03</td>\n",
       "      <td>354.481000</td>\n",
       "      <td>10.530700</td>\n",
       "      <td>0.536167</td>\n",
       "      <td>1115.250000</td>\n",
       "    </tr>\n",
       "    <tr>\n",
       "      <th>max</th>\n",
       "      <td>3.000000</td>\n",
       "      <td>3.000000</td>\n",
       "      <td>256.000000</td>\n",
       "      <td>1.000000</td>\n",
       "      <td>2.000000</td>\n",
       "      <td>5.000000</td>\n",
       "      <td>100000.000000</td>\n",
       "      <td>1.000000e+08</td>\n",
       "      <td>0.0</td>\n",
       "      <td>2.326988e+06</td>\n",
       "      <td>12645.900000</td>\n",
       "      <td>12.469600</td>\n",
       "      <td>0.646252</td>\n",
       "      <td>1487.000000</td>\n",
       "    </tr>\n",
       "  </tbody>\n",
       "</table>\n",
       "</div>"
      ],
      "text/plain": [
       "        1_direction    2_parallel       2_grain   3_densevert     3_vertset  \\\n",
       "count  44640.000000  44640.000000  44640.000000  44640.000000  44640.000000   \n",
       "mean       1.354839      1.875000     64.687500      0.548387      1.000000   \n",
       "std        1.064039      0.927035     94.508809      0.497659      0.816506   \n",
       "min        0.000000      0.000000      0.000000      0.000000      0.000000   \n",
       "25%        0.000000      1.000000      6.250000      0.000000      0.000000   \n",
       "50%        1.000000      2.000000     16.000000      1.000000      1.000000   \n",
       "75%        2.000000      3.000000     64.000000      1.000000      2.000000   \n",
       "max        3.000000      3.000000    256.000000      1.000000      2.000000   \n",
       "\n",
       "        3_direction          nodes         edges  min_deg       max_deg  \\\n",
       "count  44640.000000   44640.000000  4.464000e+04  44640.0  4.464000e+04   \n",
       "mean       3.354839   37000.000000  1.853500e+07      0.0  9.979513e+04   \n",
       "std        1.380721   44699.493946  3.660583e+07      0.0  4.213522e+05   \n",
       "min        0.000000    1000.000000  1.000000e+04      0.0  2.600000e+01   \n",
       "25%        2.000000    1000.000000  1.000000e+05      0.0  9.200000e+01   \n",
       "50%        4.000000   10000.000000  5.500000e+05      0.0  1.076500e+03   \n",
       "75%        5.000000  100000.000000  1.000000e+07      0.0  8.798000e+03   \n",
       "max        5.000000  100000.000000  1.000000e+08      0.0  2.326988e+06   \n",
       "\n",
       "            std_deg        e_entr        d_entr          rank  \n",
       "count  44640.000000  44640.000000  44640.000000  44640.000000  \n",
       "mean     929.561218      8.904242      0.445960    743.500000  \n",
       "std     2544.709919      2.073228      0.094521    429.553315  \n",
       "min        3.497410      5.092490      0.315158      0.000000  \n",
       "25%        9.213370      6.946340      0.376892    371.750000  \n",
       "50%       55.261600      9.044785      0.413748    743.500000  \n",
       "75%      354.481000     10.530700      0.536167   1115.250000  \n",
       "max    12645.900000     12.469600      0.646252   1487.000000  "
      ]
     },
     "execution_count": 81,
     "metadata": {},
     "output_type": "execute_result"
    }
   ],
   "source": [
    "all_csvs1.describe()"
   ]
  },
  {
   "cell_type": "code",
   "execution_count": 82,
   "id": "320c3fbb-046c-40e5-ad47-b2b483771b7b",
   "metadata": {},
   "outputs": [],
   "source": [
    "import xgboost as xgb\n",
    "import numpy as np\n",
    "from sklearn.metrics import mean_squared_error\n",
    "from sklearn.model_selection import cross_val_score\n",
    "from sklearn.model_selection import RepeatedKFold"
   ]
  },
  {
   "cell_type": "code",
   "execution_count": 83,
   "id": "5a83b203-788c-4afc-a469-8cfcc7b7e170",
   "metadata": {},
   "outputs": [],
   "source": [
    "# model = XGBRegressor(n_estimators=1000, max_depth=7, eta=0.1, subsample=0.7, colsample_bytree=0.8)\n",
    "# model = XGBRegressor()"
   ]
  },
  {
   "cell_type": "code",
   "execution_count": 84,
   "id": "e6a24aab-acfc-439c-a465-62837ec70237",
   "metadata": {},
   "outputs": [],
   "source": [
    "data = all_csvs1\n",
    "groups = data.groupby('name').size().to_frame('size')['size'].to_numpy()\n",
    "X, y = data.iloc[:, ~data.columns.isin(['rank','name'])], data.iloc[:, data.columns.isin(['rank'])]"
   ]
  },
  {
   "cell_type": "code",
   "execution_count": 99,
   "id": "d785e503-25cc-40bb-96a3-159abdabd390",
   "metadata": {},
   "outputs": [],
   "source": [
    "test = all_csvs2\n",
    "groups2 = test.groupby('name').size().to_frame('size')['size'].to_numpy()\n",
    "Xtest, ytest, yval = test.iloc[:, ~test.columns.isin(['rank','name'])], test.iloc[:, test.columns.isin(['rank'])], test.iloc[:, test.columns.isin(['rank','name'])]"
   ]
  },
  {
   "cell_type": "code",
   "execution_count": 86,
   "id": "39c45f39-e760-473c-91cd-9205e5498459",
   "metadata": {},
   "outputs": [
    {
     "data": {
      "text/plain": [
       "array([1488, 1488, 1488, 1488, 1488, 1488, 1488, 1488, 1488, 1488, 1488,\n",
       "       1488, 1488, 1488, 1488, 1488, 1488, 1488, 1488, 1488, 1488, 1488,\n",
       "       1488, 1488, 1488, 1488, 1488, 1488, 1488, 1488])"
      ]
     },
     "execution_count": 86,
     "metadata": {},
     "output_type": "execute_result"
    }
   ],
   "source": [
    "groups"
   ]
  },
  {
   "cell_type": "code",
   "execution_count": 87,
   "id": "63968a6a-f719-4b4f-88d1-70911fd67749",
   "metadata": {},
   "outputs": [
    {
     "data": {
      "text/plain": [
       "array([1488, 1488, 1488, 1488, 1488, 1488, 1488, 1488, 1488, 1488])"
      ]
     },
     "execution_count": 87,
     "metadata": {},
     "output_type": "execute_result"
    }
   ],
   "source": [
    "groups2"
   ]
  },
  {
   "cell_type": "code",
   "execution_count": 88,
   "id": "19a81ff9-7a67-4e67-b577-db485aeb991f",
   "metadata": {},
   "outputs": [],
   "source": [
    "# data_dmatrix = xgb.DMatrix(data=X,label=y)"
   ]
  },
  {
   "cell_type": "code",
   "execution_count": 89,
   "id": "138600ac-ef8e-4ae8-8a88-008cd8ee5e4b",
   "metadata": {},
   "outputs": [],
   "source": [
    "# from sklearn.model_selection import train_test_split\n",
    "\n",
    "# X_train, X_test, y_train, y_test = train_test_split(X, y, test_size=0.2, random_state=123)"
   ]
  },
  {
   "cell_type": "code",
   "execution_count": null,
   "id": "6a724942-3d15-4e16-8c4c-a4076b710fb4",
   "metadata": {},
   "outputs": [],
   "source": []
  },
  {
   "cell_type": "code",
   "execution_count": 139,
   "id": "dadfd9b3-b287-4060-bf41-feac6ef5a01c",
   "metadata": {},
   "outputs": [
    {
     "data": {
      "text/plain": [
       "XGBRanker(base_score=0.5, booster='gbtree', colsample_bylevel=1,\n",
       "          colsample_bynode=1, colsample_bytree=0.9, enable_categorical=False,\n",
       "          eta=0.05, gamma=0, gpu_id=0, importance_type=None,\n",
       "          interaction_constraints='', learning_rate=0.1, max_delta_step=0,\n",
       "          max_depth=15, min_child_weight=1, missing=nan,\n",
       "          monotone_constraints='()', n_estimators=110, n_jobs=16,\n",
       "          num_parallel_tree=1, objective='rank:map', predictor='auto',\n",
       "          random_state=42, reg_alpha=0, reg_lambda=1, scale_pos_weight=None,\n",
       "          subsample=0.75, tree_method='gpu_hist', validate_parameters=1,\n",
       "          verbosity=None)"
      ]
     },
     "execution_count": 139,
     "metadata": {},
     "output_type": "execute_result"
    }
   ],
   "source": [
    "model = xgb.XGBRanker(  \n",
    "    tree_method='gpu_hist',\n",
    "    booster='gbtree',\n",
    "    objective='rank:pointwise',\n",
    "    random_state=42, \n",
    "    learning_rate=0.1,\n",
    "    colsample_bytree=0.9, \n",
    "    eta=0.05, \n",
    "    max_depth=15, \n",
    "    n_estimators=110, \n",
    "    subsample=0.75 \n",
    "    )\n",
    "\n",
    "model.fit(X, y, group=groups, verbose=True)"
   ]
  },
  {
   "cell_type": "code",
   "execution_count": 140,
   "id": "d82d5d1a-ec61-41d3-a873-cb835eca1ca0",
   "metadata": {},
   "outputs": [],
   "source": [
    "# xg_reg = xgb.XGBRegressor(objective ='reg:tweedie', colsample_bytree = 1, learning_rate = 0.3,\n",
    "#                 max_depth = 15, alpha = 20, n_estimators = 100)"
   ]
  },
  {
   "cell_type": "code",
   "execution_count": 141,
   "id": "e2a3ebb5-ea7f-45e9-a5d7-fb8e7ad6c5c5",
   "metadata": {},
   "outputs": [],
   "source": [
    "# xg_reg.fit(X_train,y_train)\n",
    "\n",
    "preds = model.predict(Xtest)"
   ]
  },
  {
   "cell_type": "code",
   "execution_count": 142,
   "id": "93fe2d7a-21c1-4ee3-b671-d4f2726166b6",
   "metadata": {},
   "outputs": [
    {
     "data": {
      "text/plain": [
       "array([0.5, 0.5, 0.5, ..., 0.5, 0.5, 0.5], dtype=float32)"
      ]
     },
     "execution_count": 142,
     "metadata": {},
     "output_type": "execute_result"
    }
   ],
   "source": [
    "preds"
   ]
  },
  {
   "cell_type": "code",
   "execution_count": 143,
   "id": "7f3344ad-3e4a-4113-91c6-e4a8f8c3332b",
   "metadata": {},
   "outputs": [
    {
     "data": {
      "text/html": [
       "<div>\n",
       "<style scoped>\n",
       "    .dataframe tbody tr th:only-of-type {\n",
       "        vertical-align: middle;\n",
       "    }\n",
       "\n",
       "    .dataframe tbody tr th {\n",
       "        vertical-align: top;\n",
       "    }\n",
       "\n",
       "    .dataframe thead th {\n",
       "        text-align: right;\n",
       "    }\n",
       "</style>\n",
       "<table border=\"1\" class=\"dataframe\">\n",
       "  <thead>\n",
       "    <tr style=\"text-align: right;\">\n",
       "      <th></th>\n",
       "      <th>rank</th>\n",
       "    </tr>\n",
       "  </thead>\n",
       "  <tbody>\n",
       "    <tr>\n",
       "      <th>0</th>\n",
       "      <td>173</td>\n",
       "    </tr>\n",
       "    <tr>\n",
       "      <th>1</th>\n",
       "      <td>1251</td>\n",
       "    </tr>\n",
       "    <tr>\n",
       "      <th>2</th>\n",
       "      <td>629</td>\n",
       "    </tr>\n",
       "    <tr>\n",
       "      <th>3</th>\n",
       "      <td>155</td>\n",
       "    </tr>\n",
       "    <tr>\n",
       "      <th>4</th>\n",
       "      <td>1301</td>\n",
       "    </tr>\n",
       "    <tr>\n",
       "      <th>...</th>\n",
       "      <td>...</td>\n",
       "    </tr>\n",
       "    <tr>\n",
       "      <th>1483</th>\n",
       "      <td>532</td>\n",
       "    </tr>\n",
       "    <tr>\n",
       "      <th>1484</th>\n",
       "      <td>553</td>\n",
       "    </tr>\n",
       "    <tr>\n",
       "      <th>1485</th>\n",
       "      <td>474</td>\n",
       "    </tr>\n",
       "    <tr>\n",
       "      <th>1486</th>\n",
       "      <td>643</td>\n",
       "    </tr>\n",
       "    <tr>\n",
       "      <th>1487</th>\n",
       "      <td>49</td>\n",
       "    </tr>\n",
       "  </tbody>\n",
       "</table>\n",
       "<p>14880 rows × 1 columns</p>\n",
       "</div>"
      ],
      "text/plain": [
       "      rank\n",
       "0      173\n",
       "1     1251\n",
       "2      629\n",
       "3      155\n",
       "4     1301\n",
       "...    ...\n",
       "1483   532\n",
       "1484   553\n",
       "1485   474\n",
       "1486   643\n",
       "1487    49\n",
       "\n",
       "[14880 rows x 1 columns]"
      ]
     },
     "execution_count": 143,
     "metadata": {},
     "output_type": "execute_result"
    }
   ],
   "source": [
    "ytest"
   ]
  },
  {
   "cell_type": "code",
   "execution_count": 144,
   "id": "38ae3ab6-4a7e-4de6-8957-a253108e27cf",
   "metadata": {},
   "outputs": [],
   "source": [
    "pred_df = pd.DataFrame(yval)\n",
    "pred_df['pred'] = preds"
   ]
  },
  {
   "cell_type": "code",
   "execution_count": 145,
   "id": "4abd3252-635e-4de4-ada1-38fa1e224130",
   "metadata": {},
   "outputs": [
    {
     "data": {
      "text/html": [
       "<div>\n",
       "<style scoped>\n",
       "    .dataframe tbody tr th:only-of-type {\n",
       "        vertical-align: middle;\n",
       "    }\n",
       "\n",
       "    .dataframe tbody tr th {\n",
       "        vertical-align: top;\n",
       "    }\n",
       "\n",
       "    .dataframe thead th {\n",
       "        text-align: right;\n",
       "    }\n",
       "</style>\n",
       "<table border=\"1\" class=\"dataframe\">\n",
       "  <thead>\n",
       "    <tr style=\"text-align: right;\">\n",
       "      <th></th>\n",
       "      <th>name</th>\n",
       "      <th>rank</th>\n",
       "      <th>pred</th>\n",
       "    </tr>\n",
       "  </thead>\n",
       "  <tbody>\n",
       "    <tr>\n",
       "      <th>0</th>\n",
       "      <td>10000_1000000_0.45_0.22_0.22</td>\n",
       "      <td>173</td>\n",
       "      <td>0.5</td>\n",
       "    </tr>\n",
       "    <tr>\n",
       "      <th>1</th>\n",
       "      <td>10000_1000000_0.45_0.22_0.22</td>\n",
       "      <td>1251</td>\n",
       "      <td>0.5</td>\n",
       "    </tr>\n",
       "    <tr>\n",
       "      <th>2</th>\n",
       "      <td>10000_1000000_0.45_0.22_0.22</td>\n",
       "      <td>629</td>\n",
       "      <td>0.5</td>\n",
       "    </tr>\n",
       "    <tr>\n",
       "      <th>3</th>\n",
       "      <td>10000_1000000_0.45_0.22_0.22</td>\n",
       "      <td>155</td>\n",
       "      <td>0.5</td>\n",
       "    </tr>\n",
       "    <tr>\n",
       "      <th>4</th>\n",
       "      <td>10000_1000000_0.45_0.22_0.22</td>\n",
       "      <td>1301</td>\n",
       "      <td>0.5</td>\n",
       "    </tr>\n",
       "    <tr>\n",
       "      <th>...</th>\n",
       "      <td>...</td>\n",
       "      <td>...</td>\n",
       "      <td>...</td>\n",
       "    </tr>\n",
       "    <tr>\n",
       "      <th>1483</th>\n",
       "      <td>100000_10000000_0.3_0.3_0.3</td>\n",
       "      <td>532</td>\n",
       "      <td>0.5</td>\n",
       "    </tr>\n",
       "    <tr>\n",
       "      <th>1484</th>\n",
       "      <td>100000_10000000_0.3_0.3_0.3</td>\n",
       "      <td>553</td>\n",
       "      <td>0.5</td>\n",
       "    </tr>\n",
       "    <tr>\n",
       "      <th>1485</th>\n",
       "      <td>100000_10000000_0.3_0.3_0.3</td>\n",
       "      <td>474</td>\n",
       "      <td>0.5</td>\n",
       "    </tr>\n",
       "    <tr>\n",
       "      <th>1486</th>\n",
       "      <td>100000_10000000_0.3_0.3_0.3</td>\n",
       "      <td>643</td>\n",
       "      <td>0.5</td>\n",
       "    </tr>\n",
       "    <tr>\n",
       "      <th>1487</th>\n",
       "      <td>100000_10000000_0.3_0.3_0.3</td>\n",
       "      <td>49</td>\n",
       "      <td>0.5</td>\n",
       "    </tr>\n",
       "  </tbody>\n",
       "</table>\n",
       "<p>14880 rows × 3 columns</p>\n",
       "</div>"
      ],
      "text/plain": [
       "                              name  rank  pred\n",
       "0     10000_1000000_0.45_0.22_0.22   173   0.5\n",
       "1     10000_1000000_0.45_0.22_0.22  1251   0.5\n",
       "2     10000_1000000_0.45_0.22_0.22   629   0.5\n",
       "3     10000_1000000_0.45_0.22_0.22   155   0.5\n",
       "4     10000_1000000_0.45_0.22_0.22  1301   0.5\n",
       "...                            ...   ...   ...\n",
       "1483   100000_10000000_0.3_0.3_0.3   532   0.5\n",
       "1484   100000_10000000_0.3_0.3_0.3   553   0.5\n",
       "1485   100000_10000000_0.3_0.3_0.3   474   0.5\n",
       "1486   100000_10000000_0.3_0.3_0.3   643   0.5\n",
       "1487   100000_10000000_0.3_0.3_0.3    49   0.5\n",
       "\n",
       "[14880 rows x 3 columns]"
      ]
     },
     "execution_count": 145,
     "metadata": {},
     "output_type": "execute_result"
    }
   ],
   "source": [
    "pred_df"
   ]
  },
  {
   "cell_type": "code",
   "execution_count": 146,
   "id": "7b5edfc1-6193-48a6-9126-fc8a608284b4",
   "metadata": {},
   "outputs": [
    {
     "data": {
      "text/html": [
       "<div>\n",
       "<style scoped>\n",
       "    .dataframe tbody tr th:only-of-type {\n",
       "        vertical-align: middle;\n",
       "    }\n",
       "\n",
       "    .dataframe tbody tr th {\n",
       "        vertical-align: top;\n",
       "    }\n",
       "\n",
       "    .dataframe thead th {\n",
       "        text-align: right;\n",
       "    }\n",
       "</style>\n",
       "<table border=\"1\" class=\"dataframe\">\n",
       "  <thead>\n",
       "    <tr style=\"text-align: right;\">\n",
       "      <th></th>\n",
       "      <th>name</th>\n",
       "      <th>rank</th>\n",
       "      <th>pred</th>\n",
       "    </tr>\n",
       "  </thead>\n",
       "  <tbody>\n",
       "    <tr>\n",
       "      <th>0</th>\n",
       "      <td>100000_10000000_0.25_0.25_0.25</td>\n",
       "      <td>1220</td>\n",
       "      <td>0.5</td>\n",
       "    </tr>\n",
       "    <tr>\n",
       "      <th>1</th>\n",
       "      <td>100000_10000000_0.25_0.25_0.25</td>\n",
       "      <td>182</td>\n",
       "      <td>0.5</td>\n",
       "    </tr>\n",
       "    <tr>\n",
       "      <th>2</th>\n",
       "      <td>100000_10000000_0.25_0.25_0.25</td>\n",
       "      <td>1384</td>\n",
       "      <td>0.5</td>\n",
       "    </tr>\n",
       "    <tr>\n",
       "      <th>3</th>\n",
       "      <td>100000_10000000_0.25_0.25_0.25</td>\n",
       "      <td>1280</td>\n",
       "      <td>0.5</td>\n",
       "    </tr>\n",
       "    <tr>\n",
       "      <th>4</th>\n",
       "      <td>100000_10000000_0.25_0.25_0.25</td>\n",
       "      <td>599</td>\n",
       "      <td>0.5</td>\n",
       "    </tr>\n",
       "    <tr>\n",
       "      <th>...</th>\n",
       "      <td>...</td>\n",
       "      <td>...</td>\n",
       "      <td>...</td>\n",
       "    </tr>\n",
       "    <tr>\n",
       "      <th>14875</th>\n",
       "      <td>10000_1000000_0.7_0.1_0.1</td>\n",
       "      <td>1200</td>\n",
       "      <td>0.5</td>\n",
       "    </tr>\n",
       "    <tr>\n",
       "      <th>14876</th>\n",
       "      <td>10000_1000000_0.7_0.1_0.1</td>\n",
       "      <td>876</td>\n",
       "      <td>0.5</td>\n",
       "    </tr>\n",
       "    <tr>\n",
       "      <th>14877</th>\n",
       "      <td>10000_1000000_0.7_0.1_0.1</td>\n",
       "      <td>900</td>\n",
       "      <td>0.5</td>\n",
       "    </tr>\n",
       "    <tr>\n",
       "      <th>14878</th>\n",
       "      <td>10000_1000000_0.7_0.1_0.1</td>\n",
       "      <td>775</td>\n",
       "      <td>0.5</td>\n",
       "    </tr>\n",
       "    <tr>\n",
       "      <th>14879</th>\n",
       "      <td>10000_1000000_0.7_0.1_0.1</td>\n",
       "      <td>666</td>\n",
       "      <td>0.5</td>\n",
       "    </tr>\n",
       "  </tbody>\n",
       "</table>\n",
       "<p>14880 rows × 3 columns</p>\n",
       "</div>"
      ],
      "text/plain": [
       "                                 name  rank  pred\n",
       "0      100000_10000000_0.25_0.25_0.25  1220   0.5\n",
       "1      100000_10000000_0.25_0.25_0.25   182   0.5\n",
       "2      100000_10000000_0.25_0.25_0.25  1384   0.5\n",
       "3      100000_10000000_0.25_0.25_0.25  1280   0.5\n",
       "4      100000_10000000_0.25_0.25_0.25   599   0.5\n",
       "...                               ...   ...   ...\n",
       "14875       10000_1000000_0.7_0.1_0.1  1200   0.5\n",
       "14876       10000_1000000_0.7_0.1_0.1   876   0.5\n",
       "14877       10000_1000000_0.7_0.1_0.1   900   0.5\n",
       "14878       10000_1000000_0.7_0.1_0.1   775   0.5\n",
       "14879       10000_1000000_0.7_0.1_0.1   666   0.5\n",
       "\n",
       "[14880 rows x 3 columns]"
      ]
     },
     "execution_count": 146,
     "metadata": {},
     "output_type": "execute_result"
    }
   ],
   "source": [
    "p1 = pred_df.sort_values(by=['name','pred']).reset_index(drop=True)\n",
    "p1"
   ]
  },
  {
   "cell_type": "code",
   "execution_count": 138,
   "id": "26a657a3-15f1-4c5c-bcd0-2d31399e8274",
   "metadata": {},
   "outputs": [
    {
     "data": {
      "text/plain": [
       "1107816.0"
      ]
     },
     "execution_count": 138,
     "metadata": {},
     "output_type": "execute_result"
    }
   ],
   "source": [
    "1488*1489/2"
   ]
  },
  {
   "cell_type": "code",
   "execution_count": 126,
   "id": "3c4f6ce3-0edf-4b91-adf6-ad31b2116e90",
   "metadata": {},
   "outputs": [],
   "source": [
    "df_val_test = p1.iloc[:1488,:]"
   ]
  },
  {
   "cell_type": "code",
   "execution_count": 127,
   "id": "670cebbc-cd48-418c-b019-1918b7433c4a",
   "metadata": {},
   "outputs": [
    {
     "name": "stdout",
     "output_type": "stream",
     "text": [
      "0\n",
      "100\n",
      "200\n",
      "300\n",
      "400\n",
      "500\n",
      "600\n",
      "700\n",
      "800\n",
      "900\n",
      "1000\n",
      "1100\n",
      "1200\n",
      "1300\n",
      "1400\n",
      "77.737524495448\n",
      "860032\n"
     ]
    }
   ],
   "source": [
    "total = 0\n",
    "correct = 0\n",
    "for index, row in df_val_test.iterrows():\n",
    "    for index1, row1 in df_val_test.iterrows():\n",
    "        if (row['name'] == row['name']):\n",
    "            if(index < index1):\n",
    "                total += 1\n",
    "                if (row['rank'] < row1['rank']):\n",
    "                    correct += 1\n",
    "    if (index%100 == 0):            \n",
    "        print(index)\n",
    "print(correct*100/total)\n",
    "print(correct)"
   ]
  },
  {
   "cell_type": "code",
   "execution_count": 117,
   "id": "03b8cb42-1539-42ab-9304-c5d4ea207b77",
   "metadata": {},
   "outputs": [
    {
     "data": {
      "text/plain": [
       "77.26246957978582"
      ]
     },
     "execution_count": 117,
     "metadata": {},
     "output_type": "execute_result"
    }
   ],
   "source": [
    "855926*100/1107816"
   ]
  },
  {
   "cell_type": "code",
   "execution_count": 296,
   "id": "698822c3-dd00-48bd-bdec-d73251ac3a87",
   "metadata": {},
   "outputs": [
    {
     "data": {
      "image/png": "[encoded data removed]",
      "text/plain": [
       "<Figure size 360x360 with 2 Axes>"
      ]
     },
     "metadata": {
      "needs_background": "light"
     },
     "output_type": "display_data"
    }
   ],
   "source": [
    "ax = p1.plot.line(subplots=True)"
   ]
  },
  {
   "cell_type": "code",
   "execution_count": 297,
   "id": "2d29bb99-23da-4f3c-adb2-69fd893f4165",
   "metadata": {},
   "outputs": [
    {
     "data": {
      "image/png": "[encoded data removed]",
      "text/plain": [
       "<Figure size 360x360 with 1 Axes>"
      ]
     },
     "metadata": {
      "needs_background": "light"
     },
     "output_type": "display_data"
    }
   ],
   "source": [
    "p2 = p1\n",
    "p2['diff'] = (p1['rt']-p1['pred'])/p1['rt']\n",
    "p2 = p2.drop(columns=['pred'])\n",
    "ax2 = p2.plot.line(x='rt', y='diff', subplots=True)"
   ]
  },
  {
   "cell_type": "code",
   "execution_count": 298,
   "id": "b09d30d1-70c9-4178-bb7d-f5efb8c3bf5f",
   "metadata": {},
   "outputs": [
    {
     "data": {
      "text/html": [
       "<div>\n",
       "<style scoped>\n",
       "    .dataframe tbody tr th:only-of-type {\n",
       "        vertical-align: middle;\n",
       "    }\n",
       "\n",
       "    .dataframe tbody tr th {\n",
       "        vertical-align: top;\n",
       "    }\n",
       "\n",
       "    .dataframe thead th {\n",
       "        text-align: right;\n",
       "    }\n",
       "</style>\n",
       "<table border=\"1\" class=\"dataframe\">\n",
       "  <thead>\n",
       "    <tr style=\"text-align: right;\">\n",
       "      <th></th>\n",
       "      <th>rt</th>\n",
       "      <th>diff</th>\n",
       "    </tr>\n",
       "  </thead>\n",
       "  <tbody>\n",
       "    <tr>\n",
       "      <th>0</th>\n",
       "      <td>0.0071</td>\n",
       "      <td>-0.337215</td>\n",
       "    </tr>\n",
       "    <tr>\n",
       "      <th>1</th>\n",
       "      <td>0.0071</td>\n",
       "      <td>0.314818</td>\n",
       "    </tr>\n",
       "    <tr>\n",
       "      <th>2</th>\n",
       "      <td>0.0073</td>\n",
       "      <td>-0.180014</td>\n",
       "    </tr>\n",
       "    <tr>\n",
       "      <th>3</th>\n",
       "      <td>0.0073</td>\n",
       "      <td>-0.156024</td>\n",
       "    </tr>\n",
       "    <tr>\n",
       "      <th>4</th>\n",
       "      <td>0.0074</td>\n",
       "      <td>-0.283003</td>\n",
       "    </tr>\n",
       "    <tr>\n",
       "      <th>...</th>\n",
       "      <td>...</td>\n",
       "      <td>...</td>\n",
       "    </tr>\n",
       "    <tr>\n",
       "      <th>11899</th>\n",
       "      <td>231.5513</td>\n",
       "      <td>0.126168</td>\n",
       "    </tr>\n",
       "    <tr>\n",
       "      <th>11900</th>\n",
       "      <td>254.1140</td>\n",
       "      <td>0.137080</td>\n",
       "    </tr>\n",
       "    <tr>\n",
       "      <th>11901</th>\n",
       "      <td>278.7549</td>\n",
       "      <td>-0.007647</td>\n",
       "    </tr>\n",
       "    <tr>\n",
       "      <th>11902</th>\n",
       "      <td>309.3920</td>\n",
       "      <td>0.185754</td>\n",
       "    </tr>\n",
       "    <tr>\n",
       "      <th>11903</th>\n",
       "      <td>357.9921</td>\n",
       "      <td>0.101933</td>\n",
       "    </tr>\n",
       "  </tbody>\n",
       "</table>\n",
       "<p>11904 rows × 2 columns</p>\n",
       "</div>"
      ],
      "text/plain": [
       "             rt      diff\n",
       "0        0.0071 -0.337215\n",
       "1        0.0071  0.314818\n",
       "2        0.0073 -0.180014\n",
       "3        0.0073 -0.156024\n",
       "4        0.0074 -0.283003\n",
       "...         ...       ...\n",
       "11899  231.5513  0.126168\n",
       "11900  254.1140  0.137080\n",
       "11901  278.7549 -0.007647\n",
       "11902  309.3920  0.185754\n",
       "11903  357.9921  0.101933\n",
       "\n",
       "[11904 rows x 2 columns]"
      ]
     },
     "execution_count": 298,
     "metadata": {},
     "output_type": "execute_result"
    }
   ],
   "source": [
    "p2"
   ]
  },
  {
   "cell_type": "code",
   "execution_count": 299,
   "id": "67de1237-3ce7-4eb8-8708-f4249ff348ad",
   "metadata": {},
   "outputs": [
    {
     "name": "stdout",
     "output_type": "stream",
     "text": [
      "RMSE: 1.123926\n"
     ]
    }
   ],
   "source": [
    "preds = xg_reg.predict(X_train)\n",
    "rmse = np.sqrt(mean_squared_error(y_train, preds))\n",
    "print(\"RMSE: %f\" % (rmse))"
   ]
  },
  {
   "cell_type": "code",
   "execution_count": 300,
   "id": "fdb0f8a9-33f2-4027-8e25-fde5deae5f1c",
   "metadata": {},
   "outputs": [
    {
     "name": "stdout",
     "output_type": "stream",
     "text": [
      "RMSE: 2.333439\n"
     ]
    }
   ],
   "source": [
    "preds = xg_reg.predict(X_test)\n",
    "rmse = np.sqrt(mean_squared_error(y_test, preds))\n",
    "print(\"RMSE: %f\" % (rmse))"
   ]
  },
  {
   "cell_type": "code",
   "execution_count": 128,
   "id": "b4c8a1ea-e7c8-4658-9ef7-95adfe3c7c23",
   "metadata": {},
   "outputs": [
    {
     "data": {
      "image/png": "[encoded data removed]",
      "text/plain": [
       "<Figure size 432x288 with 1 Axes>"
      ]
     },
     "metadata": {
      "needs_background": "light"
     },
     "output_type": "display_data"
    }
   ],
   "source": [
    "import matplotlib.pyplot as plt\n",
    "xgb.plot_importance(model)\n",
    "plt.rcParams['figure.figsize'] = [5, 5]\n",
    "plt.show()"
   ]
  },
  {
   "cell_type": "code",
   "execution_count": 44,
   "id": "de3d0e6c-a843-43ea-b498-8ba7c800a0bb",
   "metadata": {},
   "outputs": [],
   "source": [
    "params = {\"objective\":\"reg:squarederror\",'colsample_bytree': 0.5,'learning_rate': 0.3,\n",
    "                'max_depth': 15, 'alpha': 20}\n",
    "\n",
    "cv_results = xgb.cv(dtrain=data_dmatrix, params=params, nfold=3,\n",
    "                    num_boost_round=50,early_stopping_rounds=10,metrics=\"rmse\", as_pandas=True, seed=123)"
   ]
  },
  {
   "cell_type": "code",
   "execution_count": 45,
   "id": "ea1d4082-5449-4f56-9e2d-8ea7c26aef65",
   "metadata": {},
   "outputs": [
    {
     "data": {
      "text/html": [
       "<div>\n",
       "<style scoped>\n",
       "    .dataframe tbody tr th:only-of-type {\n",
       "        vertical-align: middle;\n",
       "    }\n",
       "\n",
       "    .dataframe tbody tr th {\n",
       "        vertical-align: top;\n",
       "    }\n",
       "\n",
       "    .dataframe thead th {\n",
       "        text-align: right;\n",
       "    }\n",
       "</style>\n",
       "<table border=\"1\" class=\"dataframe\">\n",
       "  <thead>\n",
       "    <tr style=\"text-align: right;\">\n",
       "      <th></th>\n",
       "      <th>train-rmse-mean</th>\n",
       "      <th>train-rmse-std</th>\n",
       "      <th>test-rmse-mean</th>\n",
       "      <th>test-rmse-std</th>\n",
       "    </tr>\n",
       "  </thead>\n",
       "  <tbody>\n",
       "    <tr>\n",
       "      <th>0</th>\n",
       "      <td>31.226482</td>\n",
       "      <td>0.146232</td>\n",
       "      <td>31.227226</td>\n",
       "      <td>0.296705</td>\n",
       "    </tr>\n",
       "    <tr>\n",
       "      <th>1</th>\n",
       "      <td>28.767111</td>\n",
       "      <td>0.703135</td>\n",
       "      <td>28.759592</td>\n",
       "      <td>0.274407</td>\n",
       "    </tr>\n",
       "    <tr>\n",
       "      <th>2</th>\n",
       "      <td>26.541520</td>\n",
       "      <td>0.566732</td>\n",
       "      <td>26.536295</td>\n",
       "      <td>0.504234</td>\n",
       "    </tr>\n",
       "    <tr>\n",
       "      <th>3</th>\n",
       "      <td>24.925292</td>\n",
       "      <td>0.567148</td>\n",
       "      <td>24.930500</td>\n",
       "      <td>0.720729</td>\n",
       "    </tr>\n",
       "    <tr>\n",
       "      <th>4</th>\n",
       "      <td>23.329418</td>\n",
       "      <td>0.181434</td>\n",
       "      <td>23.333975</td>\n",
       "      <td>0.260645</td>\n",
       "    </tr>\n",
       "  </tbody>\n",
       "</table>\n",
       "</div>"
      ],
      "text/plain": [
       "   train-rmse-mean  train-rmse-std  test-rmse-mean  test-rmse-std\n",
       "0        31.226482        0.146232       31.227226       0.296705\n",
       "1        28.767111        0.703135       28.759592       0.274407\n",
       "2        26.541520        0.566732       26.536295       0.504234\n",
       "3        24.925292        0.567148       24.930500       0.720729\n",
       "4        23.329418        0.181434       23.333975       0.260645"
      ]
     },
     "execution_count": 45,
     "metadata": {},
     "output_type": "execute_result"
    }
   ],
   "source": [
    "cv_results.head()"
   ]
  },
  {
   "cell_type": "code",
   "execution_count": null,
   "id": "1f9b40bc-1ec9-45e1-b764-adbe6434cdb3",
   "metadata": {},
   "outputs": [],
   "source": []
  },
  {
   "cell_type": "code",
   "execution_count": 32,
   "id": "22d6f450-f11b-4792-886c-28c8deab886b",
   "metadata": {},
   "outputs": [
    {
     "data": {
      "text/plain": [
       "XGBRegressor(base_score=0.5, booster='gbtree', colsample_bylevel=1,\n",
       "             colsample_bynode=1, colsample_bytree=1, enable_categorical=False,\n",
       "             gamma=0, gpu_id=-1, importance_type=None,\n",
       "             interaction_constraints='', learning_rate=0.300000012,\n",
       "             max_delta_step=0, max_depth=6, min_child_weight=1, missing=nan,\n",
       "             monotone_constraints='()', n_estimators=100, n_jobs=16,\n",
       "             num_parallel_tree=1, predictor='auto', random_state=0, reg_alpha=0,\n",
       "             reg_lambda=1, scale_pos_weight=1, subsample=1, tree_method='exact',\n",
       "             validate_parameters=1, verbosity=None)"
      ]
     },
     "execution_count": 32,
     "metadata": {},
     "output_type": "execute_result"
    }
   ],
   "source": [
    "model.fit(X,y)"
   ]
  },
  {
   "cell_type": "code",
   "execution_count": null,
   "id": "d0473ffa-da52-4c78-89c9-4559af14014d",
   "metadata": {},
   "outputs": [],
   "source": []
  }
 ],
 "metadata": {
  "kernelspec": {
   "display_name": "Python 3",
   "language": "python",
   "name": "python3"
  },
  "language_info": {
   "codemirror_mode": {
    "name": "ipython",
    "version": 3
   },
   "file_extension": ".py",
   "mimetype": "text/x-python",
   "name": "python",
   "nbconvert_exporter": "python",
   "pygments_lexer": "ipython3",
   "version": "3.8.8"
  }
 },
 "nbformat": 4,
 "nbformat_minor": 5
}
