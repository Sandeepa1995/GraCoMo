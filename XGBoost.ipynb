{
 "cells": [
  {
   "cell_type": "code",
   "execution_count": 1,
   "id": "9299b7d5-ee95-4233-90cf-1eab5e098303",
   "metadata": {},
   "outputs": [],
   "source": [
    "# import torch"
   ]
  },
  {
   "cell_type": "code",
   "execution_count": null,
   "id": "48373749-0595-43df-94c3-dd28f9a472f7",
   "metadata": {},
   "outputs": [],
   "source": [
    "# real_path = \"/home/damitha/PycharmProjects/GraCoMo/real_data/\"\n",
    "# dataset = \"cora_full\"\n",
    "# n = 19793 \n",
    "\n",
    "# src_nodes = torch.load(real_path + dataset + \"_src_nodes.pt\")\n",
    "# dst_nodes = torch.load(real_path + dataset + \"_dst_nodes.pt\")"
   ]
  },
  {
   "cell_type": "code",
   "execution_count": 17,
   "id": "eca9a4a8-addd-42f3-a5db-cf08819b0592",
   "metadata": {},
   "outputs": [
    {
     "data": {
      "text/plain": [
       "array([[3., 3., 3.],\n",
       "       [3., 3., 3.]])"
      ]
     },
     "execution_count": 17,
     "metadata": {},
     "output_type": "execute_result"
    }
   ],
   "source": [
    "import numpy as np\n",
    "3*np.ones((2,3))"
   ]
  },
  {
   "cell_type": "code",
   "execution_count": 18,
   "id": "342fa7fb-e855-4772-ad3f-02b07e52550e",
   "metadata": {},
   "outputs": [],
   "source": [
    "import pandas as pd\n",
    "import numpy as np\n",
    "import subprocess\n",
    "import os"
   ]
  },
  {
   "cell_type": "code",
   "execution_count": 2,
   "id": "bdcb2ff3-e00e-4c23-9ba6-7b6bcfe14cbf",
   "metadata": {},
   "outputs": [],
   "source": [
    "min_nodes = 1000\n",
    "max_nodes = 100000\n",
    "\n",
    "min_mul_edge = 10\n",
    "max_mul_edge = 1000\n",
    "\n",
    "graphs_at_config = [\n",
    "    [\"0.45\", \"0.22\", \"0.22\"],\n",
    "    [\"0.7\", \"0.1\", \"0.1\"],\n",
    "    [\"0.25\", \"0.25\", \"0.25\"],\n",
    "    [\"0.40\", \"0.40\", \"0.1\"],\n",
    "    [\"0.3\", \"0.3\", \"0.3\"]\n",
    "]\n",
    "\n",
    "base_csv_path = r'/home/damitha/PycharmProjects/GraCoMo/csv_data/data_'\n",
    "base_file_path = r'/home/damitha/PycharmProjects/GraCoMo/data_save2/out'\n",
    "base_mtx_path = r'/home/damitha/PycharmProjects/GraCoMo/data_save_mtx/out_'"
   ]
  },
  {
   "cell_type": "code",
   "execution_count": 3,
   "id": "7edc02fa-e6f4-48bb-8816-fb9255269399",
   "metadata": {},
   "outputs": [],
   "source": [
    "# for x in graphs_at_config:\n",
    "#     nodes = min_nodes\n",
    "#     while nodes <= max_nodes:\n",
    "#         mul = min_mul_edge\n",
    "#         while mul <= max_mul_edge:\n",
    "#             edges = nodes * mul\n",
    "#             s0 = str(nodes) + '_' + str(edges) + '_' + x[0] + '_' + x[1] + '_' + x[2]\n",
    "#             s1 = s0 + '.el' \n",
    "#             s = base_file_path + s1\n",
    "#             exi = os.path.exists(s)\n",
    "            \n",
    "#             if (exi):\n",
    "#                 f = open(base_mtx_path + s0 + '.mtx', \"w\")\n",
    "#                 print('Writing to', base_mtx_path + s0 + '.mtx', \"w\")\n",
    "#                 f.write('%%MatrixMarket matrix coordinate real general\\n')\n",
    "#                 f.write(str(nodes) + ' ' + str(nodes) + ' ' + str(edges) + ' ' + '\\n')\n",
    "#                 with open(s, mode='r') as file:\n",
    "#                     for ln in file:\n",
    "#                         ln0 = list(map(int, ln.split()))\n",
    "#                         f.write(str(ln0[0] + 1) + ' ' + str(ln0[1] + 1) + '\\n')\n",
    "#                 f.close()\n",
    "# #             break\n",
    "#             mul *= 10\n",
    "# #         break    \n",
    "#         nodes*=10\n",
    "# #     break"
   ]
  },
  {
   "cell_type": "code",
   "execution_count": 4,
   "id": "1deed13d-43b5-4aaa-99f6-5ffb4877e0c4",
   "metadata": {},
   "outputs": [],
   "source": [
    "approx_path = r'/home/damitha/CLionProjects/SparseAcc/sw_lib/cmake-build-release/tests/approx_test'"
   ]
  },
  {
   "cell_type": "code",
   "execution_count": null,
   "id": "da40c57c-e6d6-4a3d-ae34-643fc3d41845",
   "metadata": {},
   "outputs": [
    {
     "name": "stdout",
     "output_type": "stream",
     "text": [
      "[0.0, 191.0, 13.7547, 6.94926, 1.00601, 0.45, 0.22, 0.22] \t\t 1000_10000_0.45_0.22_0.22 \t 9.5795e-05\n",
      "[0.0, 1747.0, 135.575, 6.40156, 0.92672, 0.45, 0.22, 0.22] \t\t 1000_100000_0.45_0.22_0.22 \t 6.4267e-05\n",
      "[0.0, 322.0, 17.5014, 9.29369, 1.00905, 0.45, 0.22, 0.22] \t\t 10000_100000_0.45_0.22_0.22 \t 8.2806e-05\n",
      "[0.0, 3695.0, 173.915, 8.52927, 0.926054, 0.45, 0.22, 0.22] \t\t 10000_1000000_0.45_0.22_0.22 \t 6.485e-05\n",
      "[0.0, 36326.0, 1733.49, 8.45384, 0.917864, 0.45, 0.22, 0.22] \t\t 10000_10000000_0.45_0.22_0.22 \t 7.5184e-05\n",
      "[0.0, 1122.0, 23.0382, 11.6142, 1.0088, 0.45, 0.22, 0.22] \t\t 100000_1000000_0.45_0.22_0.22 \t 0.000143097\n",
      "[0.0, 11104.0, 227.387, 10.6333, 0.923596, 0.45, 0.22, 0.22] \t\t 100000_10000000_0.45_0.22_0.22 \t 0.000227298\n",
      "[0.0, 110422.0, 2279.53, 10.5307, 0.914684, 0.45, 0.22, 0.22] \t\t 100000_100000000_0.45_0.22_0.22 \t 0.00273124\n",
      "[0.0, 1031.0, 43.0918, 5.77543, 0.836079, 0.7, 0.1, 0.1] \t\t 1000_10000_0.7_0.1_0.1 \t 5.3197e-05\n",
      "[0.0, 10633.0, 446.366, 5.09257, 0.737225, 0.7, 0.1, 0.1] \t\t 1000_100000_0.7_0.1_0.1 \t 5.4167e-05\n",
      "[0.0, 4294.0, 67.4314, 7.76873, 0.843479, 0.7, 0.1, 0.1] \t\t 10000_100000_0.7_0.1_0.1 \t 7.187e-05\n",
      "[0.0, 43275.0, 673.494, 6.89779, 0.748918, 0.7, 0.1, 0.1] \t\t 10000_1000000_0.7_0.1_0.1 \t 4.098e-05\n",
      "[0.0, 441892.0, 7039.82, 6.72944, 0.730639, 0.7, 0.1, 0.1] \t\t 10000_10000000_0.7_0.1_0.1 \t 7.2898e-05\n",
      "[0.0, 22954.0, 120.883, 9.63221, 0.836643, 0.7, 0.1, 0.1] \t\t 100000_1000000_0.7_0.1_0.1 \t 0.000144507\n",
      "[0.0, 230310.0, 1212.56, 8.51387, 0.739505, 0.7, 0.1, 0.1] \t\t 100000_10000000_0.7_0.1_0.1 \t 0.000187606\n",
      "[0.0, 2326988.0, 12645.9, 8.31713, 0.722416, 0.7, 0.1, 0.1] \t\t 100000_100000000_0.7_0.1_0.1 \t 0.000229359\n",
      "[0.0, 32.0, 3.49741, 7.43193, 1.07588, 0.25, 0.25, 0.25] \t\t 1000_10000_0.25_0.25_0.25 \t 4.6952e-05\n",
      "[0.0, 222.0, 18.2386, 6.94468, 1.00535, 0.25, 0.25, 0.25] \t\t 1000_100000_0.25_0.25_0.25 \t 0.000109629\n",
      "[0.0, 29.0, 4.32835, 9.93844, 1.07905, 0.25, 0.25, 0.25] \t\t 10000_100000_0.25_0.25_0.25 \t 6.4695e-05\n",
      "[0.0, 163.0, 30.9254, 9.2418, 1.00342, 0.25, 0.25, 0.25] \t\t 10000_1000000_0.25_0.25_0.25 \t 7.2164e-05\n",
      "[0.0, 1345.0, 295.23, 9.17157, 0.99579, 0.25, 0.25, 0.25] \t\t 10000_10000000_0.25_0.25_0.25 \t 8.6439e-05\n",
      "[0.0, 31.0, 4.75899, 12.46, 1.08226, 0.25, 0.25, 0.25] \t\t 100000_1000000_0.25_0.25_0.25 \t 0.000149044\n",
      "[0.0, 204.0, 36.7241, 11.5555, 1.00369, 0.25, 0.25, 0.25] \t\t 100000_10000000_0.25_0.25_0.25 \t 0.000341554\n",
      "[0.0, 1682.0, 354.481, 11.4649, 0.995832, 0.25, 0.25, 0.25] \t\t 100000_100000000_0.25_0.25_0.25 \t 0.000231344\n",
      "[0.0, 29.0, 3.58, 7.42867, 1.07541, 0.4, 0.4, 0.1] \t\t 1000_10000_0.40_0.40_0.1 \t 5.9268e-05\n",
      "[0.0, 239.0, 17.5859, 6.94546, 1.00546, 0.4, 0.4, 0.1] \t\t 1000_100000_0.40_0.40_0.1 \t 3.7714e-05\n",
      "[0.0, 26.0, 4.13756, 9.94651, 1.07993, 0.4, 0.4, 0.1] \t\t 10000_100000_0.40_0.40_0.1 \t 5.7797e-05\n",
      "[0.0, 168.0, 27.9334, 9.25159, 1.00448, 0.4, 0.4, 0.1] \t\t 10000_1000000_0.40_0.40_0.1 \t 6.7658e-05\n",
      "[0.0, 1378.0, 261.717, 9.18183, 0.996905, 0.4, 0.4, 0.1] \t\t 10000_10000000_0.40_0.40_0.1 \t 7.866e-05\n",
      "[0.0, 33.0, 4.50662, 12.4696, 1.08309, 0.4, 0.4, 0.1] \t\t 100000_1000000_0.40_0.40_0.1 \t 0.000210721\n",
      "[0.0, 211.0, 32.7721, 11.5677, 1.00476, 0.4, 0.4, 0.1] \t\t 100000_10000000_0.40_0.40_0.1 \t 0.000202176\n",
      "[0.0, 1674.0, 321.689, 11.4749, 0.996695, 0.4, 0.4, 0.1] \t\t 100000_100000000_0.40_0.40_0.1 \t 0.000224098\n",
      "[0.0, 62.0, 7.81704, 7.24829, 1.0493, 0.3, 0.3, 0.3] \t\t 1000_10000_0.3_0.3_0.3 \t 4.7107e-05\n",
      "[0.0, 612.0, 70.7076, 6.7549, 0.977872, 0.3, 0.3, 0.3] \t\t 1000_100000_0.3_0.3_0.3 \t 5.3089e-05\n",
      "[0.0, 92.0, 9.21337, 9.7141, 1.05469, 0.3, 0.3, 0.3] \t\t 10000_100000_0.3_0.3_0.3 \t 5.9221e-05\n",
      "[0.0, 896.0, 86.7274, 8.99628, 0.976759, 0.3, 0.3, 0.3] \t\t 10000_1000000_0.3_0.3_0.3 \t 7.3369e-05\n",
      "[0.0, 8798.0, 873.548, 8.918, 0.968259, 0.3, 0.3, 0.3] \t\t 10000_10000000_0.3_0.3_0.3 \t 8.692e-05\n",
      "[0.0, 223.0, 10.9186, 12.169, 1.05698, 0.3, 0.3, 0.3] \t\t 100000_1000000_0.3_0.3_0.3 \t 0.000137813\n"
     ]
    }
   ],
   "source": [
    "map_feats = {}\n",
    "\n",
    "for x in graphs_at_config:\n",
    "    nodes = min_nodes\n",
    "    while nodes <= max_nodes:\n",
    "        mul = min_mul_edge\n",
    "        while mul <= max_mul_edge:\n",
    "            edges = nodes * mul\n",
    "            s0 = str(nodes) + '_' + str(edges) + '_' + x[0] + '_' + x[1] + '_' + x[2]\n",
    "            s1 = s0 + '.mtx' \n",
    "            s = base_mtx_path + s1\n",
    "            exi = os.path.exists(s)\n",
    "            \n",
    "            if (exi):\n",
    "                cmd = [approx_path, s]\n",
    "                res4 = subprocess.Popen(cmd, stdout=subprocess.PIPE)\n",
    "                lline = '';\n",
    "                for line in iter(res4.stdout.readline, b''):\n",
    "                    lline = line.rstrip().decode('utf-8')\n",
    "#                 print(line)\n",
    "                print(list(map(float, lline.split()[:-1] + [x[0], x[1], x[2]])), '\\t\\t', s0, '\\t', lline.split()[-1])\n",
    "                map_feats[s0] = list(map(float, lline.split() + [x[0], x[1], x[2]]))\n",
    "#             break\n",
    "            mul *= 10\n",
    "#         break    \n",
    "        nodes*=10\n",
    "#     break"
   ]
  },
  {
   "cell_type": "code",
   "execution_count": 181,
   "id": "065dc445-b048-4519-8447-5c9796097a03",
   "metadata": {},
   "outputs": [
    {
     "name": "stdout",
     "output_type": "stream",
     "text": [
      "/home/damitha/PycharmProjects/GraCoMo/csv_data/data_1000_10000_0.45_0.22_0.22\n",
      "/home/damitha/PycharmProjects/GraCoMo/csv_data/data_1000_100000_0.45_0.22_0.22\n",
      "/home/damitha/PycharmProjects/GraCoMo/csv_data/data_1000_1000000_0.45_0.22_0.22\n",
      "/home/damitha/PycharmProjects/GraCoMo/csv_data/data_10000_100000_0.45_0.22_0.22\n",
      "/home/damitha/PycharmProjects/GraCoMo/csv_data/data_10000_1000000_0.45_0.22_0.22\n",
      "/home/damitha/PycharmProjects/GraCoMo/csv_data/data_10000_10000000_0.45_0.22_0.22\n",
      "/home/damitha/PycharmProjects/GraCoMo/csv_data/data_100000_1000000_0.45_0.22_0.22\n",
      "/home/damitha/PycharmProjects/GraCoMo/csv_data/data_100000_10000000_0.45_0.22_0.22\n",
      "/home/damitha/PycharmProjects/GraCoMo/csv_data/data_100000_100000000_0.45_0.22_0.22\n",
      "/home/damitha/PycharmProjects/GraCoMo/csv_data/data_1000_10000_0.7_0.1_0.1\n",
      "/home/damitha/PycharmProjects/GraCoMo/csv_data/data_1000_100000_0.7_0.1_0.1\n",
      "/home/damitha/PycharmProjects/GraCoMo/csv_data/data_1000_1000000_0.7_0.1_0.1\n",
      "/home/damitha/PycharmProjects/GraCoMo/csv_data/data_10000_100000_0.7_0.1_0.1\n",
      "/home/damitha/PycharmProjects/GraCoMo/csv_data/data_10000_1000000_0.7_0.1_0.1\n",
      "/home/damitha/PycharmProjects/GraCoMo/csv_data/data_10000_10000000_0.7_0.1_0.1\n",
      "/home/damitha/PycharmProjects/GraCoMo/csv_data/data_100000_1000000_0.7_0.1_0.1\n",
      "/home/damitha/PycharmProjects/GraCoMo/csv_data/data_100000_10000000_0.7_0.1_0.1\n",
      "/home/damitha/PycharmProjects/GraCoMo/csv_data/data_100000_100000000_0.7_0.1_0.1\n",
      "/home/damitha/PycharmProjects/GraCoMo/csv_data/data_1000_10000_0.25_0.25_0.25\n",
      "/home/damitha/PycharmProjects/GraCoMo/csv_data/data_1000_100000_0.25_0.25_0.25\n",
      "/home/damitha/PycharmProjects/GraCoMo/csv_data/data_1000_1000000_0.25_0.25_0.25\n",
      "/home/damitha/PycharmProjects/GraCoMo/csv_data/data_10000_100000_0.25_0.25_0.25\n",
      "/home/damitha/PycharmProjects/GraCoMo/csv_data/data_10000_1000000_0.25_0.25_0.25\n",
      "/home/damitha/PycharmProjects/GraCoMo/csv_data/data_10000_10000000_0.25_0.25_0.25\n",
      "/home/damitha/PycharmProjects/GraCoMo/csv_data/data_100000_1000000_0.25_0.25_0.25\n",
      "/home/damitha/PycharmProjects/GraCoMo/csv_data/data_100000_10000000_0.25_0.25_0.25\n",
      "/home/damitha/PycharmProjects/GraCoMo/csv_data/data_100000_100000000_0.25_0.25_0.25\n",
      "/home/damitha/PycharmProjects/GraCoMo/csv_data/data_1000_10000_0.40_0.40_0.1\n",
      "/home/damitha/PycharmProjects/GraCoMo/csv_data/data_1000_100000_0.40_0.40_0.1\n",
      "/home/damitha/PycharmProjects/GraCoMo/csv_data/data_1000_1000000_0.40_0.40_0.1\n",
      "/home/damitha/PycharmProjects/GraCoMo/csv_data/data_10000_100000_0.40_0.40_0.1\n",
      "/home/damitha/PycharmProjects/GraCoMo/csv_data/data_10000_1000000_0.40_0.40_0.1\n",
      "/home/damitha/PycharmProjects/GraCoMo/csv_data/data_10000_10000000_0.40_0.40_0.1\n",
      "/home/damitha/PycharmProjects/GraCoMo/csv_data/data_100000_1000000_0.40_0.40_0.1\n",
      "/home/damitha/PycharmProjects/GraCoMo/csv_data/data_100000_10000000_0.40_0.40_0.1\n",
      "/home/damitha/PycharmProjects/GraCoMo/csv_data/data_100000_100000000_0.40_0.40_0.1\n",
      "/home/damitha/PycharmProjects/GraCoMo/csv_data/data_1000_10000_0.3_0.3_0.3\n",
      "/home/damitha/PycharmProjects/GraCoMo/csv_data/data_1000_100000_0.3_0.3_0.3\n",
      "/home/damitha/PycharmProjects/GraCoMo/csv_data/data_1000_1000000_0.3_0.3_0.3\n",
      "/home/damitha/PycharmProjects/GraCoMo/csv_data/data_10000_100000_0.3_0.3_0.3\n",
      "/home/damitha/PycharmProjects/GraCoMo/csv_data/data_10000_1000000_0.3_0.3_0.3\n",
      "/home/damitha/PycharmProjects/GraCoMo/csv_data/data_10000_10000000_0.3_0.3_0.3\n",
      "/home/damitha/PycharmProjects/GraCoMo/csv_data/data_100000_1000000_0.3_0.3_0.3\n",
      "/home/damitha/PycharmProjects/GraCoMo/csv_data/data_100000_10000000_0.3_0.3_0.3\n",
      "/home/damitha/PycharmProjects/GraCoMo/csv_data/data_100000_100000000_0.3_0.3_0.3\n"
     ]
    }
   ],
   "source": [
    "all_csvs = pd.DataFrame()\n",
    "\n",
    "for x in graphs_at_config:\n",
    "    nodes = min_nodes\n",
    "    while nodes <= max_nodes:\n",
    "        mul = min_mul_edge\n",
    "        while mul <= max_mul_edge:\n",
    "            edges = nodes * mul\n",
    "            s0 = str(nodes) + '_' + str(edges) + '_' + x[0] + '_' + x[1] + '_' + x[2]\n",
    "            s = base_csv_path + s0\n",
    "            print(s)\n",
    "            exi = os.path.exists(s)\n",
    "            \n",
    "            if (exi):\n",
    "                df = pd.read_csv(s)\n",
    "                df['min_deg'] = map_feats[s0][0]\n",
    "                df['max_deg'] = map_feats[s0][1]\n",
    "                df['std_deg'] = map_feats[s0][2]\n",
    "                df['e_entr'] = map_feats[s0][3]\n",
    "                df['norm_e_entr'] = map_feats[s0][4]\n",
    "                df['d_entr'] = map_feats[s0][5]\n",
    "                df['a'] = map_feats[s0][6]\n",
    "                df['b'] = map_feats[s0][7]\n",
    "                df['c'] = map_feats[s0][8]\n",
    "                all_csvs = all_csvs.append(df)\n",
    "#             break\n",
    "            mul *= 10\n",
    "#         break    \n",
    "        nodes*=10\n",
    "#     break"
   ]
  },
  {
   "cell_type": "code",
   "execution_count": 182,
   "id": "d4ec7cf9-d662-45c0-bd31-1c639faf8be3",
   "metadata": {},
   "outputs": [],
   "source": [
    "all_csvs1 = all_csvs"
   ]
  },
  {
   "cell_type": "code",
   "execution_count": 183,
   "id": "cb67f9dd-6d77-4b49-8725-43395d98045a",
   "metadata": {},
   "outputs": [
    {
     "name": "stdout",
     "output_type": "stream",
     "text": [
      "      1_direction  2_parallel  2_grain  3_densevert  3_vertset  3_direction  \\\n",
      "0               0           0        0            0          1            4   \n",
      "1               0           1        8            1          1            4   \n",
      "2               1           3        1            1          1            4   \n",
      "3               1           3        1            1          1            5   \n",
      "4               1           3        1            1          2            0   \n",
      "...           ...         ...      ...          ...        ...          ...   \n",
      "1483            1           3        1            1          0            5   \n",
      "1484            1           3        1            1          1            0   \n",
      "1485            1           3        1            1          1            1   \n",
      "1486            1           3        1            1          1            2   \n",
      "1487            1           3        1            1          1            3   \n",
      "\n",
      "       nodes      edges        rt                          name  min_deg  \\\n",
      "0       1000      10000  0.000032     1000_10000_0.45_0.22_0.22      0.0   \n",
      "1       1000      10000  0.000030     1000_10000_0.45_0.22_0.22      0.0   \n",
      "2       1000      10000  0.000038     1000_10000_0.45_0.22_0.22      0.0   \n",
      "3       1000      10000  0.000036     1000_10000_0.45_0.22_0.22      0.0   \n",
      "4       1000      10000  0.000035     1000_10000_0.45_0.22_0.22      0.0   \n",
      "...      ...        ...       ...                           ...      ...   \n",
      "1483  100000  100000000  0.054490  100000_100000000_0.3_0.3_0.3      0.0   \n",
      "1484  100000  100000000  0.050904  100000_100000000_0.3_0.3_0.3      0.0   \n",
      "1485  100000  100000000  0.055318  100000_100000000_0.3_0.3_0.3      0.0   \n",
      "1486  100000  100000000  0.050127  100000_100000000_0.3_0.3_0.3      0.0   \n",
      "1487  100000  100000000  0.049767  100000_100000000_0.3_0.3_0.3      0.0   \n",
      "\n",
      "      max_deg    std_deg    e_entr  norm_e_entr   d_entr     a     b     c  \n",
      "0       191.0    13.7547   6.94926     1.006010  3.24815  0.45  0.22  0.22  \n",
      "1       191.0    13.7547   6.94926     1.006010  3.24815  0.45  0.22  0.22  \n",
      "2       191.0    13.7547   6.94926     1.006010  3.24815  0.45  0.22  0.22  \n",
      "3       191.0    13.7547   6.94926     1.006010  3.24815  0.45  0.22  0.22  \n",
      "4       191.0    13.7547   6.94926     1.006010  3.24815  0.45  0.22  0.22  \n",
      "...       ...        ...       ...          ...      ...   ...   ...   ...  \n",
      "1483  19425.0  1054.5000  11.13520     0.967192  7.46115  0.30  0.30  0.30  \n",
      "1484  19425.0  1054.5000  11.13520     0.967192  7.46115  0.30  0.30  0.30  \n",
      "1485  19425.0  1054.5000  11.13520     0.967192  7.46115  0.30  0.30  0.30  \n",
      "1486  19425.0  1054.5000  11.13520     0.967192  7.46115  0.30  0.30  0.30  \n",
      "1487  19425.0  1054.5000  11.13520     0.967192  7.46115  0.30  0.30  0.30  \n",
      "\n",
      "[59520 rows x 19 columns]\n"
     ]
    }
   ],
   "source": [
    "print(all_csvs1)"
   ]
  },
  {
   "cell_type": "code",
   "execution_count": 184,
   "id": "a0c2a37a-3d4c-4093-9860-96e426888e6a",
   "metadata": {},
   "outputs": [],
   "source": [
    "all_csvs1 = all_csvs1.drop(columns=['name'])\n",
    "\n",
    "all_csvs1 = all_csvs1.drop(columns=['a'])\n",
    "all_csvs1 = all_csvs1.drop(columns=['b'])\n",
    "all_csvs1 = all_csvs1.drop(columns=['c'])\n",
    "# all_csvs1 = all_csvs1.drop(columns=['min_deg'])\n",
    "# all_csvs1 = all_csvs1.drop(columns=['max_deg'])\n",
    "# all_csvs1 = all_csvs1.drop(columns=['std_deg'])\n",
    "# all_csvs1 = all_csvs1.drop(columns=['e_entr'])\n",
    "all_csvs1 = all_csvs1.drop(columns=['norm_e_entr'])\n",
    "# all_csvs1 = all_csvs1.drop(columns=['d_entr'])\n",
    "# all_csvs1 = all_csvs1.drop(columns=['nodes'])\n",
    "# all_csvs1 = all_csvs1.drop(columns=['edges'])"
   ]
  },
  {
   "cell_type": "code",
   "execution_count": 185,
   "id": "0f51db44-1087-4e64-a812-4dab11e9c153",
   "metadata": {},
   "outputs": [],
   "source": [
    "df1 = all_csvs1.pop('rt')*1000\n",
    "df2 = np.log10(df1)\n",
    "all_csvs1['rt'] = df1\n",
    "all_csvs1['lrt'] = df2"
   ]
  },
  {
   "cell_type": "code",
   "execution_count": 186,
   "id": "fa3ff3cf-5e3b-4370-95e0-269bf2392033",
   "metadata": {},
   "outputs": [
    {
     "data": {
      "text/plain": [
       "0        0.0317\n",
       "1        0.0297\n",
       "2        0.0381\n",
       "3        0.0359\n",
       "4        0.0353\n",
       "         ...   \n",
       "1483    54.4903\n",
       "1484    50.9036\n",
       "1485    55.3179\n",
       "1486    50.1270\n",
       "1487    49.7669\n",
       "Name: rt, Length: 59520, dtype: float64"
      ]
     },
     "execution_count": 186,
     "metadata": {},
     "output_type": "execute_result"
    }
   ],
   "source": [
    "df1"
   ]
  },
  {
   "cell_type": "code",
   "execution_count": 187,
   "id": "eb0d93eb-a42e-48d4-b2e0-3297c74c73f0",
   "metadata": {},
   "outputs": [
    {
     "name": "stdout",
     "output_type": "stream",
     "text": [
      "      1_direction  2_parallel  2_grain  3_densevert  3_vertset  3_direction  \\\n",
      "0               0           0        0            0          1            4   \n",
      "1               0           1        8            1          1            4   \n",
      "2               1           3        1            1          1            4   \n",
      "3               1           3        1            1          1            5   \n",
      "4               1           3        1            1          2            0   \n",
      "...           ...         ...      ...          ...        ...          ...   \n",
      "1483            1           3        1            1          0            5   \n",
      "1484            1           3        1            1          1            0   \n",
      "1485            1           3        1            1          1            1   \n",
      "1486            1           3        1            1          1            2   \n",
      "1487            1           3        1            1          1            3   \n",
      "\n",
      "       nodes      edges  min_deg  max_deg    std_deg    e_entr   d_entr  \\\n",
      "0       1000      10000      0.0    191.0    13.7547   6.94926  3.24815   \n",
      "1       1000      10000      0.0    191.0    13.7547   6.94926  3.24815   \n",
      "2       1000      10000      0.0    191.0    13.7547   6.94926  3.24815   \n",
      "3       1000      10000      0.0    191.0    13.7547   6.94926  3.24815   \n",
      "4       1000      10000      0.0    191.0    13.7547   6.94926  3.24815   \n",
      "...      ...        ...      ...      ...        ...       ...      ...   \n",
      "1483  100000  100000000      0.0  19425.0  1054.5000  11.13520  7.46115   \n",
      "1484  100000  100000000      0.0  19425.0  1054.5000  11.13520  7.46115   \n",
      "1485  100000  100000000      0.0  19425.0  1054.5000  11.13520  7.46115   \n",
      "1486  100000  100000000      0.0  19425.0  1054.5000  11.13520  7.46115   \n",
      "1487  100000  100000000      0.0  19425.0  1054.5000  11.13520  7.46115   \n",
      "\n",
      "           rt       lrt  \n",
      "0      0.0317 -1.498941  \n",
      "1      0.0297 -1.527244  \n",
      "2      0.0381 -1.419075  \n",
      "3      0.0359 -1.444906  \n",
      "4      0.0353 -1.452225  \n",
      "...       ...       ...  \n",
      "1483  54.4903  1.736319  \n",
      "1484  50.9036  1.706748  \n",
      "1485  55.3179  1.742866  \n",
      "1486  50.1270  1.700072  \n",
      "1487  49.7669  1.696941  \n",
      "\n",
      "[59520 rows x 15 columns]\n"
     ]
    }
   ],
   "source": [
    "print(all_csvs1)"
   ]
  },
  {
   "cell_type": "code",
   "execution_count": 188,
   "id": "89b5fb20-019f-4342-95bb-21e1f6f12677",
   "metadata": {},
   "outputs": [
    {
     "name": "stdout",
     "output_type": "stream",
     "text": [
      "<class 'pandas.core.frame.DataFrame'>\n",
      "Int64Index: 59520 entries, 0 to 1487\n",
      "Data columns (total 15 columns):\n",
      " #   Column       Non-Null Count  Dtype  \n",
      "---  ------       --------------  -----  \n",
      " 0   1_direction  59520 non-null  int64  \n",
      " 1   2_parallel   59520 non-null  int64  \n",
      " 2   2_grain      59520 non-null  int64  \n",
      " 3   3_densevert  59520 non-null  int64  \n",
      " 4   3_vertset    59520 non-null  int64  \n",
      " 5   3_direction  59520 non-null  int64  \n",
      " 6   nodes        59520 non-null  int64  \n",
      " 7   edges        59520 non-null  int64  \n",
      " 8   min_deg      59520 non-null  float64\n",
      " 9   max_deg      59520 non-null  float64\n",
      " 10  std_deg      59520 non-null  float64\n",
      " 11  e_entr       59520 non-null  float64\n",
      " 12  d_entr       59520 non-null  float64\n",
      " 13  rt           59520 non-null  float64\n",
      " 14  lrt          59520 non-null  float64\n",
      "dtypes: float64(7), int64(8)\n",
      "memory usage: 7.3 MB\n"
     ]
    }
   ],
   "source": [
    "all_csvs1.info()"
   ]
  },
  {
   "cell_type": "code",
   "execution_count": 189,
   "id": "1495b229-a4c8-4852-b3d2-1cc146595f2a",
   "metadata": {},
   "outputs": [
    {
     "data": {
      "text/html": [
       "<div>\n",
       "<style scoped>\n",
       "    .dataframe tbody tr th:only-of-type {\n",
       "        vertical-align: middle;\n",
       "    }\n",
       "\n",
       "    .dataframe tbody tr th {\n",
       "        vertical-align: top;\n",
       "    }\n",
       "\n",
       "    .dataframe thead th {\n",
       "        text-align: right;\n",
       "    }\n",
       "</style>\n",
       "<table border=\"1\" class=\"dataframe\">\n",
       "  <thead>\n",
       "    <tr style=\"text-align: right;\">\n",
       "      <th></th>\n",
       "      <th>1_direction</th>\n",
       "      <th>2_parallel</th>\n",
       "      <th>2_grain</th>\n",
       "      <th>3_densevert</th>\n",
       "      <th>3_vertset</th>\n",
       "      <th>3_direction</th>\n",
       "      <th>nodes</th>\n",
       "      <th>edges</th>\n",
       "      <th>min_deg</th>\n",
       "      <th>max_deg</th>\n",
       "      <th>std_deg</th>\n",
       "      <th>e_entr</th>\n",
       "      <th>d_entr</th>\n",
       "      <th>rt</th>\n",
       "      <th>lrt</th>\n",
       "    </tr>\n",
       "  </thead>\n",
       "  <tbody>\n",
       "    <tr>\n",
       "      <th>count</th>\n",
       "      <td>59520.000000</td>\n",
       "      <td>59520.000000</td>\n",
       "      <td>59520.000000</td>\n",
       "      <td>59520.000000</td>\n",
       "      <td>59520.000000</td>\n",
       "      <td>59520.000000</td>\n",
       "      <td>59520.000000</td>\n",
       "      <td>5.952000e+04</td>\n",
       "      <td>59520.0</td>\n",
       "      <td>5.952000e+04</td>\n",
       "      <td>59520.000000</td>\n",
       "      <td>59520.000000</td>\n",
       "      <td>59520.000000</td>\n",
       "      <td>59520.000000</td>\n",
       "      <td>59520.000000</td>\n",
       "    </tr>\n",
       "    <tr>\n",
       "      <th>mean</th>\n",
       "      <td>1.354839</td>\n",
       "      <td>1.875000</td>\n",
       "      <td>64.687500</td>\n",
       "      <td>0.548387</td>\n",
       "      <td>1.000000</td>\n",
       "      <td>3.354839</td>\n",
       "      <td>41500.000000</td>\n",
       "      <td>1.527625e+07</td>\n",
       "      <td>0.0</td>\n",
       "      <td>8.214443e+04</td>\n",
       "      <td>762.316148</td>\n",
       "      <td>9.094649</td>\n",
       "      <td>4.361008</td>\n",
       "      <td>11.557103</td>\n",
       "      <td>0.017727</td>\n",
       "    </tr>\n",
       "    <tr>\n",
       "      <th>std</th>\n",
       "      <td>1.064036</td>\n",
       "      <td>0.927033</td>\n",
       "      <td>94.508544</td>\n",
       "      <td>0.497657</td>\n",
       "      <td>0.816503</td>\n",
       "      <td>1.380717</td>\n",
       "      <td>45448.154013</td>\n",
       "      <td>3.227857e+07</td>\n",
       "      <td>0.0</td>\n",
       "      <td>3.677643e+05</td>\n",
       "      <td>2230.309101</td>\n",
       "      <td>1.961085</td>\n",
       "      <td>1.497197</td>\n",
       "      <td>30.817125</td>\n",
       "      <td>1.087262</td>\n",
       "    </tr>\n",
       "    <tr>\n",
       "      <th>min</th>\n",
       "      <td>0.000000</td>\n",
       "      <td>0.000000</td>\n",
       "      <td>0.000000</td>\n",
       "      <td>0.000000</td>\n",
       "      <td>0.000000</td>\n",
       "      <td>0.000000</td>\n",
       "      <td>1000.000000</td>\n",
       "      <td>1.000000e+04</td>\n",
       "      <td>0.0</td>\n",
       "      <td>2.600000e+01</td>\n",
       "      <td>3.497410</td>\n",
       "      <td>5.092570</td>\n",
       "      <td>1.888300</td>\n",
       "      <td>0.006900</td>\n",
       "      <td>-2.161151</td>\n",
       "    </tr>\n",
       "    <tr>\n",
       "      <th>25%</th>\n",
       "      <td>0.000000</td>\n",
       "      <td>1.000000</td>\n",
       "      <td>6.250000</td>\n",
       "      <td>0.000000</td>\n",
       "      <td>0.000000</td>\n",
       "      <td>2.000000</td>\n",
       "      <td>7750.000000</td>\n",
       "      <td>1.000000e+05</td>\n",
       "      <td>0.0</td>\n",
       "      <td>1.852500e+02</td>\n",
       "      <td>16.564725</td>\n",
       "      <td>7.383575</td>\n",
       "      <td>3.171432</td>\n",
       "      <td>0.150300</td>\n",
       "      <td>-0.823041</td>\n",
       "    </tr>\n",
       "    <tr>\n",
       "      <th>50%</th>\n",
       "      <td>1.000000</td>\n",
       "      <td>2.000000</td>\n",
       "      <td>16.000000</td>\n",
       "      <td>1.000000</td>\n",
       "      <td>1.000000</td>\n",
       "      <td>4.000000</td>\n",
       "      <td>10000.000000</td>\n",
       "      <td>1.000000e+06</td>\n",
       "      <td>0.0</td>\n",
       "      <td>1.076500e+03</td>\n",
       "      <td>69.069500</td>\n",
       "      <td>9.176700</td>\n",
       "      <td>4.177040</td>\n",
       "      <td>1.072150</td>\n",
       "      <td>0.030256</td>\n",
       "    </tr>\n",
       "    <tr>\n",
       "      <th>75%</th>\n",
       "      <td>2.000000</td>\n",
       "      <td>3.000000</td>\n",
       "      <td>64.000000</td>\n",
       "      <td>1.000000</td>\n",
       "      <td>2.000000</td>\n",
       "      <td>5.000000</td>\n",
       "      <td>100000.000000</td>\n",
       "      <td>1.000000e+07</td>\n",
       "      <td>0.0</td>\n",
       "      <td>9.256750e+03</td>\n",
       "      <td>329.887000</td>\n",
       "      <td>10.758775</td>\n",
       "      <td>5.461280</td>\n",
       "      <td>6.441225</td>\n",
       "      <td>0.808968</td>\n",
       "    </tr>\n",
       "    <tr>\n",
       "      <th>max</th>\n",
       "      <td>3.000000</td>\n",
       "      <td>3.000000</td>\n",
       "      <td>256.000000</td>\n",
       "      <td>1.000000</td>\n",
       "      <td>2.000000</td>\n",
       "      <td>5.000000</td>\n",
       "      <td>100000.000000</td>\n",
       "      <td>1.000000e+08</td>\n",
       "      <td>0.0</td>\n",
       "      <td>2.326988e+06</td>\n",
       "      <td>12645.900000</td>\n",
       "      <td>12.469600</td>\n",
       "      <td>7.461150</td>\n",
       "      <td>390.756700</td>\n",
       "      <td>2.591906</td>\n",
       "    </tr>\n",
       "  </tbody>\n",
       "</table>\n",
       "</div>"
      ],
      "text/plain": [
       "        1_direction    2_parallel       2_grain   3_densevert     3_vertset  \\\n",
       "count  59520.000000  59520.000000  59520.000000  59520.000000  59520.000000   \n",
       "mean       1.354839      1.875000     64.687500      0.548387      1.000000   \n",
       "std        1.064036      0.927033     94.508544      0.497657      0.816503   \n",
       "min        0.000000      0.000000      0.000000      0.000000      0.000000   \n",
       "25%        0.000000      1.000000      6.250000      0.000000      0.000000   \n",
       "50%        1.000000      2.000000     16.000000      1.000000      1.000000   \n",
       "75%        2.000000      3.000000     64.000000      1.000000      2.000000   \n",
       "max        3.000000      3.000000    256.000000      1.000000      2.000000   \n",
       "\n",
       "        3_direction          nodes         edges  min_deg       max_deg  \\\n",
       "count  59520.000000   59520.000000  5.952000e+04  59520.0  5.952000e+04   \n",
       "mean       3.354839   41500.000000  1.527625e+07      0.0  8.214443e+04   \n",
       "std        1.380717   45448.154013  3.227857e+07      0.0  3.677643e+05   \n",
       "min        0.000000    1000.000000  1.000000e+04      0.0  2.600000e+01   \n",
       "25%        2.000000    7750.000000  1.000000e+05      0.0  1.852500e+02   \n",
       "50%        4.000000   10000.000000  1.000000e+06      0.0  1.076500e+03   \n",
       "75%        5.000000  100000.000000  1.000000e+07      0.0  9.256750e+03   \n",
       "max        5.000000  100000.000000  1.000000e+08      0.0  2.326988e+06   \n",
       "\n",
       "            std_deg        e_entr        d_entr            rt           lrt  \n",
       "count  59520.000000  59520.000000  59520.000000  59520.000000  59520.000000  \n",
       "mean     762.316148      9.094649      4.361008     11.557103      0.017727  \n",
       "std     2230.309101      1.961085      1.497197     30.817125      1.087262  \n",
       "min        3.497410      5.092570      1.888300      0.006900     -2.161151  \n",
       "25%       16.564725      7.383575      3.171432      0.150300     -0.823041  \n",
       "50%       69.069500      9.176700      4.177040      1.072150      0.030256  \n",
       "75%      329.887000     10.758775      5.461280      6.441225      0.808968  \n",
       "max    12645.900000     12.469600      7.461150    390.756700      2.591906  "
      ]
     },
     "execution_count": 189,
     "metadata": {},
     "output_type": "execute_result"
    }
   ],
   "source": [
    "all_csvs1.describe()"
   ]
  },
  {
   "cell_type": "code",
   "execution_count": 190,
   "id": "320c3fbb-046c-40e5-ad47-b2b483771b7b",
   "metadata": {},
   "outputs": [],
   "source": [
    "import xgboost as xgb\n",
    "import numpy as np\n",
    "from sklearn.metrics import mean_squared_error\n",
    "from sklearn.model_selection import cross_val_score\n",
    "from sklearn.model_selection import RepeatedKFold"
   ]
  },
  {
   "cell_type": "code",
   "execution_count": 191,
   "id": "5a83b203-788c-4afc-a469-8cfcc7b7e170",
   "metadata": {},
   "outputs": [],
   "source": [
    "# model = XGBRegressor(n_estimators=1000, max_depth=7, eta=0.1, subsample=0.7, colsample_bytree=0.8)\n",
    "# model = XGBRegressor()"
   ]
  },
  {
   "cell_type": "code",
   "execution_count": 192,
   "id": "f47f85c2-c0c0-4b57-bbf0-04e9e3e0dee2",
   "metadata": {},
   "outputs": [],
   "source": [
    "data = all_csvs1\n",
    "X, y = data.iloc[:, :-2], data.iloc[:, -2]"
   ]
  },
  {
   "cell_type": "code",
   "execution_count": 193,
   "id": "e6a24aab-acfc-439c-a465-62837ec70237",
   "metadata": {},
   "outputs": [],
   "source": [
    "# data = all_csvs1\n",
    "# X, y = data.iloc[:, :-2], data.iloc[:, -1]"
   ]
  },
  {
   "cell_type": "code",
   "execution_count": 194,
   "id": "69a95542-b992-4c63-b830-5d7bade8cd8c",
   "metadata": {},
   "outputs": [
    {
     "data": {
      "text/html": [
       "<div>\n",
       "<style scoped>\n",
       "    .dataframe tbody tr th:only-of-type {\n",
       "        vertical-align: middle;\n",
       "    }\n",
       "\n",
       "    .dataframe tbody tr th {\n",
       "        vertical-align: top;\n",
       "    }\n",
       "\n",
       "    .dataframe thead th {\n",
       "        text-align: right;\n",
       "    }\n",
       "</style>\n",
       "<table border=\"1\" class=\"dataframe\">\n",
       "  <thead>\n",
       "    <tr style=\"text-align: right;\">\n",
       "      <th></th>\n",
       "      <th>1_direction</th>\n",
       "      <th>2_parallel</th>\n",
       "      <th>2_grain</th>\n",
       "      <th>3_densevert</th>\n",
       "      <th>3_vertset</th>\n",
       "      <th>3_direction</th>\n",
       "      <th>nodes</th>\n",
       "      <th>edges</th>\n",
       "      <th>min_deg</th>\n",
       "      <th>max_deg</th>\n",
       "      <th>std_deg</th>\n",
       "      <th>e_entr</th>\n",
       "      <th>d_entr</th>\n",
       "    </tr>\n",
       "  </thead>\n",
       "  <tbody>\n",
       "    <tr>\n",
       "      <th>0</th>\n",
       "      <td>0</td>\n",
       "      <td>0</td>\n",
       "      <td>0</td>\n",
       "      <td>0</td>\n",
       "      <td>1</td>\n",
       "      <td>4</td>\n",
       "      <td>1000</td>\n",
       "      <td>10000</td>\n",
       "      <td>0.0</td>\n",
       "      <td>191.0</td>\n",
       "      <td>13.7547</td>\n",
       "      <td>6.94926</td>\n",
       "      <td>3.24815</td>\n",
       "    </tr>\n",
       "    <tr>\n",
       "      <th>1</th>\n",
       "      <td>0</td>\n",
       "      <td>1</td>\n",
       "      <td>8</td>\n",
       "      <td>1</td>\n",
       "      <td>1</td>\n",
       "      <td>4</td>\n",
       "      <td>1000</td>\n",
       "      <td>10000</td>\n",
       "      <td>0.0</td>\n",
       "      <td>191.0</td>\n",
       "      <td>13.7547</td>\n",
       "      <td>6.94926</td>\n",
       "      <td>3.24815</td>\n",
       "    </tr>\n",
       "    <tr>\n",
       "      <th>2</th>\n",
       "      <td>1</td>\n",
       "      <td>3</td>\n",
       "      <td>1</td>\n",
       "      <td>1</td>\n",
       "      <td>1</td>\n",
       "      <td>4</td>\n",
       "      <td>1000</td>\n",
       "      <td>10000</td>\n",
       "      <td>0.0</td>\n",
       "      <td>191.0</td>\n",
       "      <td>13.7547</td>\n",
       "      <td>6.94926</td>\n",
       "      <td>3.24815</td>\n",
       "    </tr>\n",
       "    <tr>\n",
       "      <th>3</th>\n",
       "      <td>1</td>\n",
       "      <td>3</td>\n",
       "      <td>1</td>\n",
       "      <td>1</td>\n",
       "      <td>1</td>\n",
       "      <td>5</td>\n",
       "      <td>1000</td>\n",
       "      <td>10000</td>\n",
       "      <td>0.0</td>\n",
       "      <td>191.0</td>\n",
       "      <td>13.7547</td>\n",
       "      <td>6.94926</td>\n",
       "      <td>3.24815</td>\n",
       "    </tr>\n",
       "    <tr>\n",
       "      <th>4</th>\n",
       "      <td>1</td>\n",
       "      <td>3</td>\n",
       "      <td>1</td>\n",
       "      <td>1</td>\n",
       "      <td>2</td>\n",
       "      <td>0</td>\n",
       "      <td>1000</td>\n",
       "      <td>10000</td>\n",
       "      <td>0.0</td>\n",
       "      <td>191.0</td>\n",
       "      <td>13.7547</td>\n",
       "      <td>6.94926</td>\n",
       "      <td>3.24815</td>\n",
       "    </tr>\n",
       "    <tr>\n",
       "      <th>...</th>\n",
       "      <td>...</td>\n",
       "      <td>...</td>\n",
       "      <td>...</td>\n",
       "      <td>...</td>\n",
       "      <td>...</td>\n",
       "      <td>...</td>\n",
       "      <td>...</td>\n",
       "      <td>...</td>\n",
       "      <td>...</td>\n",
       "      <td>...</td>\n",
       "      <td>...</td>\n",
       "      <td>...</td>\n",
       "      <td>...</td>\n",
       "    </tr>\n",
       "    <tr>\n",
       "      <th>1483</th>\n",
       "      <td>1</td>\n",
       "      <td>3</td>\n",
       "      <td>1</td>\n",
       "      <td>1</td>\n",
       "      <td>0</td>\n",
       "      <td>5</td>\n",
       "      <td>100000</td>\n",
       "      <td>100000000</td>\n",
       "      <td>0.0</td>\n",
       "      <td>19425.0</td>\n",
       "      <td>1054.5000</td>\n",
       "      <td>11.13520</td>\n",
       "      <td>7.46115</td>\n",
       "    </tr>\n",
       "    <tr>\n",
       "      <th>1484</th>\n",
       "      <td>1</td>\n",
       "      <td>3</td>\n",
       "      <td>1</td>\n",
       "      <td>1</td>\n",
       "      <td>1</td>\n",
       "      <td>0</td>\n",
       "      <td>100000</td>\n",
       "      <td>100000000</td>\n",
       "      <td>0.0</td>\n",
       "      <td>19425.0</td>\n",
       "      <td>1054.5000</td>\n",
       "      <td>11.13520</td>\n",
       "      <td>7.46115</td>\n",
       "    </tr>\n",
       "    <tr>\n",
       "      <th>1485</th>\n",
       "      <td>1</td>\n",
       "      <td>3</td>\n",
       "      <td>1</td>\n",
       "      <td>1</td>\n",
       "      <td>1</td>\n",
       "      <td>1</td>\n",
       "      <td>100000</td>\n",
       "      <td>100000000</td>\n",
       "      <td>0.0</td>\n",
       "      <td>19425.0</td>\n",
       "      <td>1054.5000</td>\n",
       "      <td>11.13520</td>\n",
       "      <td>7.46115</td>\n",
       "    </tr>\n",
       "    <tr>\n",
       "      <th>1486</th>\n",
       "      <td>1</td>\n",
       "      <td>3</td>\n",
       "      <td>1</td>\n",
       "      <td>1</td>\n",
       "      <td>1</td>\n",
       "      <td>2</td>\n",
       "      <td>100000</td>\n",
       "      <td>100000000</td>\n",
       "      <td>0.0</td>\n",
       "      <td>19425.0</td>\n",
       "      <td>1054.5000</td>\n",
       "      <td>11.13520</td>\n",
       "      <td>7.46115</td>\n",
       "    </tr>\n",
       "    <tr>\n",
       "      <th>1487</th>\n",
       "      <td>1</td>\n",
       "      <td>3</td>\n",
       "      <td>1</td>\n",
       "      <td>1</td>\n",
       "      <td>1</td>\n",
       "      <td>3</td>\n",
       "      <td>100000</td>\n",
       "      <td>100000000</td>\n",
       "      <td>0.0</td>\n",
       "      <td>19425.0</td>\n",
       "      <td>1054.5000</td>\n",
       "      <td>11.13520</td>\n",
       "      <td>7.46115</td>\n",
       "    </tr>\n",
       "  </tbody>\n",
       "</table>\n",
       "<p>59520 rows × 13 columns</p>\n",
       "</div>"
      ],
      "text/plain": [
       "      1_direction  2_parallel  2_grain  3_densevert  3_vertset  3_direction  \\\n",
       "0               0           0        0            0          1            4   \n",
       "1               0           1        8            1          1            4   \n",
       "2               1           3        1            1          1            4   \n",
       "3               1           3        1            1          1            5   \n",
       "4               1           3        1            1          2            0   \n",
       "...           ...         ...      ...          ...        ...          ...   \n",
       "1483            1           3        1            1          0            5   \n",
       "1484            1           3        1            1          1            0   \n",
       "1485            1           3        1            1          1            1   \n",
       "1486            1           3        1            1          1            2   \n",
       "1487            1           3        1            1          1            3   \n",
       "\n",
       "       nodes      edges  min_deg  max_deg    std_deg    e_entr   d_entr  \n",
       "0       1000      10000      0.0    191.0    13.7547   6.94926  3.24815  \n",
       "1       1000      10000      0.0    191.0    13.7547   6.94926  3.24815  \n",
       "2       1000      10000      0.0    191.0    13.7547   6.94926  3.24815  \n",
       "3       1000      10000      0.0    191.0    13.7547   6.94926  3.24815  \n",
       "4       1000      10000      0.0    191.0    13.7547   6.94926  3.24815  \n",
       "...      ...        ...      ...      ...        ...       ...      ...  \n",
       "1483  100000  100000000      0.0  19425.0  1054.5000  11.13520  7.46115  \n",
       "1484  100000  100000000      0.0  19425.0  1054.5000  11.13520  7.46115  \n",
       "1485  100000  100000000      0.0  19425.0  1054.5000  11.13520  7.46115  \n",
       "1486  100000  100000000      0.0  19425.0  1054.5000  11.13520  7.46115  \n",
       "1487  100000  100000000      0.0  19425.0  1054.5000  11.13520  7.46115  \n",
       "\n",
       "[59520 rows x 13 columns]"
      ]
     },
     "execution_count": 194,
     "metadata": {},
     "output_type": "execute_result"
    }
   ],
   "source": [
    "X"
   ]
  },
  {
   "cell_type": "code",
   "execution_count": 195,
   "id": "a90cad48-f21a-4135-864a-d18d907e9a88",
   "metadata": {},
   "outputs": [
    {
     "data": {
      "text/plain": [
       "0        0.0317\n",
       "1        0.0297\n",
       "2        0.0381\n",
       "3        0.0359\n",
       "4        0.0353\n",
       "         ...   \n",
       "1483    54.4903\n",
       "1484    50.9036\n",
       "1485    55.3179\n",
       "1486    50.1270\n",
       "1487    49.7669\n",
       "Name: rt, Length: 59520, dtype: float64"
      ]
     },
     "execution_count": 195,
     "metadata": {},
     "output_type": "execute_result"
    }
   ],
   "source": [
    "y"
   ]
  },
  {
   "cell_type": "code",
   "execution_count": 196,
   "id": "19a81ff9-7a67-4e67-b577-db485aeb991f",
   "metadata": {},
   "outputs": [],
   "source": [
    "data_dmatrix = xgb.DMatrix(data=X,label=y)"
   ]
  },
  {
   "cell_type": "code",
   "execution_count": 197,
   "id": "138600ac-ef8e-4ae8-8a88-008cd8ee5e4b",
   "metadata": {},
   "outputs": [],
   "source": [
    "from sklearn.model_selection import train_test_split\n",
    "\n",
    "X_train, X_test, y_train, y_test = train_test_split(X, y, test_size=0.2, random_state=123)"
   ]
  },
  {
   "cell_type": "code",
   "execution_count": 198,
   "id": "dadfd9b3-b287-4060-bf41-feac6ef5a01c",
   "metadata": {},
   "outputs": [],
   "source": [
    "xg_reg = xgb.XGBRegressor(objective ='reg:squarederror', colsample_bytree = 0.9, learning_rate = 0.3,\n",
    "                max_depth = 15, alpha = 20, n_estimators = 100)"
   ]
  },
  {
   "cell_type": "code",
   "execution_count": 199,
   "id": "d82d5d1a-ec61-41d3-a873-cb835eca1ca0",
   "metadata": {},
   "outputs": [],
   "source": [
    "# xg_reg = xgb.XGBRegressor(objective ='reg:tweedie', colsample_bytree = 1, learning_rate = 0.3,\n",
    "#                 max_depth = 15, alpha = 20, n_estimators = 100)"
   ]
  },
  {
   "cell_type": "code",
   "execution_count": 200,
   "id": "e2a3ebb5-ea7f-45e9-a5d7-fb8e7ad6c5c5",
   "metadata": {},
   "outputs": [],
   "source": [
    "xg_reg.fit(X_train,y_train)\n",
    "\n",
    "preds = xg_reg.predict(X_test)"
   ]
  },
  {
   "cell_type": "code",
   "execution_count": 201,
   "id": "93fe2d7a-21c1-4ee3-b671-d4f2726166b6",
   "metadata": {},
   "outputs": [
    {
     "data": {
      "text/plain": [
       "1367    17.0611\n",
       "93       0.5026\n",
       "188      0.3411\n",
       "851      1.4799\n",
       "57       0.8953\n",
       "         ...   \n",
       "570      0.3616\n",
       "939      0.8579\n",
       "604      2.2380\n",
       "200      0.0284\n",
       "719     33.4909\n",
       "Name: rt, Length: 11904, dtype: float64"
      ]
     },
     "execution_count": 201,
     "metadata": {},
     "output_type": "execute_result"
    }
   ],
   "source": [
    "y_test"
   ]
  },
  {
   "cell_type": "code",
   "execution_count": 202,
   "id": "7f3344ad-3e4a-4113-91c6-e4a8f8c3332b",
   "metadata": {},
   "outputs": [],
   "source": [
    "# pred_df = pd.DataFrame(10**(y_test))\n",
    "# pred_df['pred'] = 10**preds"
   ]
  },
  {
   "cell_type": "code",
   "execution_count": 203,
   "id": "38ae3ab6-4a7e-4de6-8957-a253108e27cf",
   "metadata": {},
   "outputs": [],
   "source": [
    "pred_df = pd.DataFrame(y_test)\n",
    "pred_df['pred'] = preds"
   ]
  },
  {
   "cell_type": "code",
   "execution_count": 204,
   "id": "7b5edfc1-6193-48a6-9126-fc8a608284b4",
   "metadata": {},
   "outputs": [
    {
     "data": {
      "text/html": [
       "<div>\n",
       "<style scoped>\n",
       "    .dataframe tbody tr th:only-of-type {\n",
       "        vertical-align: middle;\n",
       "    }\n",
       "\n",
       "    .dataframe tbody tr th {\n",
       "        vertical-align: top;\n",
       "    }\n",
       "\n",
       "    .dataframe thead th {\n",
       "        text-align: right;\n",
       "    }\n",
       "</style>\n",
       "<table border=\"1\" class=\"dataframe\">\n",
       "  <thead>\n",
       "    <tr style=\"text-align: right;\">\n",
       "      <th></th>\n",
       "      <th>rt</th>\n",
       "      <th>pred</th>\n",
       "    </tr>\n",
       "  </thead>\n",
       "  <tbody>\n",
       "    <tr>\n",
       "      <th>0</th>\n",
       "      <td>0.0071</td>\n",
       "      <td>0.009446</td>\n",
       "    </tr>\n",
       "    <tr>\n",
       "      <th>1</th>\n",
       "      <td>0.0071</td>\n",
       "      <td>0.007215</td>\n",
       "    </tr>\n",
       "    <tr>\n",
       "      <th>2</th>\n",
       "      <td>0.0073</td>\n",
       "      <td>0.008295</td>\n",
       "    </tr>\n",
       "    <tr>\n",
       "      <th>3</th>\n",
       "      <td>0.0073</td>\n",
       "      <td>0.002782</td>\n",
       "    </tr>\n",
       "    <tr>\n",
       "      <th>4</th>\n",
       "      <td>0.0074</td>\n",
       "      <td>0.005239</td>\n",
       "    </tr>\n",
       "    <tr>\n",
       "      <th>...</th>\n",
       "      <td>...</td>\n",
       "      <td>...</td>\n",
       "    </tr>\n",
       "    <tr>\n",
       "      <th>11899</th>\n",
       "      <td>231.5513</td>\n",
       "      <td>198.711975</td>\n",
       "    </tr>\n",
       "    <tr>\n",
       "      <th>11900</th>\n",
       "      <td>254.1140</td>\n",
       "      <td>220.844635</td>\n",
       "    </tr>\n",
       "    <tr>\n",
       "      <th>11901</th>\n",
       "      <td>278.7549</td>\n",
       "      <td>221.788559</td>\n",
       "    </tr>\n",
       "    <tr>\n",
       "      <th>11902</th>\n",
       "      <td>309.3920</td>\n",
       "      <td>233.161011</td>\n",
       "    </tr>\n",
       "    <tr>\n",
       "      <th>11903</th>\n",
       "      <td>357.9921</td>\n",
       "      <td>246.541687</td>\n",
       "    </tr>\n",
       "  </tbody>\n",
       "</table>\n",
       "<p>11904 rows × 2 columns</p>\n",
       "</div>"
      ],
      "text/plain": [
       "             rt        pred\n",
       "0        0.0071    0.009446\n",
       "1        0.0071    0.007215\n",
       "2        0.0073    0.008295\n",
       "3        0.0073    0.002782\n",
       "4        0.0074    0.005239\n",
       "...         ...         ...\n",
       "11899  231.5513  198.711975\n",
       "11900  254.1140  220.844635\n",
       "11901  278.7549  221.788559\n",
       "11902  309.3920  233.161011\n",
       "11903  357.9921  246.541687\n",
       "\n",
       "[11904 rows x 2 columns]"
      ]
     },
     "execution_count": 204,
     "metadata": {},
     "output_type": "execute_result"
    }
   ],
   "source": [
    "p1 = pred_df.sort_values(by=['rt']).reset_index(drop=True)\n",
    "p1"
   ]
  },
  {
   "cell_type": "code",
   "execution_count": 205,
   "id": "d56ad894-7705-49da-908a-edc623a8ac01",
   "metadata": {},
   "outputs": [],
   "source": [
    "# p1 = pred_df.sort_values(by=['lrt']).reset_index(drop=True)\n",
    "# p1.describe()"
   ]
  },
  {
   "cell_type": "code",
   "execution_count": 206,
   "id": "698822c3-dd00-48bd-bdec-d73251ac3a87",
   "metadata": {},
   "outputs": [
    {
     "data": {
      "image/png": "[encoded data removed]",
      "text/plain": [
       "<Figure size 360x360 with 2 Axes>"
      ]
     },
     "metadata": {
      "needs_background": "light"
     },
     "output_type": "display_data"
    }
   ],
   "source": [
    "ax = p1.plot.line(subplots=True)"
   ]
  },
  {
   "cell_type": "code",
   "execution_count": 207,
   "id": "2d29bb99-23da-4f3c-adb2-69fd893f4165",
   "metadata": {},
   "outputs": [
    {
     "data": {
      "image/png": "[encoded data removed]",
      "text/plain": [
       "<Figure size 360x360 with 1 Axes>"
      ]
     },
     "metadata": {
      "needs_background": "light"
     },
     "output_type": "display_data"
    }
   ],
   "source": [
    "p2 = p1\n",
    "p2['diff'] = (p1['rt']-p1['pred'])/p1['rt']\n",
    "p2 = p2.drop(columns=['pred'])\n",
    "ax2 = p2.plot.line(x='rt', y='diff', subplots=True)"
   ]
  },
  {
   "cell_type": "code",
   "execution_count": 208,
   "id": "fdfb9bb0-3ca9-4749-8634-e7876c91cd35",
   "metadata": {},
   "outputs": [
    {
     "data": {
      "text/plain": [
       "array([<AxesSubplot:>], dtype=object)"
      ]
     },
     "execution_count": 208,
     "metadata": {},
     "output_type": "execute_result"
    },
    {
     "data": {
      "image/png": "[encoded data removed]",
      "text/plain": [
       "<Figure size 360x360 with 1 Axes>"
      ]
     },
     "metadata": {
      "needs_background": "light"
     },
     "output_type": "display_data"
    }
   ],
   "source": [
    "p3 = p2.drop(columns=['rt'])\n",
    "p3.plot.line(subplots=True)"
   ]
  },
  {
   "cell_type": "code",
   "execution_count": 209,
   "id": "6cc0fa07-3918-47b0-a760-d8327af36c1a",
   "metadata": {},
   "outputs": [],
   "source": [
    "# p2 = p1\n",
    "# p2['diff'] = (p1['lrt']-p1['pred'])/p1['lrt']\n",
    "# p2 = p2.drop(columns=['pred'])\n",
    "# ax2 = p2.plot.line(x='lrt', y='diff', subplots=True)"
   ]
  },
  {
   "cell_type": "code",
   "execution_count": 210,
   "id": "b09d30d1-70c9-4178-bb7d-f5efb8c3bf5f",
   "metadata": {},
   "outputs": [
    {
     "data": {
      "text/html": [
       "<div>\n",
       "<style scoped>\n",
       "    .dataframe tbody tr th:only-of-type {\n",
       "        vertical-align: middle;\n",
       "    }\n",
       "\n",
       "    .dataframe tbody tr th {\n",
       "        vertical-align: top;\n",
       "    }\n",
       "\n",
       "    .dataframe thead th {\n",
       "        text-align: right;\n",
       "    }\n",
       "</style>\n",
       "<table border=\"1\" class=\"dataframe\">\n",
       "  <thead>\n",
       "    <tr style=\"text-align: right;\">\n",
       "      <th></th>\n",
       "      <th>rt</th>\n",
       "      <th>diff</th>\n",
       "    </tr>\n",
       "  </thead>\n",
       "  <tbody>\n",
       "    <tr>\n",
       "      <th>0</th>\n",
       "      <td>0.0071</td>\n",
       "      <td>-0.330455</td>\n",
       "    </tr>\n",
       "    <tr>\n",
       "      <th>1</th>\n",
       "      <td>0.0071</td>\n",
       "      <td>-0.016249</td>\n",
       "    </tr>\n",
       "    <tr>\n",
       "      <th>2</th>\n",
       "      <td>0.0073</td>\n",
       "      <td>-0.136321</td>\n",
       "    </tr>\n",
       "    <tr>\n",
       "      <th>3</th>\n",
       "      <td>0.0073</td>\n",
       "      <td>0.618972</td>\n",
       "    </tr>\n",
       "    <tr>\n",
       "      <th>4</th>\n",
       "      <td>0.0074</td>\n",
       "      <td>0.291985</td>\n",
       "    </tr>\n",
       "    <tr>\n",
       "      <th>...</th>\n",
       "      <td>...</td>\n",
       "      <td>...</td>\n",
       "    </tr>\n",
       "    <tr>\n",
       "      <th>11899</th>\n",
       "      <td>231.5513</td>\n",
       "      <td>0.141823</td>\n",
       "    </tr>\n",
       "    <tr>\n",
       "      <th>11900</th>\n",
       "      <td>254.1140</td>\n",
       "      <td>0.130923</td>\n",
       "    </tr>\n",
       "    <tr>\n",
       "      <th>11901</th>\n",
       "      <td>278.7549</td>\n",
       "      <td>0.204360</td>\n",
       "    </tr>\n",
       "    <tr>\n",
       "      <th>11902</th>\n",
       "      <td>309.3920</td>\n",
       "      <td>0.246390</td>\n",
       "    </tr>\n",
       "    <tr>\n",
       "      <th>11903</th>\n",
       "      <td>357.9921</td>\n",
       "      <td>0.311321</td>\n",
       "    </tr>\n",
       "  </tbody>\n",
       "</table>\n",
       "<p>11904 rows × 2 columns</p>\n",
       "</div>"
      ],
      "text/plain": [
       "             rt      diff\n",
       "0        0.0071 -0.330455\n",
       "1        0.0071 -0.016249\n",
       "2        0.0073 -0.136321\n",
       "3        0.0073  0.618972\n",
       "4        0.0074  0.291985\n",
       "...         ...       ...\n",
       "11899  231.5513  0.141823\n",
       "11900  254.1140  0.130923\n",
       "11901  278.7549  0.204360\n",
       "11902  309.3920  0.246390\n",
       "11903  357.9921  0.311321\n",
       "\n",
       "[11904 rows x 2 columns]"
      ]
     },
     "execution_count": 210,
     "metadata": {},
     "output_type": "execute_result"
    }
   ],
   "source": [
    "p2"
   ]
  },
  {
   "cell_type": "code",
   "execution_count": 211,
   "id": "67de1237-3ce7-4eb8-8708-f4249ff348ad",
   "metadata": {},
   "outputs": [
    {
     "name": "stdout",
     "output_type": "stream",
     "text": [
      "RMSE: 1.208835\n"
     ]
    }
   ],
   "source": [
    "preds = xg_reg.predict(X_train)\n",
    "rmse = np.sqrt(mean_squared_error(y_train, preds))\n",
    "print(\"RMSE: %f\" % (rmse))"
   ]
  },
  {
   "cell_type": "code",
   "execution_count": 212,
   "id": "fdb0f8a9-33f2-4027-8e25-fde5deae5f1c",
   "metadata": {},
   "outputs": [
    {
     "name": "stdout",
     "output_type": "stream",
     "text": [
      "RMSE: 2.782375\n"
     ]
    }
   ],
   "source": [
    "preds = xg_reg.predict(X_test)\n",
    "rmse = np.sqrt(mean_squared_error(y_test, preds))\n",
    "print(\"RMSE: %f\" % (rmse))"
   ]
  },
  {
   "cell_type": "code",
   "execution_count": 177,
   "id": "26b70e02-4e5f-4cd1-8dc0-d33a9c557ca3",
   "metadata": {},
   "outputs": [],
   "source": [
    "# preds = xg_reg.predict(X_train)\n",
    "# rmse = np.sqrt(mean_squared_error(10**y_train, 10**preds))\n",
    "# print(\"RMSE: %f\" % (rmse))"
   ]
  },
  {
   "cell_type": "code",
   "execution_count": 178,
   "id": "2f9af01c-c325-495e-8c5e-fb2030af5602",
   "metadata": {},
   "outputs": [],
   "source": [
    "# preds = xg_reg.predict(X_test)\n",
    "# rmse = np.sqrt(mean_squared_error(10**y_test, 10**preds))\n",
    "# print(\"RMSE: %f\" % (rmse))"
   ]
  },
  {
   "cell_type": "code",
   "execution_count": 179,
   "id": "b4c8a1ea-e7c8-4658-9ef7-95adfe3c7c23",
   "metadata": {},
   "outputs": [
    {
     "data": {
      "image/png": "[encoded data removed]",
      "text/plain": [
       "<Figure size 432x288 with 1 Axes>"
      ]
     },
     "metadata": {
      "needs_background": "light"
     },
     "output_type": "display_data"
    }
   ],
   "source": [
    "import matplotlib.pyplot as plt\n",
    "xgb.plot_importance(xg_reg)\n",
    "plt.rcParams['figure.figsize'] = [5, 5]\n",
    "plt.show()"
   ]
  },
  {
   "cell_type": "code",
   "execution_count": 44,
   "id": "de3d0e6c-a843-43ea-b498-8ba7c800a0bb",
   "metadata": {},
   "outputs": [],
   "source": [
    "params = {\"objective\":\"reg:squarederror\",'colsample_bytree': 0.5,'learning_rate': 0.3,\n",
    "                'max_depth': 15, 'alpha': 20}\n",
    "\n",
    "cv_results = xgb.cv(dtrain=data_dmatrix, params=params, nfold=3,\n",
    "                    num_boost_round=50,early_stopping_rounds=10,metrics=\"rmse\", as_pandas=True, seed=123)"
   ]
  },
  {
   "cell_type": "code",
   "execution_count": 45,
   "id": "ea1d4082-5449-4f56-9e2d-8ea7c26aef65",
   "metadata": {},
   "outputs": [
    {
     "data": {
      "text/html": [
       "<div>\n",
       "<style scoped>\n",
       "    .dataframe tbody tr th:only-of-type {\n",
       "        vertical-align: middle;\n",
       "    }\n",
       "\n",
       "    .dataframe tbody tr th {\n",
       "        vertical-align: top;\n",
       "    }\n",
       "\n",
       "    .dataframe thead th {\n",
       "        text-align: right;\n",
       "    }\n",
       "</style>\n",
       "<table border=\"1\" class=\"dataframe\">\n",
       "  <thead>\n",
       "    <tr style=\"text-align: right;\">\n",
       "      <th></th>\n",
       "      <th>train-rmse-mean</th>\n",
       "      <th>train-rmse-std</th>\n",
       "      <th>test-rmse-mean</th>\n",
       "      <th>test-rmse-std</th>\n",
       "    </tr>\n",
       "  </thead>\n",
       "  <tbody>\n",
       "    <tr>\n",
       "      <th>0</th>\n",
       "      <td>31.226482</td>\n",
       "      <td>0.146232</td>\n",
       "      <td>31.227226</td>\n",
       "      <td>0.296705</td>\n",
       "    </tr>\n",
       "    <tr>\n",
       "      <th>1</th>\n",
       "      <td>28.767111</td>\n",
       "      <td>0.703135</td>\n",
       "      <td>28.759592</td>\n",
       "      <td>0.274407</td>\n",
       "    </tr>\n",
       "    <tr>\n",
       "      <th>2</th>\n",
       "      <td>26.541520</td>\n",
       "      <td>0.566732</td>\n",
       "      <td>26.536295</td>\n",
       "      <td>0.504234</td>\n",
       "    </tr>\n",
       "    <tr>\n",
       "      <th>3</th>\n",
       "      <td>24.925292</td>\n",
       "      <td>0.567148</td>\n",
       "      <td>24.930500</td>\n",
       "      <td>0.720729</td>\n",
       "    </tr>\n",
       "    <tr>\n",
       "      <th>4</th>\n",
       "      <td>23.329418</td>\n",
       "      <td>0.181434</td>\n",
       "      <td>23.333975</td>\n",
       "      <td>0.260645</td>\n",
       "    </tr>\n",
       "  </tbody>\n",
       "</table>\n",
       "</div>"
      ],
      "text/plain": [
       "   train-rmse-mean  train-rmse-std  test-rmse-mean  test-rmse-std\n",
       "0        31.226482        0.146232       31.227226       0.296705\n",
       "1        28.767111        0.703135       28.759592       0.274407\n",
       "2        26.541520        0.566732       26.536295       0.504234\n",
       "3        24.925292        0.567148       24.930500       0.720729\n",
       "4        23.329418        0.181434       23.333975       0.260645"
      ]
     },
     "execution_count": 45,
     "metadata": {},
     "output_type": "execute_result"
    }
   ],
   "source": [
    "cv_results.head()"
   ]
  },
  {
   "cell_type": "code",
   "execution_count": null,
   "id": "1f9b40bc-1ec9-45e1-b764-adbe6434cdb3",
   "metadata": {},
   "outputs": [],
   "source": []
  },
  {
   "cell_type": "code",
   "execution_count": 32,
   "id": "22d6f450-f11b-4792-886c-28c8deab886b",
   "metadata": {},
   "outputs": [
    {
     "data": {
      "text/plain": [
       "XGBRegressor(base_score=0.5, booster='gbtree', colsample_bylevel=1,\n",
       "             colsample_bynode=1, colsample_bytree=1, enable_categorical=False,\n",
       "             gamma=0, gpu_id=-1, importance_type=None,\n",
       "             interaction_constraints='', learning_rate=0.300000012,\n",
       "             max_delta_step=0, max_depth=6, min_child_weight=1, missing=nan,\n",
       "             monotone_constraints='()', n_estimators=100, n_jobs=16,\n",
       "             num_parallel_tree=1, predictor='auto', random_state=0, reg_alpha=0,\n",
       "             reg_lambda=1, scale_pos_weight=1, subsample=1, tree_method='exact',\n",
       "             validate_parameters=1, verbosity=None)"
      ]
     },
     "execution_count": 32,
     "metadata": {},
     "output_type": "execute_result"
    }
   ],
   "source": [
    "model.fit(X,y)"
   ]
  },
  {
   "cell_type": "code",
   "execution_count": 19,
   "id": "a56e4270-24d8-4af2-be94-b40405f8b0f9",
   "metadata": {},
   "outputs": [],
   "source": [
    "import math"
   ]
  },
  {
   "cell_type": "code",
   "execution_count": 20,
   "id": "d0473ffa-da52-4c78-89c9-4559af14014d",
   "metadata": {},
   "outputs": [],
   "source": [
    "a = [[0, 40, 0.564647, 27.3417, 1.44241, 0.353307, 0.509625],\n",
    "[0, 40, 0.565296, 26.921, 1.4421, 0.359346, 0.384126],\n",
    "[0, 40, 0.582933, 26.3173, 1.44106, 0.375053, 0.253002],\n",
    "[0, 40, 0.612663, 25.265, 1.43802, 0.345509, 0.127268],\n",
    "[0, 40, 0.61513, 23.8998, 1.43516, 0.346032, 0.0511112],\n",
    "[0, 39, 0.565429, 22.9031, 1.43504, 0.354466, 0.0260027],\n",
    "[0, 38, 0.542608, 20.5543, 1.43232, 0.359988, 0.00488739]]"
   ]
  },
  {
   "cell_type": "code",
   "execution_count": 21,
   "id": "b1016fdf-0307-44cb-8b07-d385e99e811d",
   "metadata": {},
   "outputs": [
    {
     "name": "stdout",
     "output_type": "stream",
     "text": [
      "100.0 0.509625 100.0\n",
      "99.66497875326739 0.384126 75.37424576894776\n",
      "98.58425301820375 0.253002 49.64473877851361\n",
      "96.71931404515499 0.127268 24.972872209958304\n",
      "95.59365500957789 0.0511112 10.029178317390238\n",
      "96.12334892229933 0.0260027 5.102320333578612\n",
      "93.11459543455834 0.00488739 0.9590169242089772\n"
     ]
    }
   ],
   "source": [
    "b0 = [100,75,50,25,10,5,1]\n",
    "b1 = []\n",
    "b2 = []\n",
    "b3 = []\n",
    "\n",
    "\n",
    "for x in a:\n",
    "    a1 = 0\n",
    "    for y in range(1,5):\n",
    "        err = abs(a[0][y] - x[y])/a[0][y]\n",
    "        a2 = 1 - err\n",
    "        a1 += a2\n",
    "    b1.append((a1/5 + 0.20)*100)\n",
    "    b2.append(x[6])\n",
    "    b3.append(x[6]/a[0][6]*100)\n",
    "    print((a1/5 + 0.20)*100, x[6], x[6]/a[0][6]*100)"
   ]
  },
  {
   "cell_type": "code",
   "execution_count": 25,
   "id": "b9bd7e52-21eb-4dae-8171-da2e66c680c4",
   "metadata": {},
   "outputs": [],
   "source": [
    "df_para = pd.DataFrame({'Acc' : b1, 'Time' : b2, 'Time Percen' : b3, 'Percen': b0})"
   ]
  },
  {
   "cell_type": "code",
   "execution_count": 26,
   "id": "fcc2d8c7-141f-4205-b399-813a8422e032",
   "metadata": {},
   "outputs": [
    {
     "data": {
      "text/html": [
       "<div>\n",
       "<style scoped>\n",
       "    .dataframe tbody tr th:only-of-type {\n",
       "        vertical-align: middle;\n",
       "    }\n",
       "\n",
       "    .dataframe tbody tr th {\n",
       "        vertical-align: top;\n",
       "    }\n",
       "\n",
       "    .dataframe thead th {\n",
       "        text-align: right;\n",
       "    }\n",
       "</style>\n",
       "<table border=\"1\" class=\"dataframe\">\n",
       "  <thead>\n",
       "    <tr style=\"text-align: right;\">\n",
       "      <th></th>\n",
       "      <th>Acc</th>\n",
       "      <th>Time</th>\n",
       "      <th>Time Percen</th>\n",
       "      <th>Percen</th>\n",
       "    </tr>\n",
       "  </thead>\n",
       "  <tbody>\n",
       "    <tr>\n",
       "      <th>0</th>\n",
       "      <td>100.000000</td>\n",
       "      <td>0.509625</td>\n",
       "      <td>100.000000</td>\n",
       "      <td>100</td>\n",
       "    </tr>\n",
       "    <tr>\n",
       "      <th>1</th>\n",
       "      <td>99.664979</td>\n",
       "      <td>0.384126</td>\n",
       "      <td>75.374246</td>\n",
       "      <td>75</td>\n",
       "    </tr>\n",
       "    <tr>\n",
       "      <th>2</th>\n",
       "      <td>98.584253</td>\n",
       "      <td>0.253002</td>\n",
       "      <td>49.644739</td>\n",
       "      <td>50</td>\n",
       "    </tr>\n",
       "    <tr>\n",
       "      <th>3</th>\n",
       "      <td>96.719314</td>\n",
       "      <td>0.127268</td>\n",
       "      <td>24.972872</td>\n",
       "      <td>25</td>\n",
       "    </tr>\n",
       "    <tr>\n",
       "      <th>4</th>\n",
       "      <td>95.593655</td>\n",
       "      <td>0.051111</td>\n",
       "      <td>10.029178</td>\n",
       "      <td>10</td>\n",
       "    </tr>\n",
       "    <tr>\n",
       "      <th>5</th>\n",
       "      <td>96.123349</td>\n",
       "      <td>0.026003</td>\n",
       "      <td>5.102320</td>\n",
       "      <td>5</td>\n",
       "    </tr>\n",
       "    <tr>\n",
       "      <th>6</th>\n",
       "      <td>93.114595</td>\n",
       "      <td>0.004887</td>\n",
       "      <td>0.959017</td>\n",
       "      <td>1</td>\n",
       "    </tr>\n",
       "  </tbody>\n",
       "</table>\n",
       "</div>"
      ],
      "text/plain": [
       "          Acc      Time  Time Percen  Percen\n",
       "0  100.000000  0.509625   100.000000     100\n",
       "1   99.664979  0.384126    75.374246      75\n",
       "2   98.584253  0.253002    49.644739      50\n",
       "3   96.719314  0.127268    24.972872      25\n",
       "4   95.593655  0.051111    10.029178      10\n",
       "5   96.123349  0.026003     5.102320       5\n",
       "6   93.114595  0.004887     0.959017       1"
      ]
     },
     "execution_count": 26,
     "metadata": {},
     "output_type": "execute_result"
    }
   ],
   "source": [
    "df_para"
   ]
  },
  {
   "cell_type": "code",
   "execution_count": 37,
   "id": "682b9ecb-980f-4787-97eb-c0c99171bbdb",
   "metadata": {},
   "outputs": [
    {
     "data": {
      "image/png": "[encoded data removed]",
      "text/plain": [
       "<Figure size 1080x720 with 3 Axes>"
      ]
     },
     "metadata": {
      "needs_background": "light"
     },
     "output_type": "display_data"
    }
   ],
   "source": [
    "ax_1 = df_para.plot.line(x='Percen', subplots=True, figsize=(15,10))"
   ]
  },
  {
   "cell_type": "code",
   "execution_count": 31,
   "id": "4eb74552-fe07-4a23-8f5c-fcf020cc2bbe",
   "metadata": {},
   "outputs": [
    {
     "ename": "AttributeError",
     "evalue": "'numpy.ndarray' object has no attribute 'savefig'",
     "output_type": "error",
     "traceback": [
      "\u001b[0;31m---------------------------------------------------------------------------\u001b[0m",
      "\u001b[0;31mAttributeError\u001b[0m                            Traceback (most recent call last)",
      "\u001b[0;32m<ipython-input-31-c46245aefc43>\u001b[0m in \u001b[0;36m<module>\u001b[0;34m\u001b[0m\n\u001b[0;32m----> 1\u001b[0;31m \u001b[0max_1\u001b[0m\u001b[0;34m.\u001b[0m\u001b[0msavefig\u001b[0m\u001b[0;34m(\u001b[0m\u001b[0;34m'filename.png'\u001b[0m\u001b[0;34m,\u001b[0m \u001b[0mdpi\u001b[0m\u001b[0;34m=\u001b[0m\u001b[0;36m300\u001b[0m\u001b[0;34m)\u001b[0m\u001b[0;34m\u001b[0m\u001b[0;34m\u001b[0m\u001b[0m\n\u001b[0m",
      "\u001b[0;31mAttributeError\u001b[0m: 'numpy.ndarray' object has no attribute 'savefig'"
     ]
    }
   ],
   "source": [
    "ax_1.savefig('filename.png', dpi=300)"
   ]
  },
  {
   "cell_type": "code",
   "execution_count": null,
   "id": "79e9ed41-2ca7-468f-a781-beabfce70648",
   "metadata": {},
   "outputs": [],
   "source": []
  }
 ],
 "metadata": {
  "kernelspec": {
   "display_name": "Python 3",
   "language": "python",
   "name": "python3"
  },
  "language_info": {
   "codemirror_mode": {
    "name": "ipython",
    "version": 3
   },
   "file_extension": ".py",
   "mimetype": "text/x-python",
   "name": "python",
   "nbconvert_exporter": "python",
   "pygments_lexer": "ipython3",
   "version": "3.8.8"
  }
 },
 "nbformat": 4,
 "nbformat_minor": 5
}
